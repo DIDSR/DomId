{
 "cells": [
  {
   "cell_type": "code",
   "execution_count": 1,
   "id": "1fbfac92",
   "metadata": {},
   "outputs": [],
   "source": [
    "import os\n",
    "\n",
    "import matplotlib.pyplot as plt\n",
    "\n",
    "# import seaborn as sns\n",
    "import numpy as np\n",
    "\n",
    "import pandas as pd\n",
    "from sklearn.manifold import TSNE\n",
    "\n",
    "from sklearn.metrics import confusion_matrix\n",
    "from scipy.optimize import linear_sum_assignment"
   ]
  },
  {
   "cell_type": "code",
   "execution_count": 2,
   "id": "429a5323-b46a-44b9-b58a-08988069d237",
   "metadata": {},
   "outputs": [],
   "source": [
    "HER2_PATH_BASEPATH = '/storage6T/HER2/'\n",
    "HER2_PATH = '/storage6T/HER2/Testing_fixed/categorized/combined_train/'"
   ]
  },
  {
   "cell_type": "markdown",
   "id": "1fb5a4eb-184c-46ba-9921-e2832096549b",
   "metadata": {
    "jp-MarkdownHeadingCollapsed": true
   },
   "source": [
    "## Helper functions"
   ]
  },
  {
   "cell_type": "code",
   "execution_count": 3,
   "id": "b6cf1613",
   "metadata": {},
   "outputs": [],
   "source": [
    "def load_files(path):\n",
    "    df = pd.read_csv(path+'clustering_results.csv')\n",
    "    \n",
    "    domain = df['predictions'].values\n",
    "    \n",
    "    vec_d = df['vec_d_labels'].values\n",
    "    vec_y = df['vec_y_labels'].values\n",
    "    img_locs = df['image_id_labels'].values\n",
    "\n",
    "    Z = np.load(path + \"Z_space.npy\")\n",
    "\n",
    "    #args = np.loadtxt(path + \"arguments.txt\", dtype=str, usecols=0)  # , delimiter = '\\n')\n",
    "    #img_locs = np.loadtxt(path + \"img_id.txt\", dtype=str)\n",
    "    \n",
    "    return domain, vec_d, vec_y, img_locs"
   ]
  },
  {
   "cell_type": "code",
   "execution_count": 4,
   "id": "5a97fe58",
   "metadata": {},
   "outputs": [],
   "source": [
    "def mean_scores_per_experiment(scores, img_locs):\n",
    "    \"\"\"\n",
    "    Parser to get mean scores per image from the cvs file.\n",
    "    The name of the images in the folders are slightly different from the names in the csv file.\n",
    "\n",
    "    \"\"\"\n",
    "\n",
    "    M = []\n",
    "\n",
    "    for prediction in img_locs:\n",
    "        try:\n",
    "            prediction = str(\n",
    "                prediction.split(\"/\")[-1]\n",
    "            )  # depending if the path is full or not, take the img name only\n",
    "        except:\n",
    "            \"not full path\"\n",
    "\n",
    "        if \"s\" in prediction:\n",
    "\n",
    "            N = len(prediction) - 4 - 5\n",
    "            # print(N, prediction[:N])\n",
    "            # print(scores.loc[scores['file name'].str.contains(prediction[:N])])\n",
    "            mean_score = scores.loc[\n",
    "                scores[\"file name\"].str.contains(prediction[:N])\n",
    "            ].mean(axis=1, numeric_only=True)\n",
    "        if \"S\" in prediction:\n",
    "\n",
    "            N = len(prediction) - 4 - 5\n",
    "            # print(N, prediction[:N])\n",
    "            # print(scores.loc[scores['file name'].str.contains(prediction[:N])])\n",
    "            mean_score = scores.loc[\n",
    "                scores[\"file name\"].str.contains(prediction[:N])\n",
    "            ].mean(axis=1, numeric_only=True)\n",
    "        else:\n",
    "            N = len(prediction) - 6\n",
    "            # print('secod case', N, prediction[:N])\n",
    "            # print(scores.loc[scores['file name'].str.contains(prediction[:N])])\n",
    "            mean_score = scores.loc[\n",
    "                scores[\"file name\"].str.contains(prediction[:N])\n",
    "            ].mean(axis=1, numeric_only=True)\n",
    "            # print(mean_score)\n",
    "        mean_score = float(mean_score)\n",
    "        # print(mean_score)\n",
    "        M.append(mean_score)\n",
    "    return M"
   ]
  },
  {
   "cell_type": "code",
   "execution_count": 5,
   "id": "6e5fe690-4627-4df3-a1d7-52365122ada2",
   "metadata": {
    "scrolled": true
   },
   "outputs": [],
   "source": [
    "def correlation_with_her2_class_label(cluster_pred_scalar, cluster_true_scalar):\n",
    "\n",
    "    cluster_pred_scalar = [item-1 for item in cluster_pred_scalar]\n",
    "    cost = np.zeros((len(np.unique(cluster_pred_scalar)),len(np.unique(cluster_pred_scalar))))\n",
    "    cost = cost - confusion_matrix(cluster_pred_scalar, cluster_true_scalar)\n",
    "\n",
    "    # What is the best permutation?\n",
    "    row_ind, col_ind = linear_sum_assignment(cost)\n",
    "    # Note that row_ind will be equal to [0, 1, ..., cost.shape[0]] because cost is a square matrix.\n",
    "    conf_mat = (-1)*cost[:, col_ind]\n",
    "    # Accuracy for best permutation:\n",
    "    acc_d = np.diag(conf_mat).sum() / conf_mat.sum()\n",
    "    print('Average correlation with the HER2 class labels', acc_d)"
   ]
  },
  {
   "cell_type": "markdown",
   "id": "05785db6-fba1-4439-9736-6cf84807d2e0",
   "metadata": {},
   "source": [
    "## Load the experimental results"
   ]
  },
  {
   "cell_type": "code",
   "execution_count": 6,
   "id": "6011430e",
   "metadata": {},
   "outputs": [],
   "source": [
    "# Please insert yout path to the directory containing the csv file associated with HER2 data (that contains scores)\n",
    "# base_path = \"../../../DomId/HER2\"\n",
    "base_path = HER2_PATH_BASEPATH\n",
    "\n",
    "scores = pd.read_csv(\n",
    "    os.path.join(base_path, \"truthfile_002.csv\"),\n",
    "    names=[\"num\", \"file name\", \"s1\", \"s2\", \"s3\", \"s4\", \"s5\", \"s6\", \"s_7\"],\n",
    ")"
   ]
  },
  {
   "cell_type": "code",
   "execution_count": 7,
   "id": "85d17b16",
   "metadata": {},
   "outputs": [],
   "source": [
    "# put path for vade, cdvade, dec experiments' results in here\n",
    "ex_vade = './2024-04-16_17:15:40.338172_her2_vade/'  # vade\n",
    "ex_cdvade = './2024-04-16_18:23:41.357723_her2_vade/'  # cdvade\n",
    "ex_dec = './2024-04-16_17:49:57.887274_her2_dec/'   # dec"
   ]
  },
  {
   "cell_type": "code",
   "execution_count": 8,
   "id": "6dd2cd5c",
   "metadata": {},
   "outputs": [],
   "source": [
    "# Load the results of the experiment:\n",
    "domain_vade, vec_d_vade, vec_y_vade, img_locs_vade = load_files(ex_vade)\n",
    "# Load the pathologist assigned HER2 scores:\n",
    "M_vade= mean_scores_per_experiment(scores, img_locs_vade)"
   ]
  },
  {
   "cell_type": "code",
   "execution_count": 9,
   "id": "75c761c4",
   "metadata": {},
   "outputs": [],
   "source": [
    "# Load the results of the experiment:\n",
    "domain_cdvade,vec_d_cdvade, vec_y_cdvade, img_locs_cdvade = load_files(ex_cdvade)\n",
    "# Load the pathologist assigned HER2 scores:\n",
    "M_cdvade = mean_scores_per_experiment(scores, img_locs_cdvade)"
   ]
  },
  {
   "cell_type": "code",
   "execution_count": 10,
   "id": "644c422d",
   "metadata": {},
   "outputs": [],
   "source": [
    "# Load the results of the experiment:\n",
    "domain_dec, vec_d_dec, vec_y_dec, img_locs_dec = load_files(ex_dec)\n",
    "# Load the pathologist assigned HER2 scores:\n",
    "M_dec = mean_scores_per_experiment(scores, img_locs_dec)"
   ]
  },
  {
   "cell_type": "markdown",
   "id": "86657988",
   "metadata": {},
   "source": [
    "# Correlation between predicted cluster and true HER2 scores"
   ]
  },
  {
   "cell_type": "code",
   "execution_count": 11,
   "id": "bfc21ef4-128f-4651-9cbd-8ac4eb69a495",
   "metadata": {},
   "outputs": [
    {
     "name": "stdout",
     "output_type": "stream",
     "text": [
      "Direct Pearsons CC between predicted domain and mean score -0.0324453619443627\n"
     ]
    }
   ],
   "source": [
    "r = np.corrcoef(domain_vade, M_vade)\n",
    "# note that the predicted (i.e., clustered) domain integer ids have not been reordered yet to correspond to HER2 classes\n",
    "print('Direct Pearsons CC between predicted domain and mean score', r[0][1])"
   ]
  },
  {
   "cell_type": "code",
   "execution_count": 12,
   "id": "1b71ab78-7a45-463d-82d1-b52b7bd9b491",
   "metadata": {},
   "outputs": [
    {
     "name": "stdout",
     "output_type": "stream",
     "text": [
      "Average correlation with the HER2 class labels 0.4583333333333333\n"
     ]
    }
   ],
   "source": [
    "correlation_with_her2_class_label(domain_vade, vec_d_vade)"
   ]
  },
  {
   "cell_type": "code",
   "execution_count": 13,
   "id": "5428368c",
   "metadata": {},
   "outputs": [
    {
     "name": "stdout",
     "output_type": "stream",
     "text": [
      "Average correlation with the HER2 class labels 0.41369047619047616\n"
     ]
    }
   ],
   "source": [
    "correlation_with_her2_class_label(domain_cdvade, vec_d_cdvade)"
   ]
  },
  {
   "cell_type": "code",
   "execution_count": 14,
   "id": "58a37f49",
   "metadata": {},
   "outputs": [
    {
     "name": "stdout",
     "output_type": "stream",
     "text": [
      "Average correlation with the HER2 class labels 0.46130952380952384\n"
     ]
    }
   ],
   "source": [
    "correlation_with_her2_class_label(domain_dec, vec_d_dec)"
   ]
  },
  {
   "cell_type": "markdown",
   "id": "09ba07bc",
   "metadata": {},
   "source": [
    "# Per Predicted domain analysis (not used in miccai submission)"
   ]
  },
  {
   "cell_type": "code",
   "execution_count": 15,
   "id": "83b93adc-c6c7-4f7e-bbb7-e8ba1fef7380",
   "metadata": {},
   "outputs": [],
   "source": [
    "#Hungarian algorithm to for the predicted domain/HER2 class correlation \n",
    "def domain_class_mapping(domain):\n",
    "    dic1 = {1: 1, 2: 2, 3: 3}\n",
    "    dic2 = {1: 1, 2: 3, 3: 2}\n",
    "    dic3 = {1: 2, 2: 1, 3: 3}\n",
    "    dic4 = {1: 2, 2: 3, 3: 1}\n",
    "    dic5 = {1: 3, 2: 2, 3: 1}\n",
    "    dic6 = {1: 3, 2: 1, 3: 2}\n",
    "    dictionaries = [dic1, dic2, dic3, dic4, dic5, dic6]\n",
    "    combos = []\n",
    "    for i in range(0, 6):\n",
    "        mapping = dictionaries[i]\n",
    "        new_combination =[]\n",
    "        for j in domain:\n",
    "            new_combination.append(mapping[j])\n",
    "        combos.append(new_combination)      \n",
    "    return combos, dictionaries"
   ]
  },
  {
   "cell_type": "code",
   "execution_count": 16,
   "id": "d3253ccc-8e19-473c-a76f-6fb424cfa6b2",
   "metadata": {},
   "outputs": [
    {
     "name": "stdout",
     "output_type": "stream",
     "text": [
      "Predicted domain 1 has the highest correlation of 0.3128138151676808 with scores of HER2 class  3\n",
      "The following Hungarian mapping was used: {1: 3, 2: 1, 3: 2}\n"
     ]
    }
   ],
   "source": [
    "combos_vade, dictionaries = domain_class_mapping(domain_vade)\n",
    "R_values_vade = []\n",
    "for i in combos_vade:\n",
    "    r =  np.corrcoef(i, M_vade)\n",
    "    R_values_vade.append(r[0][1])\n",
    "\n",
    "print('Predicted domain 1 has the highest correlation of', max(R_values_vade), 'with scores of HER2 class ', dictionaries[np.argmax(R_values_vade)][1])\n",
    "print('The following Hungarian mapping was used:',dictionaries[np.argmax(R_values_vade)])"
   ]
  },
  {
   "cell_type": "code",
   "execution_count": 17,
   "id": "4d7a21a5",
   "metadata": {},
   "outputs": [
    {
     "name": "stdout",
     "output_type": "stream",
     "text": [
      "Predicted domain 2 has the highest correlation of 0.3343477687217265 with scores of HER2 class  3\n",
      "The following Hungarian mapping was used: {1: 2, 2: 3, 3: 1}\n"
     ]
    }
   ],
   "source": [
    "combos_cdvade, dictionaries = domain_class_mapping(domain_cdvade)\n",
    "R_values_cdvade = []\n",
    "for i in combos_cdvade:\n",
    "    r =  np.corrcoef(i, M_cdvade)\n",
    "    R_values_cdvade.append(r[0][1])\n",
    "\n",
    "print('Predicted domain 2 has the highest correlation of', max(R_values_cdvade), 'with scores of HER2 class ', dictionaries[np.argmax(R_values_cdvade)][2])\n",
    "print('The following Hungarian mapping was used:',dictionaries[np.argmax(R_values_cdvade)])"
   ]
  },
  {
   "cell_type": "code",
   "execution_count": 18,
   "id": "04619e01-4781-4d7b-a583-643445c6c71e",
   "metadata": {},
   "outputs": [
    {
     "name": "stdout",
     "output_type": "stream",
     "text": [
      "Predicted domain 2 has the highest correlation of 0.45818224716368666 with scores of HER2 class  1\n",
      "The following Hungarian mapping was used: {1: 3, 2: 1, 3: 2}\n"
     ]
    }
   ],
   "source": [
    "combos_dec, dictionaries = domain_class_mapping(domain_dec)\n",
    "R_values_dec = []\n",
    "for i in combos_dec:\n",
    "    r =  np.corrcoef(i, M_dec)\n",
    "    R_values_dec.append(r[0][1])\n",
    "\n",
    "print('Predicted domain 2 has the highest correlation of', max(R_values_dec), 'with scores of HER2 class ', dictionaries[np.argmax(R_values_dec)][2])\n",
    "print('The following Hungarian mapping was used:',dictionaries[np.argmax(R_values_dec)])"
   ]
  },
  {
   "cell_type": "code",
   "execution_count": null,
   "id": "e67a3ec9-4fd5-4011-85a2-275623d3d001",
   "metadata": {},
   "outputs": [],
   "source": []
  }
 ],
 "metadata": {
  "kernelspec": {
   "display_name": "Python 3 (ipykernel)",
   "language": "python",
   "name": "python3"
  },
  "language_info": {
   "codemirror_mode": {
    "name": "ipython",
    "version": 3
   },
   "file_extension": ".py",
   "mimetype": "text/x-python",
   "name": "python",
   "nbconvert_exporter": "python",
   "pygments_lexer": "ipython3",
   "version": "3.10.7"
  }
 },
 "nbformat": 4,
 "nbformat_minor": 5
}
