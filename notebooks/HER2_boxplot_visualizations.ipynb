{
 "cells": [
  {
   "cell_type": "code",
   "execution_count": 1,
   "id": "f0b640cd",
   "metadata": {},
   "outputs": [],
   "source": [
    "import os\n",
    "\n",
    "import matplotlib.pyplot as plt\n",
    "import pandas as pd\n",
    "\n",
    "# import seaborn as sns\n",
    "import numpy as np\n",
    "from sklearn.manifold import TSNE"
   ]
  },
  {
   "cell_type": "code",
   "execution_count": 10,
   "id": "40fc817b",
   "metadata": {},
   "outputs": [],
   "source": [
    "def load_files(path):\n",
    "    domain = np.loadtxt(path + \"predicted_labels.txt\")\n",
    "    vec_d = np.loadtxt(path + \"vec_d_labels.txt\")\n",
    "    vec_y = np.loadtxt(path + \"vec_y_labels.txt\")\n",
    "    img_locs = np.loadtxt(path + \"img_id.txt\", dtype=str)\n",
    "    \n",
    "    return domain, vec_d, vec_y, img_locs"
   ]
  },
  {
   "cell_type": "code",
   "execution_count": 11,
   "id": "b142cb0c",
   "metadata": {},
   "outputs": [],
   "source": [
    "#Please insert yout path to the csv file associated with HER2 data (that contains scores)\n",
    "base_path = \"../../../DomId/HER2\"\n",
    "# base_path = \"/your/data/location\"\n",
    "\n",
    "scores = pd.read_csv(\n",
    "    os.path.join(base_path, \"truthfile_002.csv\"),\n",
    "    names=[\"num\", \"file name\", \"s1\", \"s2\", \"s3\", \"s4\", \"s5\", \"s6\", \"s_7\"],\n",
    ")"
   ]
  },
  {
   "cell_type": "code",
   "execution_count": null,
   "id": "fc236e5a",
   "metadata": {},
   "outputs": [],
   "source": []
  },
  {
   "cell_type": "code",
   "execution_count": 4,
   "id": "29508cae",
   "metadata": {},
   "outputs": [],
   "source": [
    "def mean_scores_per_experiment(scores, img_locs):\n",
    "    \"\"\"\n",
    "    Parser to get mean scores per image from the cvs file.\n",
    "    The name of the images in the folders are slightly different from the names in the csv file.\n",
    "\n",
    "    \"\"\"\n",
    "\n",
    "    M = []\n",
    "\n",
    "    for prediction in img_locs:\n",
    "        try:\n",
    "            prediction = str(\n",
    "                prediction.split(\"/\")[-1]\n",
    "            )  # depending if the path is full or not, take the img name only\n",
    "        except:\n",
    "            \"not full path\"\n",
    "\n",
    "        if \"s\" in prediction:\n",
    "\n",
    "            N = len(prediction) - 4 - 5\n",
    "            # print(N, prediction[:N])\n",
    "            # print(scores.loc[scores['file name'].str.contains(prediction[:N])])\n",
    "            mean_score = scores.loc[\n",
    "                scores[\"file name\"].str.contains(prediction[:N])\n",
    "            ].mean(axis=1)\n",
    "        if \"S\" in prediction:\n",
    "\n",
    "            N = len(prediction) - 4 - 5\n",
    "            # print(N, prediction[:N])\n",
    "            # print(scores.loc[scores['file name'].str.contains(prediction[:N])])\n",
    "            mean_score = scores.loc[\n",
    "                scores[\"file name\"].str.contains(prediction[:N])\n",
    "            ].mean(axis=1)\n",
    "        else:\n",
    "            N = len(prediction) - 6\n",
    "            # print('secod case', N, prediction[:N])\n",
    "            # print(scores.loc[scores['file name'].str.contains(prediction[:N])])\n",
    "            mean_score = scores.loc[\n",
    "                scores[\"file name\"].str.contains(prediction[:N])\n",
    "            ].mean(axis=1)\n",
    "            # print(mean_score)\n",
    "        mean_score = float(mean_score)\n",
    "        # print(mean_score)\n",
    "        M.append(mean_score)\n",
    "    return M"
   ]
  },
  {
   "cell_type": "code",
   "execution_count": 5,
   "id": "2e6fe05c",
   "metadata": {},
   "outputs": [],
   "source": [
    "def box_plot_per_domain(domain, M, fs, c, title, up, true_ex=False):\n",
    "    \"\"\"\n",
    "    Box plot for median scores\n",
    "    domain - predicted domain\n",
    "    M - corresponding mean scores\n",
    "    c - color fill for the box plot\n",
    "    title - title of the experiment\n",
    "    up - vertical displacement of the text\n",
    "    true_ex  - if ground truth values (not domain, but true labels are inputted)\n",
    "\n",
    "    \"\"\"\n",
    "    data1 = []\n",
    "    data2 = []\n",
    "    data3 = []\n",
    "    # data4 = []\n",
    "\n",
    "    for i in range(len(domain)):\n",
    "        if domain[i] == 1:\n",
    "            data1.append(M[i])\n",
    "        if domain[i] == 2:\n",
    "            data2.append(M[i])\n",
    "        if domain[i] == 3:\n",
    "            data3.append(M[i])\n",
    "    #         if domain[i] ==4:\n",
    "    #             data4.append(M[i])\n",
    "\n",
    "    data = [data1, data2, data3]\n",
    "    fig = plt.figure(figsize=(3, 3))\n",
    "    ax = fig.add_axes([0, 0, 1, 1])\n",
    "    bp = ax.boxplot(data, patch_artist=True, boxprops=dict(facecolor=c, color='black'))\n",
    "\n",
    "    ax.text(\n",
    "        0.85,\n",
    "        np.mean(data[0]) + up,\n",
    "        str(np.mean(data[0]))[:5],\n",
    "        color=\"black\",\n",
    "        fontsize=fs,\n",
    "    )\n",
    "    ax.text(\n",
    "        1.85,\n",
    "        np.mean(data[1]) + up,\n",
    "        str(np.mean(data[1]))[:5],\n",
    "        color=\"black\",\n",
    "        fontsize=fs,\n",
    "    )\n",
    "    ax.text(\n",
    "        2.85,\n",
    "        np.mean(data[2]) + up,\n",
    "        str(np.mean(data[2]))[:5],\n",
    "        color=\"black\",\n",
    "        fontsize=fs,\n",
    "    )\n",
    "\n",
    "    plt.xlabel(\"Domain\", fontsize=fs)\n",
    "    plt.ylabel(\"HER2/neu Scores\", fontsize=fs)\n",
    "    plt.title(title, fontsize=fs, weight = 'bold')\n",
    "    plt.xticks(fontsize=fs, weight=\"bold\")\n",
    "    plt.yticks(fontsize=fs - 5)\n",
    "    if true_ex == True:\n",
    "        plt.xticks([1, 2, 3], [\"FD\", \"H\", \"ND\"], fontsize=fs)\n",
    "        plt.title(\"Original Dataset:\" + title, fontsize=fs)\n",
    "    plt.show()"
   ]
  },
  {
   "cell_type": "code",
   "execution_count": 9,
   "id": "ac441e90",
   "metadata": {},
   "outputs": [],
   "source": [
    "ex1 = '2023-04-11 11:23:11.695698/' #should be base VaDE\n",
    "ex2 = None #should be DEC\n",
    "ex = None #should be CDVADE\n",
    "# number_predicted_domains = 3  # enter d_dim\n",
    "colors = [\"powderblue\",\"cadetblue\", \"teal\" ]"
   ]
  },
  {
   "cell_type": "code",
   "execution_count": 7,
   "id": "cc85a332",
   "metadata": {},
   "outputs": [],
   "source": [
    "domain1, _, _, img_locs1 = load_files(ex1)"
   ]
  },
  {
   "cell_type": "code",
   "execution_count": 8,
   "id": "d02ef1b6",
   "metadata": {},
   "outputs": [
    {
     "name": "stderr",
     "output_type": "stream",
     "text": [
      "/tmp/ipykernel_50594/2250746413.py:23: FutureWarning: Dropping of nuisance columns in DataFrame reductions (with 'numeric_only=None') is deprecated; in a future version this will raise TypeError.  Select only valid columns before calling the reduction.\n",
      "  mean_score = scores.loc[\n",
      "/tmp/ipykernel_50594/2250746413.py:38: FutureWarning: Dropping of nuisance columns in DataFrame reductions (with 'numeric_only=None') is deprecated; in a future version this will raise TypeError.  Select only valid columns before calling the reduction.\n",
      "  mean_score = scores.loc[\n",
      "/tmp/ipykernel_50594/2250746413.py:31: FutureWarning: Dropping of nuisance columns in DataFrame reductions (with 'numeric_only=None') is deprecated; in a future version this will raise TypeError.  Select only valid columns before calling the reduction.\n",
      "  mean_score = scores.loc[\n"
     ]
    },
    {
     "data": {
      "image/png": "[encoded data removed]",
      "text/plain": [
       "<Figure size 300x300 with 1 Axes>"
      ]
     },
     "metadata": {},
     "output_type": "display_data"
    }
   ],
   "source": [
    "M1 = mean_scores_per_experiment(scores, img_locs1)\n",
    "box_plot_per_domain(domain1, M1, 25, \"powderblue\", \"Base VaDE \\n \", False)"
   ]
  },
  {
   "cell_type": "code",
   "execution_count": null,
   "id": "804d1f97",
   "metadata": {},
   "outputs": [],
   "source": [
    "domain2, _, _, img_locs2  = load_files(ex2)\n",
    "\n",
    "\n",
    "M2 = mean_scores_per_experiment(scores, img_locs2)\n",
    "box_plot_per_domain(\n",
    "    domain2,\n",
    "    M2,\n",
    "    25,\n",
    "    \"lightgrey\",\n",
    "    \"Base DEC \\n \",\n",
    "    False,\n",
    ")"
   ]
  },
  {
   "cell_type": "code",
   "execution_count": null,
   "id": "c0b773bd",
   "metadata": {},
   "outputs": [],
   "source": [
    "domain3, _, _, img_locs3  = load_files(ex3)"
   ]
  },
  {
   "cell_type": "code",
   "execution_count": null,
   "id": "a1155dc0",
   "metadata": {},
   "outputs": [],
   "source": [
    "\n",
    "\n",
    "M3 = mean_scores_per_experiment(scores, img_locs3)\n",
    "box_plot_per_domain(\n",
    "    domain3,\n",
    "    M3,\n",
    "    25,\n",
    "    \"cadetblue\",\n",
    "    \"CDVaDe: \\n HER2 class labels \",\n",
    "    False,\n",
    ")"
   ]
  },
  {
   "cell_type": "code",
   "execution_count": null,
   "id": "8bac3328",
   "metadata": {},
   "outputs": [],
   "source": []
  }
 ],
 "metadata": {
  "kernelspec": {
   "display_name": "Python 3 (ipykernel)",
   "language": "python",
   "name": "python3"
  },
  "language_info": {
   "codemirror_mode": {
    "name": "ipython",
    "version": 3
   },
   "file_extension": ".py",
   "mimetype": "text/x-python",
   "name": "python",
   "nbconvert_exporter": "python",
   "pygments_lexer": "ipython3",
   "version": "3.10.5"
  }
 },
 "nbformat": 4,
 "nbformat_minor": 5
}
