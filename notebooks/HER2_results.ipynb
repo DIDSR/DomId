{
 "cells": [
  {
   "cell_type": "code",
   "execution_count": 1,
   "id": "b7eae134",
   "metadata": {},
   "outputs": [],
   "source": [
    "import os\n",
    "import numpy as np\n",
    "import matplotlib.pyplot as plt\n",
    "from sklearn.manifold import TSNE\n",
    "import seaborn as sns\n",
    "from sklearn import preprocessing\n"
   ]
  },
  {
   "cell_type": "code",
   "execution_count": 2,
   "id": "5356e67f",
   "metadata": {},
   "outputs": [],
   "source": [
    "def load_files(path):\n",
    "    loss = np.loadtxt(path+'training_loss.txt')\n",
    "    acc = np.loadtxt(path+'training_accuracy.txt')\n",
    "    domain = np.loadtxt(path+'domain_labels.txt')\n",
    "    te_loss = np.loadtxt(path+'testing_loss.txt')\n",
    "    te_acc = np.loadtxt(path+'testing_accuracy.txt')\n",
    "    machine = np.loadtxt(path+'machine_labels.txt', dtype = str)\n",
    "    Z = np.load(path+'Z_space.npy')\n",
    "    args = np.loadtxt(path+'arguments.txt', dtype = str, delimiter = '\\n')\n",
    "\n",
    "    le =  preprocessing.LabelEncoder()\n",
    "    le.fit(machine)\n",
    "    machine_num = le.transform(machine)\n",
    "    machine_num = np.concatenate((machine_num, [0])) #FIXME\n",
    "   \n",
    "    return loss, acc, te_loss, te_acc, domain, machine, machine_num, Z, args"
   ]
  },
  {
   "cell_type": "code",
   "execution_count": 3,
   "id": "7b354c91",
   "metadata": {},
   "outputs": [],
   "source": [
    "def plot_loss_acc(loss, acc, te_loss, te_acc, pretraining):\n",
    "    x = np.arange(0,len(loss))\n",
    "    #plt.figure(figsize = (10, 5))\n",
    "    plt.subplot(1,2,1)\n",
    "    plt.plot(x, loss)\n",
    "    plt.plot(x, te_loss)\n",
    "    plt.legend(['Training Loss', 'Testing loss'])\n",
    "    plt.title(pretraining+' Loss ')\n",
    "\n",
    "    plt.subplot(1,2,2)\n",
    "    plt.plot(x, acc)\n",
    "    plt.plot(x, te_acc)\n",
    "    plt.title(pretraining+' Accuracy ')\n",
    "    plt.legend(['Training Accuracy', 'Testing Accuracy'])\n",
    "    plt.ylim(0, 1)\n",
    "    #plt.show()\n",
    "\n"
   ]
  },
  {
   "cell_type": "code",
   "execution_count": 4,
   "id": "d12807fb",
   "metadata": {},
   "outputs": [],
   "source": [
    "ex1='2022-10-03 17:08:05.262385/'\n",
    "ex2 ='2022-10-03 16:08:33.982757/'\n",
    "ex3 ='2022-09-27 15:33:15.358339/'"
   ]
  },
  {
   "cell_type": "code",
   "execution_count": 19,
   "id": "99729b72-73f7-4e06-a27f-5ac8fb2002e4",
   "metadata": {},
   "outputs": [],
   "source": [
    "ex ='2022-10-09 21:38:29.092510/'\n",
    "ex = '2022-10-11 13:50:48.083335/'\n",
    "ax = '2022-10-12 12:44:50.953692/'\n",
    "ex = '2022-10-13 10:39:12.990541/'\n",
    "#ex = '2022-10-11 11:40:10.018008/'"
   ]
  },
  {
   "cell_type": "code",
   "execution_count": 20,
   "id": "ca2cf1b3",
   "metadata": {},
   "outputs": [
    {
     "ename": "SyntaxError",
     "evalue": "EOL while scanning string literal (<ipython-input-20-195a1cb1e0c0>, line 23)",
     "output_type": "error",
     "traceback": [
      "\u001b[0;36m  File \u001b[0;32m\"<ipython-input-20-195a1cb1e0c0>\"\u001b[0;36m, line \u001b[0;32m23\u001b[0m\n\u001b[0;31m    ax.scatter3D(Z_embedded2[:513, 0], Z_embedded2[:513, 1], Z_embedded2[:513, 2], c=machine_num[:513], marker='o', cmap=palette[:len(set(domain))])')\u001b[0m\n\u001b[0m                                                                                                                                                      ^\u001b[0m\n\u001b[0;31mSyntaxError\u001b[0m\u001b[0;31m:\u001b[0m EOL while scanning string literal\n"
     ]
    }
   ],
   "source": [
    "from matplotlib.colors import ListedColormap\n",
    "def TSNE_funtion(perplexity, lr, n_iter, Z,domain, machine_num, title, produce_visuals=True):\n",
    "    Z_embedded = TSNE(n_components=2, perplexity = perplexity, learning_rate= lr,init='random', n_iter =n_iter).fit_transform(Z)\n",
    "    print(Z_embedded.shape)\n",
    "    if produce_visuals:\n",
    "        print(set(domain), set(machine_num))\n",
    "        palette = ['red', 'blue', 'orange', 'green']\n",
    "        plt.figure(figsize = (15, 10))\n",
    "        plt.subplot(1,2,1)\n",
    "        sns.scatterplot(x=Z_embedded[:, 0], y=Z_embedded[:, 1], hue=domain, palette=palette[:len(set(domain))]).set(title=\"HER 2 domain visualization\") \n",
    "        plt.subplot(1,2,2)\n",
    "        print(domain.shape, machine_num.shape)\n",
    "        sns.scatterplot(x=Z_embedded[:513, 0], y=Z_embedded[:513, 1], hue = machine_num, palette=palette[:len(set(machine_num))]).set(title=\"HER 2 machine visualization\")\n",
    "        plt.show()\n",
    "        \n",
    "        Z_embedded2 = TSNE(n_components=3, perplexity = perplexity, learning_rate= lr,init='random', n_iter =n_iter).fit_transform(Z)\n",
    "        print(Z_embedded2.shape)\n",
    "        cmap = ListedColormap(sns.color_palette(\"husl\", 256).as_hex())\n",
    "\n",
    "# # plot\n",
    "# sc = ax.scatter(x, y, z, s=40, c=x, marker='o', cmap=cmap, alpha=1)\n",
    "        ax = plt.axes(projection='3d')\n",
    "        ax.scatter3D(Z_embedded2[:513, 0], Z_embedded2[:513, 1], Z_embedded2[:513, 2], c=machine_num[:513], marker='o', cmap=palette[:len(set(domain))])')\n",
    "        ax.set_xlabel(\"comp 1\")\n",
    "        ax.set_ylabel(\"comp 2\")\n",
    "        ax.set_zlabel(\"comp 3\")\n",
    "\n",
    "        #plt.title(title)\n",
    "       "
   ]
  },
  {
   "cell_type": "code",
   "execution_count": 21,
   "id": "4a9b3fba",
   "metadata": {},
   "outputs": [
    {
     "data": {
      "image/png": "[encoded data removed]",
      "text/plain": [
       "<Figure size 432x288 with 2 Axes>"
      ]
     },
     "metadata": {
      "needs_background": "light"
     },
     "output_type": "display_data"
    }
   ],
   "source": [
    "loss, acc, te_loss, te_acc, domain, machine, machine_num, Z, args = load_files(ex)\n",
    "plot_loss_acc(loss[:32], acc[:32], te_loss[:32], te_acc[:32], 'Pretraining')\n",
    "\n",
    "#loss_p, acc_p, domain_p, machine_p, machine_num_p, Z_p = load_files('positive/')"
   ]
  },
  {
   "cell_type": "code",
   "execution_count": 22,
   "id": "7f9890a1-6d37-4482-85a3-b79af27180cf",
   "metadata": {},
   "outputs": [
    {
     "data": {
      "image/png": "[encoded data removed]",
      "text/plain": [
       "<Figure size 432x288 with 2 Axes>"
      ]
     },
     "metadata": {
      "needs_background": "light"
     },
     "output_type": "display_data"
    }
   ],
   "source": [
    "plot_loss_acc(loss[33:], acc[33:], te_loss[33:], te_acc[33:], 'ELBO')"
   ]
  },
  {
   "cell_type": "code",
   "execution_count": 23,
   "id": "89d398df-a07b-444f-ac12-103fc7be323d",
   "metadata": {},
   "outputs": [
    {
     "name": "stdout",
     "output_type": "stream",
     "text": [
      "['events.out.tfevents.1665671952.didsr-gpu11', 'events.out.tfevents.1665673943.didsr-gpu08.41063.0', '00000', 'projector_config.pbtxt']\n"
     ]
    }
   ],
   "source": [
    "from torch.utils.tensorboard import SummaryWriter\n",
    "path ='../debug'\n",
    "for exp in os.listdir(path):\n",
    "    if ex[:17] in exp:\n",
    "        experiment = exp\n",
    "        path+='/'+exp\n",
    "writer = SummaryWriter(path)\n",
    "class_labels = domain\n",
    "writer.add_embedding(Z,metadata=class_labels)    \n",
    "    #+ex #/debug/'+ex\n",
    "print(os.listdir(path))\n",
    "#write_embeddings(x = batch_imgs.to(DEVICE))\n",
    "writer.close()"
   ]
  },
  {
   "cell_type": "code",
   "execution_count": 27,
   "id": "1fa5b91c-00b7-49ff-a2ee-21fc9cf77b22",
   "metadata": {},
   "outputs": [
    {
     "data": {
      "text/plain": [
       "array([3., 3., 1., 2., 2., 2., 2., 2., 3., 3., 3., 3., 1., 3., 2., 1., 3.,\n",
       "       2., 1., 2., 1., 1., 1., 1., 1., 2., 2., 3., 3., 1., 1., 3., 3., 2.,\n",
       "       2., 1., 1., 3., 2., 3., 2., 2., 2., 3., 3., 1., 1., 1., 1., 1., 1.,\n",
       "       1., 2., 3., 2., 1., 2., 1., 3., 3., 1., 2., 2., 3., 2., 2., 3., 1.,\n",
       "       3., 3., 1., 3., 3., 2., 2., 3., 2., 1., 1., 2., 2., 2., 1., 1., 1.,\n",
       "       1., 2., 2., 1., 3., 1., 2., 1., 1., 1., 2., 1., 3., 2., 2., 1., 2.,\n",
       "       3., 2., 1., 2., 2., 2., 3., 1., 2., 3., 1., 1., 1., 2., 2., 3., 3.,\n",
       "       3., 2., 3., 2., 1., 1., 3., 1., 1., 2., 3., 1., 1., 2., 2., 1., 1.,\n",
       "       1., 1., 3., 1., 3., 2., 2., 1., 3., 2., 1., 3., 2., 3., 1., 3., 1.,\n",
       "       1., 3., 1., 1., 1., 3., 2., 3., 1., 1., 3., 1., 2., 3., 3., 1., 3.,\n",
       "       3., 3., 1., 2., 2., 1., 3., 2., 1., 1., 2., 1., 1., 2., 3., 2., 1.,\n",
       "       3., 1., 3., 3., 1., 2., 2., 3., 1., 3., 2., 3., 3., 2., 3., 2., 3.,\n",
       "       1., 2., 3., 3., 1., 2., 3., 1., 1., 3., 1., 2., 3., 3., 2., 2., 1.,\n",
       "       2., 3., 3., 1., 2., 1., 1., 3., 1., 1., 3., 1., 1., 3., 2., 3., 3.,\n",
       "       2., 3., 1., 3., 3., 3., 1., 2., 2., 2., 3., 1., 2., 2., 1., 1., 1.,\n",
       "       2., 3., 3., 2., 1., 2., 2., 2., 2., 1., 2., 1., 2., 3., 3., 3., 1.,\n",
       "       1., 1., 2., 1., 1., 2., 3., 1., 1., 2., 2., 2., 3., 2., 1., 3., 3.,\n",
       "       3., 3., 1., 3., 2., 2., 1., 1., 3., 1., 2., 3., 3., 2., 3., 2., 2.,\n",
       "       2., 1., 1., 2., 1., 1., 3., 2., 1., 3., 3., 2., 2., 2., 2., 3., 3.,\n",
       "       1., 2., 1., 3., 2., 3., 1., 2., 3., 1., 2., 2., 3., 1., 3., 1., 1.,\n",
       "       1., 2., 3., 3., 2., 3., 1., 3., 2., 2., 3., 2., 1., 3., 1., 1., 3.,\n",
       "       3., 3., 2., 3., 2., 2., 2., 3., 3., 3., 1., 3., 1., 2., 2., 3., 1.,\n",
       "       3., 2., 1., 1., 1., 3., 2., 3., 1., 2., 2., 1., 2., 3., 3., 1., 2.,\n",
       "       3., 2., 1., 1., 3., 3., 1., 3., 2., 2., 1., 3., 3., 3., 2., 1., 2.,\n",
       "       3., 3., 1., 2., 1., 3., 3., 2., 3., 1., 3., 1., 2., 2., 1., 1., 1.,\n",
       "       1., 1., 1., 1., 2., 2., 1., 1., 2., 3., 2., 3., 1., 2., 2., 2., 2.,\n",
       "       2., 3., 2., 3., 1., 3., 2., 3., 1., 3., 2., 2., 1., 2., 3., 3., 1.,\n",
       "       1., 1., 1., 1., 2., 1., 1., 3., 1., 1., 3., 2., 1., 2., 2., 1., 1.,\n",
       "       1., 1., 3., 1., 3., 1., 1., 1., 3., 2., 2., 3., 2., 2., 1., 2., 3.,\n",
       "       1., 1., 2., 1., 1., 3., 1., 1., 2., 1., 2., 1., 2., 3., 1., 1., 3.,\n",
       "       3., 2., 3., 1., 2., 2., 3., 3., 1., 1., 2., 3., 3., 2., 2., 3., 3.,\n",
       "       1., 2., 3., 1., 2., 2., 3., 2., 2., 3.])"
      ]
     },
     "execution_count": 27,
     "metadata": {},
     "output_type": "execute_result"
    }
   ],
   "source": [
    "domain"
   ]
  },
  {
   "cell_type": "code",
   "execution_count": 34,
   "id": "da947036-7d28-4297-96b9-b12e614bf823",
   "metadata": {},
   "outputs": [],
   "source": [
    "def plot_histogram(domain_labels, machine_label):\n",
    "\n",
    "\n",
    "    d1_machine = []\n",
    "    d2_machine = []\n",
    "    d3_machine = []\n",
    "\n",
    "    for i in range(0, len(domain_labels) - 1):\n",
    "\n",
    "        if domain_labels[i] == 1:\n",
    "            d1_machine.append(machine_label[i])\n",
    "        elif domain_labels[i] == 2:\n",
    "            d2_machine.append(machine_label[i])\n",
    "        elif domain_labels[i] == 3:\n",
    "            d3_machine.append(machine_label[i])\n",
    "\n",
    "    from matplotlib import pyplot as plt\n",
    "    plt.figure(figsize = (10, 15))\n",
    "    plt.subplot(3, 1, 1)\n",
    "    plt.hist(d1_machine)\n",
    "    plt.title('Class 1 Cancerous Tissue Scan Sources')\n",
    "\n",
    "    plt.subplot(3, 1, 2)\n",
    "    plt.hist(d2_machine)\n",
    "    plt.title('Class 2 Cancerous Tissue Scan Sources')\n",
    "\n",
    "    \n",
    "    plt.subplot(3, 1, 3)\n",
    "    plt.hist(d3_machine)\n",
    "    plt.title('Class 3 Cancerous Tissue Scan Sources')\n",
    "    plt.show()\n",
    "    # plt.savefig('./figures/hist_results'+str(epoch)+'.png')\n"
   ]
  },
  {
   "cell_type": "code",
   "execution_count": 35,
   "id": "463b31bd-67f0-4a1c-bbd5-eb27e0386763",
   "metadata": {},
   "outputs": [
    {
     "data": {
      "image/png": "[encoded data removed]",
      "text/plain": [
       "<Figure size 720x1080 with 3 Axes>"
      ]
     },
     "metadata": {
      "needs_background": "light"
     },
     "output_type": "display_data"
    }
   ],
   "source": [
    "plot_histogram(domain[:513], machine_num)"
   ]
  },
  {
   "cell_type": "code",
   "execution_count": 36,
   "id": "274ec69b-0858-4c66-bd26-00b636c51dd9",
   "metadata": {},
   "outputs": [],
   "source": [
    "# experiments = [ex1, ex2, ex3]\n",
    "# legend_loss = []\n",
    "# legend_acc = []\n",
    "# plt.figure(figsize = (25, 25))\n",
    "# for ex in experiments:\n",
    "#     loss, acc, te_loss, te_acc, domain, machine, machine_num, Z, args = load_files(ex)\n",
    "#     #print(args)\n",
    "#     #plot_loss_acc(loss, acc, te_loss, te_acc)\n",
    "#     x = np.arange(0,len(loss))\n",
    "#     plt.subplot(2, 1, 1)\n",
    "#     plt.plot(x, loss)\n",
    "#     plt.plot(x, te_loss)\n",
    "#     plt.title('Loss ')\n",
    "#     legend_loss.append('Loss: '+args[0]+\" \" +args[1]+\": zd_dim = \"+args[3]+ \" ,lr = \"+args[7]+ \" ,num_classes = \"+args[5])\n",
    "#     legend_loss.append('Loss_te: '+args[0]+\" \" +args[1]+\": zd_dim = \"+args[3]+ \" ,lr = \"+args[7]+ \" ,num_classes = \"+args[5])\n",
    "    \n",
    "#     plt.subplot(2,1,2)\n",
    "#     plt.plot(x, acc)\n",
    "#     plt.plot(x, te_acc)\n",
    "#     plt.title('Accuracy ')\n",
    "#     plt.ylim(0, 1)\n",
    "#     legend_acc.append('Acc: '+args[0]+\" \" +args[1]+\": zd_dim = \"+args[3]+ \" ,lr = \"+args[7]+ \" ,num_classes = \"+args[5])\n",
    "#     legend_acc.append('Acc_te: '+args[0]+\" \" +args[1]+\": zd_dim = \"+args[3]+ \" ,lr = \"+args[7]+ \" ,num_classes = \"+args[5])\n",
    "# #print(len(legend))\n",
    "# plt.subplot(2,1,1)\n",
    "# plt.legend(legend_loss)\n",
    "# plt.subplot(2,1,2)\n",
    "# plt.legend(legend_acc)\n",
    "# plt.show()"
   ]
  },
  {
   "cell_type": "code",
   "execution_count": 37,
   "id": "318bc162",
   "metadata": {},
   "outputs": [
    {
     "data": {
      "text/plain": [
       "(537, 350)"
      ]
     },
     "execution_count": 37,
     "metadata": {},
     "output_type": "execute_result"
    }
   ],
   "source": [
    "experiments = [ex]\n",
    "Z.shape"
   ]
  },
  {
   "cell_type": "code",
   "execution_count": 38,
   "id": "1d89753b-6c2b-46fb-947d-4d763f357573",
   "metadata": {},
   "outputs": [],
   "source": [
    "# perplexity, lr, n_iter"
   ]
  },
  {
   "cell_type": "code",
   "execution_count": 39,
   "id": "e1297ac8",
   "metadata": {},
   "outputs": [],
   "source": [
    "# for i in range(2, 80, 20):\n",
    "#     title = 'Experiment: '+args[0]+\" \" +args[1]+\": zd_dim = \"+args[3]+ \" ,lr = \"+args[7]+ \" ,num_classes = \"+args[5]\n",
    "    \n",
    "#     TSNE_funtion(i, 2, 450, Z,domain, machine_num,title, produce_visuals=True)\n"
   ]
  },
  {
   "cell_type": "code",
   "execution_count": 40,
   "id": "f8b70b75",
   "metadata": {},
   "outputs": [],
   "source": [
    "def machines_per_domain(domain, machine, experiment_name):\n",
    "    plt.figure(figsize = (15,5))\n",
    "    for i in set(domain):\n",
    "        ND=0\n",
    "        H1=0\n",
    "        H2=0\n",
    "        FD=0\n",
    "\n",
    "        for j in range(len(machine)):\n",
    "            if domain[j] == i and machine[j]=='ND':\n",
    "                ND+=1\n",
    "            if domain[j] == i and machine[j]=='H1':\n",
    "                H1+=1\n",
    "            if domain[j] == i and machine[j]=='H2':\n",
    "                H2+=1\n",
    "            if domain[j] == i and machine[j]=='FD':\n",
    "                FD+=1\n",
    "        plt.subplot(1,4,i+1)    \n",
    "        plt.bar([0, 2, 4, 6], [ND, H1, H2, FD])\n",
    "        plt.xticks([0, 2, 4, 6], ['ND', 'H1', 'H2', 'FD'])\n",
    "        plt.title(experiment_name+' Domain # ' +str(i))\n",
    "        plt.ylim(0, 150)\n",
    "\n",
    "\n",
    "    plt.show() "
   ]
  },
  {
   "cell_type": "code",
   "execution_count": 41,
   "id": "cb23d8c3",
   "metadata": {},
   "outputs": [
    {
     "name": "stderr",
     "output_type": "stream",
     "text": [
      "/home/mariia.sidulova/domid1/lib/python3.6/site-packages/ipykernel_launcher.py:18: MatplotlibDeprecationWarning: Passing non-integers as three-element position specification is deprecated since 3.3 and will be removed two minor releases later.\n"
     ]
    },
    {
     "data": {
      "image/png": "[encoded data removed]",
      "text/plain": [
       "<Figure size 432x288 with 1 Axes>"
      ]
     },
     "metadata": {
      "needs_background": "light"
     },
     "output_type": "display_data"
    },
    {
     "data": {
      "image/png": "[encoded data removed]",
      "text/plain": [
       "<Figure size 1080x360 with 3 Axes>"
      ]
     },
     "metadata": {
      "needs_background": "light"
     },
     "output_type": "display_data"
    }
   ],
   "source": [
    "plt.hist(machine)\n",
    "plt.title('total machine distribution')\n",
    "machines_per_domain(domain, machine, '')\n",
    "#machines_per_domain(domain_p, machine_p, 'Positive loss')"
   ]
  },
  {
   "cell_type": "code",
   "execution_count": 42,
   "id": "27c37606",
   "metadata": {},
   "outputs": [],
   "source": [
    "def domain_per_machine(domain, machine, experiment_name):\n",
    "    plt.figure(figsize = (15,5))\n",
    "    machine_num = np.unique(machine)\n",
    "    domain_names = np.unique(domain)\n",
    "    counter=0\n",
    "    c = 0\n",
    "    print(len(domain_names), machine_num)\n",
    "    for i in machine_num:\n",
    "\n",
    "        d1 = 0\n",
    "        d2 =0\n",
    "        d3 =0\n",
    "\n",
    "\n",
    "        for j in range(len(domain)-50):\n",
    "            #print(i, j, domain[j], machine[j])\n",
    "            if domain[j]==domain_names[0] and machine[j]==i:\n",
    "                d1+=1\n",
    "            if domain[j]== domain_names[1] and machine[j]==i:\n",
    "                d2+=1\n",
    "            try:\n",
    "                if domain[j]==domain_names[2] and machine[j]==i:\n",
    "                    d3+=1\n",
    "            except:\n",
    "                c+=1\n",
    "        print([d1, d2, d3])\n",
    "        plt.subplot(1,4,counter+1)    \n",
    "        plt.bar([0, 2, 4], [d1, d2, d3])\n",
    "        plt.xticks([0, 2, 4], ['D1', 'D2', 'D3'])\n",
    "        plt.title(experiment_name+' Machine # ' +str(i))\n",
    "        plt.ylim(0, 150)\n",
    "        counter+=1\n",
    "\n",
    "\n",
    "    plt.show() "
   ]
  },
  {
   "cell_type": "code",
   "execution_count": 43,
   "id": "da78cbd6-7c75-49f7-9ffd-1d0b8f6e5453",
   "metadata": {},
   "outputs": [
    {
     "data": {
      "text/plain": [
       "'FD'"
      ]
     },
     "execution_count": 43,
     "metadata": {},
     "output_type": "execute_result"
    }
   ],
   "source": [
    "machine[4]"
   ]
  },
  {
   "cell_type": "code",
   "execution_count": 44,
   "id": "02a73c05",
   "metadata": {},
   "outputs": [
    {
     "name": "stdout",
     "output_type": "stream",
     "text": [
      "3 ['FD' 'H1' 'H2' 'ND']\n",
      "[29, 77, 18]\n",
      "[53, 27, 39]\n",
      "[55, 18, 48]\n",
      "[39, 35, 49]\n"
     ]
    },
    {
     "data": {
      "image/png": "[encoded data removed]",
      "text/plain": [
       "<Figure size 432x288 with 1 Axes>"
      ]
     },
     "metadata": {
      "needs_background": "light"
     },
     "output_type": "display_data"
    },
    {
     "data": {
      "image/png": "[encoded data removed]",
      "text/plain": [
       "<Figure size 1080x360 with 4 Axes>"
      ]
     },
     "metadata": {
      "needs_background": "light"
     },
     "output_type": "display_data"
    }
   ],
   "source": [
    "plt.hist(domain)\n",
    "plt.title('total domain distribution')\n",
    "domain_per_machine(domain, machine, '')"
   ]
  },
  {
   "cell_type": "code",
   "execution_count": null,
   "id": "ebb7f014",
   "metadata": {},
   "outputs": [],
   "source": []
  },
  {
   "cell_type": "code",
   "execution_count": null,
   "id": "fbbdc09a",
   "metadata": {},
   "outputs": [],
   "source": []
  }
 ],
 "metadata": {
  "kernelspec": {
   "display_name": "Python 3",
   "language": "python",
   "name": "python3"
  },
  "language_info": {
   "codemirror_mode": {
    "name": "ipython",
    "version": 3
   },
   "file_extension": ".py",
   "mimetype": "text/x-python",
   "name": "python",
   "nbconvert_exporter": "python",
   "pygments_lexer": "ipython3",
   "version": "3.6.9"
  }
 },
 "nbformat": 4,
 "nbformat_minor": 5
}
