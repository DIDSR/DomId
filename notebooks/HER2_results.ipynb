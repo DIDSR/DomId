{
 "cells": [
  {
   "cell_type": "code",
   "execution_count": 1,
   "id": "b7eae134",
   "metadata": {},
   "outputs": [],
   "source": [
    "import os\n",
    "import numpy as np\n",
    "import matplotlib.pyplot as plt\n",
    "from sklearn.manifold import TSNE\n",
    "import seaborn as sns\n",
    "from sklearn import preprocessing\n"
   ]
  },
  {
   "cell_type": "code",
   "execution_count": 2,
   "id": "5356e67f",
   "metadata": {},
   "outputs": [],
   "source": [
    "def load_files(path):\n",
    "    loss = np.loadtxt(path+'training_loss.txt')\n",
    "    # print(loss)\n",
    "    # loss = loss/535\n",
    "    # print('_'*10)\n",
    "    # print(loss)\n",
    "    loss = loss/([535]*len(loss))\n",
    "    acc = np.loadtxt(path+'training_accuracy.txt')\n",
    "    domain = np.loadtxt(path+'domain_labels.txt')\n",
    "    te_loss = np.loadtxt(path+'testing_loss.txt')\n",
    "    te_loss = te_loss/([131]*len(te_loss))\n",
    "    te_acc = np.loadtxt(path+'testing_accuracy.txt')\n",
    "    machine = np.loadtxt(path+'machine_labels.txt', dtype = str)\n",
    "    Z = np.load(path+'Z_space.npy')\n",
    "    args = np.loadtxt(path+'arguments.txt', dtype = str, delimiter = '\\n')\n",
    "\n",
    "    le =  preprocessing.LabelEncoder()\n",
    "    le.fit(machine)\n",
    "    machine_num = le.transform(machine)\n",
    "    machine_num = np.concatenate((machine_num, [0])) #FIXME\n",
    "    \n",
    "    return loss, acc, te_loss, te_acc, domain, machine, machine_num, Z, args"
   ]
  },
  {
   "cell_type": "code",
   "execution_count": 3,
   "id": "7b354c91",
   "metadata": {},
   "outputs": [],
   "source": [
    "def plot_loss_acc(loss, acc, te_loss, te_acc, pretraining):\n",
    "    x = np.arange(0,len(loss))\n",
    "    #plt.figure(figsize = (10, 5))\n",
    "    plt.subplot(1,2,1)\n",
    "    plt.plot(x, loss)\n",
    "    plt.plot(x, te_loss)\n",
    "    plt.legend(['Training Loss', 'Testing loss'])\n",
    "    plt.title(pretraining+' Loss ')\n",
    "\n",
    "    plt.subplot(1,2,2)\n",
    "    plt.plot(x, acc)\n",
    "    plt.plot(x, te_acc)\n",
    "    plt.title(pretraining+' Accuracy ')\n",
    "    plt.legend(['Training Accuracy', 'Testing Accuracy'])\n",
    "    plt.ylim(0, 1)\n",
    "    #plt.show()\n",
    "\n"
   ]
  },
  {
   "cell_type": "code",
   "execution_count": 4,
   "id": "d12807fb",
   "metadata": {},
   "outputs": [],
   "source": [
    "ex1='2022-10-03 17:08:05.262385/'\n",
    "ex2 ='2022-10-03 16:08:33.982757/'\n",
    "ex3 ='2022-09-27 15:33:15.358339/'"
   ]
  },
  {
   "cell_type": "code",
   "execution_count": 5,
   "id": "99729b72-73f7-4e06-a27f-5ac8fb2002e4",
   "metadata": {},
   "outputs": [],
   "source": [
    "ex ='2022-10-09 21:38:29.092510/'\n",
    "ex = '2022-10-11 13:50:48.083335/'\n",
    "ax = '2022-10-12 12:44:50.953692/'\n",
    "ex = '2022-10-13 10:39:12.990541/'\n",
    "ex = '2022-10-13 14:45:03.021888/'\n",
    "ex = '2022-10-13 18:40:47.923046/'\n",
    "ex = '2022-10-14 03:34:22.593797/'\n",
    "ex = '2022-10-14 03:34:22.795011/'\n",
    "ex = '2022-10-14 08:23:55.432034/'\n",
    "ex = '2022-10-14 21:25:46.977057/'\n",
    "#ex = '2022-10-11 11:40:10.018008/'"
   ]
  },
  {
   "cell_type": "code",
   "execution_count": 6,
   "id": "ca2cf1b3",
   "metadata": {},
   "outputs": [
    {
     "ename": "SyntaxError",
     "evalue": "EOL while scanning string literal (<ipython-input-6-195a1cb1e0c0>, line 23)",
     "output_type": "error",
     "traceback": [
      "\u001b[0;36m  File \u001b[0;32m\"<ipython-input-6-195a1cb1e0c0>\"\u001b[0;36m, line \u001b[0;32m23\u001b[0m\n\u001b[0;31m    ax.scatter3D(Z_embedded2[:513, 0], Z_embedded2[:513, 1], Z_embedded2[:513, 2], c=machine_num[:513], marker='o', cmap=palette[:len(set(domain))])')\u001b[0m\n\u001b[0m                                                                                                                                                      ^\u001b[0m\n\u001b[0;31mSyntaxError\u001b[0m\u001b[0;31m:\u001b[0m EOL while scanning string literal\n"
     ]
    }
   ],
   "source": [
    "from matplotlib.colors import ListedColormap\n",
    "def TSNE_funtion(perplexity, lr, n_iter, Z,domain, machine_num, title, produce_visuals=True):\n",
    "    Z_embedded = TSNE(n_components=2, perplexity = perplexity, learning_rate= lr,init='random', n_iter =n_iter).fit_transform(Z)\n",
    "    print(Z_embedded.shape)\n",
    "    if produce_visuals:\n",
    "        print(set(domain), set(machine_num))\n",
    "        palette = ['red', 'blue', 'orange', 'green']\n",
    "        plt.figure(figsize = (15, 10))\n",
    "        plt.subplot(1,2,1)\n",
    "        sns.scatterplot(x=Z_embedded[:, 0], y=Z_embedded[:, 1], hue=domain, palette=palette[:len(set(domain))]).set(title=\"HER 2 domain visualization\") \n",
    "        plt.subplot(1,2,2)\n",
    "        print(domain.shape, machine_num.shape)\n",
    "        sns.scatterplot(x=Z_embedded[:513, 0], y=Z_embedded[:513, 1], hue = machine_num, palette=palette[:len(set(machine_num))]).set(title=\"HER 2 machine visualization\")\n",
    "        plt.show()\n",
    "        \n",
    "        Z_embedded2 = TSNE(n_components=3, perplexity = perplexity, learning_rate= lr,init='random', n_iter =n_iter).fit_transform(Z)\n",
    "        print(Z_embedded2.shape)\n",
    "        cmap = ListedColormap(sns.color_palette(\"husl\", 256).as_hex())\n",
    "\n",
    "# # plot\n",
    "# sc = ax.scatter(x, y, z, s=40, c=x, marker='o', cmap=cmap, alpha=1)\n",
    "        ax = plt.axes(projection='3d')\n",
    "        ax.scatter3D(Z_embedded2[:513, 0], Z_embedded2[:513, 1], Z_embedded2[:513, 2], c=machine_num[:513], marker='o', cmap=palette[:len(set(domain))])')\n",
    "        ax.set_xlabel(\"comp 1\")\n",
    "        ax.set_ylabel(\"comp 2\")\n",
    "        ax.set_zlabel(\"comp 3\")\n",
    "\n",
    "        #plt.title(title)\n",
    "       "
   ]
  },
  {
   "cell_type": "code",
   "execution_count": null,
   "id": "c78f7d90-a475-4304-83a4-900393f5c9f1",
   "metadata": {},
   "outputs": [],
   "source": []
  },
  {
   "cell_type": "code",
   "execution_count": 7,
   "id": "4a9b3fba",
   "metadata": {},
   "outputs": [
    {
     "data": {
      "image/png": "[encoded data removed]",
      "text/plain": [
       "<Figure size 432x288 with 2 Axes>"
      ]
     },
     "metadata": {
      "needs_background": "light"
     },
     "output_type": "display_data"
    }
   ],
   "source": [
    "loss, acc, te_loss, te_acc, domain, machine, machine_num, Z, args = load_files(ex)\n",
    "N = 99\n",
    "plot_loss_acc(loss[:N], acc[:N], te_loss[:N], te_acc[:N], 'Pretraining')\n",
    "\n",
    "#loss_p, acc_p, domain_p, machine_p, machine_num_p, Z_p = load_files('positive/')"
   ]
  },
  {
   "cell_type": "code",
   "execution_count": 8,
   "id": "7f9890a1-6d37-4482-85a3-b79af27180cf",
   "metadata": {},
   "outputs": [
    {
     "data": {
      "image/png": "[encoded data removed]",
      "text/plain": [
       "<Figure size 432x288 with 2 Axes>"
      ]
     },
     "metadata": {
      "needs_background": "light"
     },
     "output_type": "display_data"
    }
   ],
   "source": [
    "plot_loss_acc(loss[N+1:], acc[N+1:], te_loss[N+1:], te_acc[N+1:], 'ELBO')"
   ]
  },
  {
   "cell_type": "code",
   "execution_count": 9,
   "id": "89d398df-a07b-444f-ac12-103fc7be323d",
   "metadata": {},
   "outputs": [],
   "source": [
    "# from torch.utils.tensorboard import SummaryWriter\n",
    "# path ='../debug'\n",
    "# for exp in os.listdir(path):\n",
    "#     if ex[:17] in exp:\n",
    "#         experiment = exp\n",
    "#         path+='/'+exp\n",
    "# writer = SummaryWriter(path)\n",
    "# class_labels = domain\n",
    "# writer.add_embedding(Z,metadata=class_labels)    \n",
    "#     #+ex #/debug/'+ex\n",
    "# print(os.listdir(path))\n",
    "# #write_embeddings(x = batch_imgs.to(DEVICE))\n",
    "# writer.close()"
   ]
  },
  {
   "cell_type": "code",
   "execution_count": 15,
   "id": "1fa5b91c-00b7-49ff-a2ee-21fc9cf77b22",
   "metadata": {},
   "outputs": [
    {
     "data": {
      "text/plain": [
       "(537,)"
      ]
     },
     "execution_count": 15,
     "metadata": {},
     "output_type": "execute_result"
    }
   ],
   "source": [
    "domain.shape\n"
   ]
  },
  {
   "cell_type": "code",
   "execution_count": 17,
   "id": "97f6f013-65e1-4cf6-b593-32b8df0def4e",
   "metadata": {},
   "outputs": [
    {
     "data": {
      "text/plain": [
       "(537,)"
      ]
     },
     "execution_count": 17,
     "metadata": {},
     "output_type": "execute_result"
    }
   ],
   "source": [
    "machine_num.shape"
   ]
  },
  {
   "cell_type": "code",
   "execution_count": 18,
   "id": "da947036-7d28-4297-96b9-b12e614bf823",
   "metadata": {},
   "outputs": [],
   "source": [
    "def plot_histogram(domain_labels, machine_label):\n",
    "\n",
    "    print(set(domain_labels), set(machine_label))\n",
    "    d1_machine = []\n",
    "    d2_machine = []\n",
    "    d3_machine = []\n",
    "\n",
    "    for i in range(0, len(domain_labels) - 1):\n",
    "\n",
    "        if domain_labels[i] == 1:\n",
    "            d1_machine.append(machine_label[i])\n",
    "        elif domain_labels[i] == 2:\n",
    "            d2_machine.append(machine_label[i])\n",
    "        elif domain_labels[i] == 3:\n",
    "            d3_machine.append(machine_label[i])\n",
    "\n",
    "    from matplotlib import pyplot as plt\n",
    "    plt.figure(figsize = (10, 15))\n",
    "    plt.subplot(3, 1, 1)\n",
    "    plt.hist(d1_machine)\n",
    "    plt.title('Class 1 Cancerous Tissue Scan Sources')\n",
    "\n",
    "    plt.subplot(3, 1, 2)\n",
    "    plt.hist(d2_machine)\n",
    "    plt.title('Class 2 Cancerous Tissue Scan Sources')\n",
    "\n",
    "    \n",
    "    plt.subplot(3, 1, 3)\n",
    "    plt.hist(d3_machine)\n",
    "    plt.title('Class 3 Cancerous Tissue Scan Sources')\n",
    "    plt.show()\n",
    "    # plt.savefig('./figures/hist_results'+str(epoch)+'.png')\n"
   ]
  },
  {
   "cell_type": "code",
   "execution_count": 19,
   "id": "463b31bd-67f0-4a1c-bbd5-eb27e0386763",
   "metadata": {},
   "outputs": [
    {
     "name": "stdout",
     "output_type": "stream",
     "text": [
      "{0.0, 1.0, 2.0, 3.0} {0, 1, 2, 3}\n"
     ]
    },
    {
     "data": {
      "image/png": "[encoded data removed]",
      "text/plain": [
       "<Figure size 720x1080 with 3 Axes>"
      ]
     },
     "metadata": {
      "needs_background": "light"
     },
     "output_type": "display_data"
    }
   ],
   "source": [
    "plot_histogram(domain, machine_num)"
   ]
  },
  {
   "cell_type": "code",
   "execution_count": 207,
   "id": "274ec69b-0858-4c66-bd26-00b636c51dd9",
   "metadata": {},
   "outputs": [],
   "source": [
    "# experiments = [ex1, ex2, ex3]\n",
    "# legend_loss = []\n",
    "# legend_acc = []\n",
    "# plt.figure(figsize = (25, 25))\n",
    "# for ex in experiments:\n",
    "#     loss, acc, te_loss, te_acc, domain, machine, machine_num, Z, args = load_files(ex)\n",
    "#     #print(args)\n",
    "#     #plot_loss_acc(loss, acc, te_loss, te_acc)\n",
    "#     x = np.arange(0,len(loss))\n",
    "#     plt.subplot(2, 1, 1)\n",
    "#     plt.plot(x, loss)\n",
    "#     plt.plot(x, te_loss)\n",
    "#     plt.title('Loss ')\n",
    "#     legend_loss.append('Loss: '+args[0]+\" \" +args[1]+\": zd_dim = \"+args[3]+ \" ,lr = \"+args[7]+ \" ,num_classes = \"+args[5])\n",
    "#     legend_loss.append('Loss_te: '+args[0]+\" \" +args[1]+\": zd_dim = \"+args[3]+ \" ,lr = \"+args[7]+ \" ,num_classes = \"+args[5])\n",
    "    \n",
    "#     plt.subplot(2,1,2)\n",
    "#     plt.plot(x, acc)\n",
    "#     plt.plot(x, te_acc)\n",
    "#     plt.title('Accuracy ')\n",
    "#     plt.ylim(0, 1)\n",
    "#     legend_acc.append('Acc: '+args[0]+\" \" +args[1]+\": zd_dim = \"+args[3]+ \" ,lr = \"+args[7]+ \" ,num_classes = \"+args[5])\n",
    "#     legend_acc.append('Acc_te: '+args[0]+\" \" +args[1]+\": zd_dim = \"+args[3]+ \" ,lr = \"+args[7]+ \" ,num_classes = \"+args[5])\n",
    "# #print(len(legend))\n",
    "# plt.subplot(2,1,1)\n",
    "# plt.legend(legend_loss)\n",
    "# plt.subplot(2,1,2)\n",
    "# plt.legend(legend_acc)\n",
    "# plt.show()"
   ]
  },
  {
   "cell_type": "code",
   "execution_count": 208,
   "id": "318bc162",
   "metadata": {},
   "outputs": [
    {
     "data": {
      "text/plain": [
       "(537, 250)"
      ]
     },
     "execution_count": 208,
     "metadata": {},
     "output_type": "execute_result"
    }
   ],
   "source": [
    "experiments = [ex]\n",
    "Z.shape"
   ]
  },
  {
   "cell_type": "code",
   "execution_count": 209,
   "id": "1d89753b-6c2b-46fb-947d-4d763f357573",
   "metadata": {},
   "outputs": [],
   "source": [
    "# perplexity, lr, n_iter"
   ]
  },
  {
   "cell_type": "code",
   "execution_count": 210,
   "id": "e1297ac8",
   "metadata": {},
   "outputs": [],
   "source": [
    "# for i in range(2, 80, 20):\n",
    "#     title = 'Experiment: '+args[0]+\" \" +args[1]+\": zd_dim = \"+args[3]+ \" ,lr = \"+args[7]+ \" ,num_classes = \"+args[5]\n",
    "    \n",
    "#     TSNE_funtion(i, 2, 450, Z,domain, machine_num,title, produce_visuals=True)\n"
   ]
  },
  {
   "cell_type": "code",
   "execution_count": 22,
   "id": "f8b70b75",
   "metadata": {},
   "outputs": [],
   "source": [
    "def machines_per_domain(domain, machine, experiment_name):\n",
    "    plt.figure(figsize = (15,5))\n",
    "    for i in range(1,4):\n",
    "        ND=0\n",
    "        H1=0\n",
    "        H2=0\n",
    "        FD=0\n",
    "\n",
    "        for j in range(len(machine)):\n",
    "            if domain[j] == i and machine[j]=='ND':\n",
    "                ND+=1\n",
    "            if domain[j] == i and machine[j]=='H1':\n",
    "                H1+=1\n",
    "            if domain[j] == i and machine[j]=='H2':\n",
    "                H2+=1\n",
    "            if domain[j] == i and machine[j]=='FD':\n",
    "                FD+=1\n",
    "        plt.subplot(1,3,i)    \n",
    "        plt.bar([0, 2, 4, 6], [ND, H1, H2, FD])\n",
    "        plt.xticks([0, 2, 4, 6], ['ND', 'H1', 'H2', 'FD'])\n",
    "        plt.title(experiment_name+' Domain # ' +str(i))\n",
    "        plt.ylim(0, 150)\n",
    "\n",
    "\n",
    "    plt.show() "
   ]
  },
  {
   "cell_type": "code",
   "execution_count": 23,
   "id": "cb23d8c3",
   "metadata": {},
   "outputs": [
    {
     "data": {
      "image/png": "[encoded data removed]",
      "text/plain": [
       "<Figure size 432x288 with 1 Axes>"
      ]
     },
     "metadata": {
      "needs_background": "light"
     },
     "output_type": "display_data"
    },
    {
     "data": {
      "image/png": "[encoded data removed]",
      "text/plain": [
       "<Figure size 1080x360 with 3 Axes>"
      ]
     },
     "metadata": {
      "needs_background": "light"
     },
     "output_type": "display_data"
    }
   ],
   "source": [
    "plt.hist(machine)\n",
    "plt.title('total machine distribution')\n",
    "machines_per_domain(domain, machine, '')\n",
    "#machines_per_domain(domain_p, machine_p, 'Positive loss')"
   ]
  },
  {
   "cell_type": "code",
   "execution_count": 24,
   "id": "27c37606",
   "metadata": {},
   "outputs": [],
   "source": [
    "def domain_per_machine(domain, machine, experiment_name):\n",
    "    plt.figure(figsize = (15,5))\n",
    "    machine_num = np.unique(machine)\n",
    "    domain_names = [1, 2, 3]\n",
    "    counter=0\n",
    "    c = 0\n",
    "    print(len(domain_names), machine_num)\n",
    "    for i in machine_num:\n",
    "\n",
    "        d1 = 0\n",
    "        d2 =0\n",
    "        d3 =0\n",
    "\n",
    "\n",
    "        for j in range(len(domain)-50):\n",
    "            #print(i, j, domain[j], machine[j])\n",
    "            if domain[j]==domain_names[0] and machine[j]==i:\n",
    "                d1+=1\n",
    "            if domain[j]== domain_names[1] and machine[j]==i:\n",
    "                d2+=1\n",
    "            try:\n",
    "                if domain[j]==domain_names[2] and machine[j]==i:\n",
    "                    d3+=1\n",
    "            except:\n",
    "                c+=1\n",
    "        print([d1, d2, d3])\n",
    "        plt.subplot(1,4,counter+1)    \n",
    "        plt.bar([0, 2, 4], [d1, d2, d3])\n",
    "        plt.xticks([0, 2, 4], ['D1', 'D2', 'D3'])\n",
    "        plt.title(experiment_name+' Machine # ' +str(i))\n",
    "        plt.ylim(0, 150)\n",
    "        counter+=1\n",
    "\n",
    "\n",
    "    plt.show() "
   ]
  },
  {
   "cell_type": "code",
   "execution_count": null,
   "id": "da78cbd6-7c75-49f7-9ffd-1d0b8f6e5453",
   "metadata": {},
   "outputs": [],
   "source": []
  },
  {
   "cell_type": "code",
   "execution_count": 25,
   "id": "02a73c05",
   "metadata": {},
   "outputs": [
    {
     "name": "stdout",
     "output_type": "stream",
     "text": [
      "3 ['FD' 'H1' 'H2' 'ND']\n",
      "[58, 5, 63]\n",
      "[58, 5, 60]\n",
      "[65, 5, 49]\n",
      "[84, 0, 35]\n"
     ]
    },
    {
     "data": {
      "image/png": "[encoded data removed]",
      "text/plain": [
       "<Figure size 432x288 with 1 Axes>"
      ]
     },
     "metadata": {
      "needs_background": "light"
     },
     "output_type": "display_data"
    },
    {
     "data": {
      "image/png": "[encoded data removed]",
      "text/plain": [
       "<Figure size 1080x360 with 4 Axes>"
      ]
     },
     "metadata": {
      "needs_background": "light"
     },
     "output_type": "display_data"
    }
   ],
   "source": [
    "plt.hist(domain)\n",
    "plt.title('total domain distribution')\n",
    "domain_per_machine(domain, machine, '')"
   ]
  },
  {
   "cell_type": "code",
   "execution_count": 90,
   "id": "ebb7f014",
   "metadata": {},
   "outputs": [],
   "source": [
    "import pandas as pd\n",
    "scores = pd.read_csv('../HER2/truthfile_002.csv', names=['num', 'file name', 's1', 's2', 's3', 's4', 's5', 's6', 's_7']) \n",
    "# def box_pot():\n",
    "    "
   ]
  },
  {
   "cell_type": "code",
   "execution_count": 91,
   "id": "d23a8f0b-1e9b-4426-aa96-aab7ebcf4cc0",
   "metadata": {},
   "outputs": [
    {
     "data": {
      "text/plain": [
       "60.57142857142857"
      ]
     },
     "execution_count": 91,
     "metadata": {},
     "output_type": "execute_result"
    }
   ],
   "source": [
    "(44+70+80+42+37+91+60)/7"
   ]
  },
  {
   "cell_type": "code",
   "execution_count": 92,
   "id": "00f96632-b569-4085-98bf-78c5d5170d56",
   "metadata": {},
   "outputs": [
    {
     "data": {
      "text/html": [
       "<div>\n",
       "<style scoped>\n",
       "    .dataframe tbody tr th:only-of-type {\n",
       "        vertical-align: middle;\n",
       "    }\n",
       "\n",
       "    .dataframe tbody tr th {\n",
       "        vertical-align: top;\n",
       "    }\n",
       "\n",
       "    .dataframe thead th {\n",
       "        text-align: right;\n",
       "    }\n",
       "</style>\n",
       "<table border=\"1\" class=\"dataframe\">\n",
       "  <thead>\n",
       "    <tr style=\"text-align: right;\">\n",
       "      <th></th>\n",
       "      <th>num</th>\n",
       "      <th>file name</th>\n",
       "      <th>s1</th>\n",
       "      <th>s2</th>\n",
       "      <th>s3</th>\n",
       "      <th>s4</th>\n",
       "      <th>s5</th>\n",
       "      <th>s6</th>\n",
       "      <th>s_7</th>\n",
       "    </tr>\n",
       "  </thead>\n",
       "  <tbody>\n",
       "    <tr>\n",
       "      <th>0</th>\n",
       "      <td>4816\\</td>\n",
       "      <td>4816-22281,2869.tif</td>\n",
       "      <td>51</td>\n",
       "      <td>38</td>\n",
       "      <td>42</td>\n",
       "      <td>33</td>\n",
       "      <td>50</td>\n",
       "      <td>68</td>\n",
       "      <td>46</td>\n",
       "    </tr>\n",
       "    <tr>\n",
       "      <th>1</th>\n",
       "      <td>4816\\</td>\n",
       "      <td>4816-4772,4119.tif</td>\n",
       "      <td>46</td>\n",
       "      <td>50</td>\n",
       "      <td>60</td>\n",
       "      <td>50</td>\n",
       "      <td>50</td>\n",
       "      <td>32</td>\n",
       "      <td>62</td>\n",
       "    </tr>\n",
       "    <tr>\n",
       "      <th>2</th>\n",
       "      <td>4816\\</td>\n",
       "      <td>4816-8176,8561.tif</td>\n",
       "      <td>54</td>\n",
       "      <td>29</td>\n",
       "      <td>45</td>\n",
       "      <td>37</td>\n",
       "      <td>50</td>\n",
       "      <td>50</td>\n",
       "      <td>26</td>\n",
       "    </tr>\n",
       "    <tr>\n",
       "      <th>3</th>\n",
       "      <td>5578\\</td>\n",
       "      <td>5578-2.tif</td>\n",
       "      <td>44</td>\n",
       "      <td>70</td>\n",
       "      <td>80</td>\n",
       "      <td>42</td>\n",
       "      <td>37</td>\n",
       "      <td>91</td>\n",
       "      <td>60</td>\n",
       "    </tr>\n",
       "    <tr>\n",
       "      <th>4</th>\n",
       "      <td>5578\\</td>\n",
       "      <td>5578-5.tif</td>\n",
       "      <td>58</td>\n",
       "      <td>27</td>\n",
       "      <td>28</td>\n",
       "      <td>32</td>\n",
       "      <td>27</td>\n",
       "      <td>28</td>\n",
       "      <td>30</td>\n",
       "    </tr>\n",
       "    <tr>\n",
       "      <th>...</th>\n",
       "      <td>...</td>\n",
       "      <td>...</td>\n",
       "      <td>...</td>\n",
       "      <td>...</td>\n",
       "      <td>...</td>\n",
       "      <td>...</td>\n",
       "      <td>...</td>\n",
       "      <td>...</td>\n",
       "      <td>...</td>\n",
       "    </tr>\n",
       "    <tr>\n",
       "      <th>236</th>\n",
       "      <td>s06-8304\\</td>\n",
       "      <td>s06-8304-51447-9570.tif</td>\n",
       "      <td>80</td>\n",
       "      <td>34</td>\n",
       "      <td>93</td>\n",
       "      <td>27</td>\n",
       "      <td>76</td>\n",
       "      <td>88</td>\n",
       "      <td>60</td>\n",
       "    </tr>\n",
       "    <tr>\n",
       "      <th>237</th>\n",
       "      <td>s06-8342\\</td>\n",
       "      <td>s06-8342-67888-15878.tif</td>\n",
       "      <td>70</td>\n",
       "      <td>96</td>\n",
       "      <td>95</td>\n",
       "      <td>76</td>\n",
       "      <td>78</td>\n",
       "      <td>90</td>\n",
       "      <td>85</td>\n",
       "    </tr>\n",
       "    <tr>\n",
       "      <th>238</th>\n",
       "      <td>s06-870-A1\\</td>\n",
       "      <td>s06-870-A1-21141-6608.tif</td>\n",
       "      <td>30</td>\n",
       "      <td>29</td>\n",
       "      <td>58</td>\n",
       "      <td>40</td>\n",
       "      <td>28</td>\n",
       "      <td>38</td>\n",
       "      <td>45</td>\n",
       "    </tr>\n",
       "    <tr>\n",
       "      <th>239</th>\n",
       "      <td>s06-870-A1\\</td>\n",
       "      <td>s06-870-A1-4311-11774.tif</td>\n",
       "      <td>37</td>\n",
       "      <td>55</td>\n",
       "      <td>60</td>\n",
       "      <td>48</td>\n",
       "      <td>61</td>\n",
       "      <td>79</td>\n",
       "      <td>50</td>\n",
       "    </tr>\n",
       "    <tr>\n",
       "      <th>240</th>\n",
       "      <td>s06-9179-a\\</td>\n",
       "      <td>s06-9179-a-15922-25041.tif</td>\n",
       "      <td>37</td>\n",
       "      <td>48</td>\n",
       "      <td>55</td>\n",
       "      <td>48</td>\n",
       "      <td>50</td>\n",
       "      <td>59</td>\n",
       "      <td>34</td>\n",
       "    </tr>\n",
       "  </tbody>\n",
       "</table>\n",
       "<p>241 rows × 9 columns</p>\n",
       "</div>"
      ],
      "text/plain": [
       "             num                   file name  s1  s2  s3  s4  s5  s6  s_7\n",
       "0          4816\\         4816-22281,2869.tif  51  38  42  33  50  68   46\n",
       "1          4816\\          4816-4772,4119.tif  46  50  60  50  50  32   62\n",
       "2          4816\\          4816-8176,8561.tif  54  29  45  37  50  50   26\n",
       "3          5578\\                  5578-2.tif  44  70  80  42  37  91   60\n",
       "4          5578\\                  5578-5.tif  58  27  28  32  27  28   30\n",
       "..           ...                         ...  ..  ..  ..  ..  ..  ..  ...\n",
       "236    s06-8304\\     s06-8304-51447-9570.tif  80  34  93  27  76  88   60\n",
       "237    s06-8342\\    s06-8342-67888-15878.tif  70  96  95  76  78  90   85\n",
       "238  s06-870-A1\\   s06-870-A1-21141-6608.tif  30  29  58  40  28  38   45\n",
       "239  s06-870-A1\\   s06-870-A1-4311-11774.tif  37  55  60  48  61  79   50\n",
       "240  s06-9179-a\\  s06-9179-a-15922-25041.tif  37  48  55  48  50  59   34\n",
       "\n",
       "[241 rows x 9 columns]"
      ]
     },
     "execution_count": 92,
     "metadata": {},
     "output_type": "execute_result"
    }
   ],
   "source": [
    "scores"
   ]
  },
  {
   "cell_type": "code",
   "execution_count": 93,
   "id": "fbbdc09a",
   "metadata": {},
   "outputs": [
    {
     "name": "stdout",
     "output_type": "stream",
     "text": [
      "/home/mariia.sidulova/DomId/notebooks\n",
      "./2022-10-14 21:25:46.977057/image_locs.txt\n"
     ]
    }
   ],
   "source": [
    "a = scores.loc[scores['file name'].str.contains('5578-2.tif')].mean(axis =1)\n",
    "#df.loc[df['column_name'].isin(some_values)]\n",
    "print(os.getcwd())\n",
    "path = './2022-10-14 21:25:46.977057/'\n",
    "print(path+'image_locs.txt')\n",
    "img_locs = np.loadtxt(path+'image_locs.txt', str)"
   ]
  },
  {
   "cell_type": "code",
   "execution_count": 94,
   "id": "00fa976a-61c7-4e45-b740-4554fb19634c",
   "metadata": {},
   "outputs": [
    {
     "data": {
      "text/plain": [
       "'6670-2966,7266H1'"
      ]
     },
     "execution_count": 94,
     "metadata": {},
     "output_type": "execute_result"
    }
   ],
   "source": [
    "img_locs[0].split('/')[3][:-4]"
   ]
  },
  {
   "cell_type": "code",
   "execution_count": null,
   "id": "ebe7ffa4-3960-40f6-ac9a-ddb6c88648fb",
   "metadata": {},
   "outputs": [],
   "source": [
    "M = []\n",
    "for prediction in img_locs:\n",
    "    prediction = str(prediction.split('/')[3])\n",
    "\n",
    "    if 's' in prediction:\n",
    "        \n",
    "        N = (len(prediction)-4-5)\n",
    "        # print(N, prediction[:N])\n",
    "        # print(scores.loc[scores['file name'].str.contains(prediction[:N])])\n",
    "        mean_score = scores.loc[scores['file name'].str.contains(prediction[:N])].mean(axis=1)\n",
    "    if 'S' in prediction:\n",
    "        \n",
    "        N = (len(prediction)-4-5)\n",
    "        # print(N, prediction[:N])\n",
    "        # print(scores.loc[scores['file name'].str.contains(prediction[:N])])\n",
    "        mean_score = scores.loc[scores['file name'].str.contains(prediction[:N])].mean(axis=1)\n",
    "    else:\n",
    "        N = len(prediction)-6\n",
    "        # print('secod case', N, prediction[:N])\n",
    "        # print(scores.loc[scores['file name'].str.contains(prediction[:N])])\n",
    "        mean_score = scores.loc[scores['file name'].str.contains(prediction[:N])].mean(axis=1)\n",
    "   \n",
    "    mean_score = float(mean_score)\n",
    "    #print(mean_score)\n",
    "    M.append(mean_score)"
   ]
  },
  {
   "cell_type": "code",
   "execution_count": 103,
   "id": "ba9d90f2-042c-4082-a886-5d76cd4f8523",
   "metadata": {},
   "outputs": [
    {
     "data": {
      "image/png": "[encoded data removed]",
      "text/plain": [
       "<Figure size 432x288 with 1 Axes>"
      ]
     },
     "metadata": {
      "needs_background": "light"
     },
     "output_type": "display_data"
    }
   ],
   "source": [
    "data1 =[]\n",
    "data2 = []\n",
    "data3 =[]\n",
    "for i in range(len(domain)):\n",
    "    if domain[i] ==1:\n",
    "        data1.append(M[i])\n",
    "    if domain[i] ==2:\n",
    "        data2.append(M[i])\n",
    "    if domain[i] ==3:\n",
    "        data3.append(M[i])\n",
    "data = [data1, data2, data3]\n",
    "fig = plt.figure()\n",
    "# Creating axes instance\n",
    "#ax = fig.add_axes([1, 2, 3])#, 1])\n",
    "# Creating axes instance\n",
    "ax = fig.add_axes([0, 0, 1, 1])\n",
    "# Creating plot\n",
    "bp = ax.boxplot(data)\n",
    "ax.scatter([1]*len(data[0]), data[0])\n",
    "ax.scatter([2]*len(data[1]), data[1])\n",
    "ax.scatter([3]*len(data[2]), data[2])\n",
    "plt.xlabel('domain')\n",
    "plt.ylabel('score')\n",
    "plt.show()"
   ]
  },
  {
   "cell_type": "code",
   "execution_count": 97,
   "id": "54c36ed5-eaff-401a-93b8-232727f99976",
   "metadata": {},
   "outputs": [
    {
     "ename": "AttributeError",
     "evalue": "'list' object has no attribute 'get'",
     "output_type": "error",
     "traceback": [
      "\u001b[0;31m---------------------------------------------------------------------------\u001b[0m",
      "\u001b[0;31mAttributeError\u001b[0m                            Traceback (most recent call last)",
      "\u001b[0;32m<ipython-input-97-737c206c481d>\u001b[0m in \u001b[0;36m<module>\u001b[0;34m\u001b[0m\n\u001b[1;32m      1\u001b[0m sns.boxplot(x = \"domain\",\n\u001b[1;32m      2\u001b[0m             \u001b[0my\u001b[0m \u001b[0;34m=\u001b[0m \u001b[0;34m\"score\"\u001b[0m\u001b[0;34m,\u001b[0m\u001b[0;34m\u001b[0m\u001b[0;34m\u001b[0m\u001b[0m\n\u001b[0;32m----> 3\u001b[0;31m             data = data[0])\n\u001b[0m\u001b[1;32m      4\u001b[0m sns.stripplot(x = \"domain\",\n\u001b[1;32m      5\u001b[0m               \u001b[0my\u001b[0m \u001b[0;34m=\u001b[0m \u001b[0;34m\"score\"\u001b[0m\u001b[0;34m,\u001b[0m\u001b[0;34m\u001b[0m\u001b[0;34m\u001b[0m\u001b[0m\n",
      "\u001b[0;32m~/domid1/lib/python3.6/site-packages/seaborn/_decorators.py\u001b[0m in \u001b[0;36minner_f\u001b[0;34m(*args, **kwargs)\u001b[0m\n\u001b[1;32m     44\u001b[0m             )\n\u001b[1;32m     45\u001b[0m         \u001b[0mkwargs\u001b[0m\u001b[0;34m.\u001b[0m\u001b[0mupdate\u001b[0m\u001b[0;34m(\u001b[0m\u001b[0;34m{\u001b[0m\u001b[0mk\u001b[0m\u001b[0;34m:\u001b[0m \u001b[0marg\u001b[0m \u001b[0;32mfor\u001b[0m \u001b[0mk\u001b[0m\u001b[0;34m,\u001b[0m \u001b[0marg\u001b[0m \u001b[0;32min\u001b[0m \u001b[0mzip\u001b[0m\u001b[0;34m(\u001b[0m\u001b[0msig\u001b[0m\u001b[0;34m.\u001b[0m\u001b[0mparameters\u001b[0m\u001b[0;34m,\u001b[0m \u001b[0margs\u001b[0m\u001b[0;34m)\u001b[0m\u001b[0;34m}\u001b[0m\u001b[0;34m)\u001b[0m\u001b[0;34m\u001b[0m\u001b[0;34m\u001b[0m\u001b[0m\n\u001b[0;32m---> 46\u001b[0;31m         \u001b[0;32mreturn\u001b[0m \u001b[0mf\u001b[0m\u001b[0;34m(\u001b[0m\u001b[0;34m**\u001b[0m\u001b[0mkwargs\u001b[0m\u001b[0;34m)\u001b[0m\u001b[0;34m\u001b[0m\u001b[0;34m\u001b[0m\u001b[0m\n\u001b[0m\u001b[1;32m     47\u001b[0m     \u001b[0;32mreturn\u001b[0m \u001b[0minner_f\u001b[0m\u001b[0;34m\u001b[0m\u001b[0;34m\u001b[0m\u001b[0m\n\u001b[1;32m     48\u001b[0m \u001b[0;34m\u001b[0m\u001b[0m\n",
      "\u001b[0;32m~/domid1/lib/python3.6/site-packages/seaborn/categorical.py\u001b[0m in \u001b[0;36mboxplot\u001b[0;34m(x, y, hue, data, order, hue_order, orient, color, palette, saturation, width, dodge, fliersize, linewidth, whis, ax, **kwargs)\u001b[0m\n\u001b[1;32m   2243\u001b[0m     plotter = _BoxPlotter(x, y, hue, data, order, hue_order,\n\u001b[1;32m   2244\u001b[0m                           \u001b[0morient\u001b[0m\u001b[0;34m,\u001b[0m \u001b[0mcolor\u001b[0m\u001b[0;34m,\u001b[0m \u001b[0mpalette\u001b[0m\u001b[0;34m,\u001b[0m \u001b[0msaturation\u001b[0m\u001b[0;34m,\u001b[0m\u001b[0;34m\u001b[0m\u001b[0;34m\u001b[0m\u001b[0m\n\u001b[0;32m-> 2245\u001b[0;31m                           width, dodge, fliersize, linewidth)\n\u001b[0m\u001b[1;32m   2246\u001b[0m \u001b[0;34m\u001b[0m\u001b[0m\n\u001b[1;32m   2247\u001b[0m     \u001b[0;32mif\u001b[0m \u001b[0max\u001b[0m \u001b[0;32mis\u001b[0m \u001b[0;32mNone\u001b[0m\u001b[0;34m:\u001b[0m\u001b[0;34m\u001b[0m\u001b[0;34m\u001b[0m\u001b[0m\n",
      "\u001b[0;32m~/domid1/lib/python3.6/site-packages/seaborn/categorical.py\u001b[0m in \u001b[0;36m__init__\u001b[0;34m(self, x, y, hue, data, order, hue_order, orient, color, palette, saturation, width, dodge, fliersize, linewidth)\u001b[0m\n\u001b[1;32m    404\u001b[0m                  width, dodge, fliersize, linewidth):\n\u001b[1;32m    405\u001b[0m \u001b[0;34m\u001b[0m\u001b[0m\n\u001b[0;32m--> 406\u001b[0;31m         \u001b[0mself\u001b[0m\u001b[0;34m.\u001b[0m\u001b[0mestablish_variables\u001b[0m\u001b[0;34m(\u001b[0m\u001b[0mx\u001b[0m\u001b[0;34m,\u001b[0m \u001b[0my\u001b[0m\u001b[0;34m,\u001b[0m \u001b[0mhue\u001b[0m\u001b[0;34m,\u001b[0m \u001b[0mdata\u001b[0m\u001b[0;34m,\u001b[0m \u001b[0morient\u001b[0m\u001b[0;34m,\u001b[0m \u001b[0morder\u001b[0m\u001b[0;34m,\u001b[0m \u001b[0mhue_order\u001b[0m\u001b[0;34m)\u001b[0m\u001b[0;34m\u001b[0m\u001b[0;34m\u001b[0m\u001b[0m\n\u001b[0m\u001b[1;32m    407\u001b[0m         \u001b[0mself\u001b[0m\u001b[0;34m.\u001b[0m\u001b[0mestablish_colors\u001b[0m\u001b[0;34m(\u001b[0m\u001b[0mcolor\u001b[0m\u001b[0;34m,\u001b[0m \u001b[0mpalette\u001b[0m\u001b[0;34m,\u001b[0m \u001b[0msaturation\u001b[0m\u001b[0;34m)\u001b[0m\u001b[0;34m\u001b[0m\u001b[0;34m\u001b[0m\u001b[0m\n\u001b[1;32m    408\u001b[0m \u001b[0;34m\u001b[0m\u001b[0m\n",
      "\u001b[0;32m~/domid1/lib/python3.6/site-packages/seaborn/categorical.py\u001b[0m in \u001b[0;36mestablish_variables\u001b[0;34m(self, x, y, hue, data, orient, order, hue_order, units)\u001b[0m\n\u001b[1;32m    142\u001b[0m             \u001b[0;31m# See if we need to get variables from `data`\u001b[0m\u001b[0;34m\u001b[0m\u001b[0;34m\u001b[0m\u001b[0;34m\u001b[0m\u001b[0m\n\u001b[1;32m    143\u001b[0m             \u001b[0;32mif\u001b[0m \u001b[0mdata\u001b[0m \u001b[0;32mis\u001b[0m \u001b[0;32mnot\u001b[0m \u001b[0;32mNone\u001b[0m\u001b[0;34m:\u001b[0m\u001b[0;34m\u001b[0m\u001b[0;34m\u001b[0m\u001b[0m\n\u001b[0;32m--> 144\u001b[0;31m                 \u001b[0mx\u001b[0m \u001b[0;34m=\u001b[0m \u001b[0mdata\u001b[0m\u001b[0;34m.\u001b[0m\u001b[0mget\u001b[0m\u001b[0;34m(\u001b[0m\u001b[0mx\u001b[0m\u001b[0;34m,\u001b[0m \u001b[0mx\u001b[0m\u001b[0;34m)\u001b[0m\u001b[0;34m\u001b[0m\u001b[0;34m\u001b[0m\u001b[0m\n\u001b[0m\u001b[1;32m    145\u001b[0m                 \u001b[0my\u001b[0m \u001b[0;34m=\u001b[0m \u001b[0mdata\u001b[0m\u001b[0;34m.\u001b[0m\u001b[0mget\u001b[0m\u001b[0;34m(\u001b[0m\u001b[0my\u001b[0m\u001b[0;34m,\u001b[0m \u001b[0my\u001b[0m\u001b[0;34m)\u001b[0m\u001b[0;34m\u001b[0m\u001b[0;34m\u001b[0m\u001b[0m\n\u001b[1;32m    146\u001b[0m                 \u001b[0mhue\u001b[0m \u001b[0;34m=\u001b[0m \u001b[0mdata\u001b[0m\u001b[0;34m.\u001b[0m\u001b[0mget\u001b[0m\u001b[0;34m(\u001b[0m\u001b[0mhue\u001b[0m\u001b[0;34m,\u001b[0m \u001b[0mhue\u001b[0m\u001b[0;34m)\u001b[0m\u001b[0;34m\u001b[0m\u001b[0;34m\u001b[0m\u001b[0m\n",
      "\u001b[0;31mAttributeError\u001b[0m: 'list' object has no attribute 'get'"
     ]
    }
   ],
   "source": []
  },
  {
   "cell_type": "code",
   "execution_count": 156,
   "id": "cba6b932-e290-4b0b-ab62-63c3a2b96135",
   "metadata": {},
   "outputs": [],
   "source": [
    "hist = []\n",
    "for prediction in img_locs:\n",
    "    prediction = str(prediction.split('/')[3])\n",
    "    hist.append(len(prediction)-4)"
   ]
  },
  {
   "cell_type": "code",
   "execution_count": 154,
   "id": "e35fc0a9-1442-449b-b764-bfc0e3fb81df",
   "metadata": {},
   "outputs": [
    {
     "data": {
      "text/plain": [
       "(array([ 10.,   0.,   0.,   0.,  49.,  59.,  21., 151., 211.,  35.]),\n",
       " array([ 8. ,  9.7, 11.4, 13.1, 14.8, 16.5, 18.2, 19.9, 21.6, 23.3, 25. ]),\n",
       " <BarContainer object of 10 artists>)"
      ]
     },
     "execution_count": 154,
     "metadata": {},
     "output_type": "execute_result"
    },
    {
     "data": {
      "image/png": "[encoded data removed]",
      "text/plain": [
       "<Figure size 432x288 with 1 Axes>"
      ]
     },
     "metadata": {
      "needs_background": "light"
     },
     "output_type": "display_data"
    }
   ],
   "source": [
    "plt.hist(hist)"
   ]
  },
  {
   "cell_type": "code",
   "execution_count": 38,
   "id": "f5389837-41bc-433d-9487-e38423e33195",
   "metadata": {},
   "outputs": [
    {
     "data": {
      "text/plain": [
       "'2'"
      ]
     },
     "execution_count": 38,
     "metadata": {},
     "output_type": "execute_result"
    }
   ],
   "source": [
    "img_locs[0].split('/')[2][-4]"
   ]
  },
  {
   "cell_type": "code",
   "execution_count": 82,
   "id": "2d53ddf8-01e2-4f9a-8444-1bf1fe3ac2ef",
   "metadata": {},
   "outputs": [],
   "source": [
    "true_label = []\n",
    "\n",
    "for i in img_locs:\n",
    "    true_label.append(int(i.split('/')[2][-4]))\n",
    "    "
   ]
  },
  {
   "cell_type": "code",
   "execution_count": 83,
   "id": "8e380d0e-add3-4597-8508-a2c0a02d68fb",
   "metadata": {},
   "outputs": [
    {
     "name": "stdout",
     "output_type": "stream",
     "text": [
      "[2, 2, 3, 2, 2, 2, 3, 3, 2, 3]\n",
      "[3. 1. 3. 1. 1. 3. 1. 1. 3. 3.]\n"
     ]
    }
   ],
   "source": [
    "print(true_label[-10:])\n",
    "print(domain[0:10])"
   ]
  },
  {
   "cell_type": "code",
   "execution_count": 84,
   "id": "ee61e3ff-91b6-4e4c-ad89-fb52bd3290fc",
   "metadata": {},
   "outputs": [],
   "source": [
    "a = list(reversed(true_label))"
   ]
  },
  {
   "cell_type": "raw",
   "id": "6b0bbeb9-529b-43e6-bf2d-dc3fdc45450b",
   "metadata": {},
   "source": [
    "print(true_label)"
   ]
  },
  {
   "cell_type": "code",
   "execution_count": 85,
   "id": "2c9136ca-e8a8-455e-bf20-eec095e2575b",
   "metadata": {},
   "outputs": [],
   "source": [
    "from sklearn.metrics import confusion_matrix\n",
    "import seaborn as sn"
   ]
  },
  {
   "cell_type": "code",
   "execution_count": 88,
   "id": "ae6bb9a6-a592-4d81-9f16-e2c01710cba5",
   "metadata": {},
   "outputs": [],
   "source": [
    "cm = confusion_matrix(domain[:-1], true_label)"
   ]
  },
  {
   "cell_type": "code",
   "execution_count": 89,
   "id": "75aa556a-0e0c-4cab-958c-d8859dfdcdf7",
   "metadata": {},
   "outputs": [
    {
     "data": {
      "text/plain": [
       "array([[  9,  98, 188],\n",
       "       [  9,   8,   0],\n",
       "       [ 30, 184,  10]])"
      ]
     },
     "execution_count": 89,
     "metadata": {},
     "output_type": "execute_result"
    }
   ],
   "source": [
    "cm"
   ]
  },
  {
   "cell_type": "code",
   "execution_count": 87,
   "id": "db0004c7-63bd-49da-bf02-2213c87f80fe",
   "metadata": {},
   "outputs": [
    {
     "data": {
      "text/plain": [
       "<AxesSubplot:>"
      ]
     },
     "execution_count": 87,
     "metadata": {},
     "output_type": "execute_result"
    },
    {
     "data": {
      "image/png": "[encoded data removed]",
      "text/plain": [
       "<Figure size 720x504 with 2 Axes>"
      ]
     },
     "metadata": {
      "needs_background": "light"
     },
     "output_type": "display_data"
    }
   ],
   "source": [
    "plt.figure(figsize = (10,7))\n",
    "sn.heatmap(cm, annot=True)"
   ]
  },
  {
   "cell_type": "code",
   "execution_count": null,
   "id": "61a166ce-743e-4ef7-a32b-5d911d52b015",
   "metadata": {},
   "outputs": [],
   "source": []
  }
 ],
 "metadata": {
  "kernelspec": {
   "display_name": "Python 3",
   "language": "python",
   "name": "python3"
  },
  "language_info": {
   "codemirror_mode": {
    "name": "ipython",
    "version": 3
   },
   "file_extension": ".py",
   "mimetype": "text/x-python",
   "name": "python",
   "nbconvert_exporter": "python",
   "pygments_lexer": "ipython3",
   "version": "3.6.9"
  }
 },
 "nbformat": 4,
 "nbformat_minor": 5
}
