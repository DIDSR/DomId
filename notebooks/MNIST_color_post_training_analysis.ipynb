{
 "cells": [
  {
   "cell_type": "code",
   "execution_count": 1,
   "id": "a5ff6775-7663-4133-8083-048d117b4e1b",
   "metadata": {},
   "outputs": [],
   "source": [
    "import os\n",
    "\n",
    "import matplotlib.pyplot as plt\n",
    "\n",
    "# import seaborn as sns\n",
    "import numpy as np\n",
    "from sklearn.manifold import TSNE"
   ]
  },
  {
   "cell_type": "code",
   "execution_count": 2,
   "id": "84696d8a-2f4b-48ed-8eb3-b84c3653863a",
   "metadata": {},
   "outputs": [
    {
     "data": {
      "text/plain": [
       "'/home/mariia.sidulova/miccai/DomId/notebooks'"
      ]
     },
     "execution_count": 2,
     "metadata": {},
     "output_type": "execute_result"
    }
   ],
   "source": [
    "os.getcwd()"
   ]
  },
  {
   "cell_type": "code",
   "execution_count": 3,
   "id": "ec47584e-acee-4015-be7c-bb4a3dae4c0f",
   "metadata": {},
   "outputs": [],
   "source": [
    "def load_files(path):\n",
    "    #loss = np.loadtxt(path + \"training_loss.txt\")\n",
    "    #acc = np.loadtxt(path + \"training_accuracy.txt\")\n",
    "\n",
    "    domain = np.loadtxt(path + \"domain_labels.txt\")\n",
    "\n",
    "    #te_loss = np.loadtxt(path + \"testing_loss.txt\")\n",
    "    #te_acc = np.loadtxt(path + \"testing_accuracy.txt\")\n",
    "    loss, acc, te_loss, te_acc = 0, 0, 0, 0\n",
    "    machine = np.loadtxt(path + \"machine_labels.txt\")\n",
    "\n",
    "    Z = np.load(path + \"Z_space.npy\")\n",
    "\n",
    "    args = np.loadtxt(path + \"arguments.txt\", dtype=str, usecols=0)  # , delimiter = '\\n')\n",
    "    img_locs = np.loadtxt(path + \"image_locs.txt\")\n",
    "    # machine = []\n",
    "    # true_label = []\n",
    "    # for i in img_locs:\n",
    "    #     #print(i, machine, true_label)\n",
    "    #     img = i.split(\"/\")[-1]\n",
    "    #     machine.append(img.split(\"-\")[0])\n",
    "    #     true_label.append(int(img.split(\"_\")[2]))\n",
    "    true_label =[]\n",
    "    return loss, acc, te_loss, te_acc, domain, machine, true_label, Z, args, img_locs"
   ]
  },
  {
   "cell_type": "code",
   "execution_count": null,
   "id": "386979e8-5469-4eb8-ba55-b0ad733db640",
   "metadata": {},
   "outputs": [],
   "source": []
  },
  {
   "cell_type": "code",
   "execution_count": 27,
   "id": "031689ff-cf7b-478b-a329-c7664797fbc4",
   "metadata": {},
   "outputs": [],
   "source": [
    "ex = '2023-03-01 15:53:12.638952/'\n",
    "ex = '2023-03-01 16:18:12.698881/'\n",
    "ex = '2023-03-01 16:35:24.876163/'\n",
    "ex = '2023-03-01 16:59:47.831275/'\n",
    "ex = '2023-03-01 17:40:44.199527/'\n",
    "ex = '2023-03-01 17:44:10.657544/'\n",
    "ex = '2023-03-01 17:48:36.050950/'\n",
    "ex = '2023-03-01 17:57:38.420991/'\n",
    "ex = '2023-03-01 18:01:54.443951/'\n",
    "ex = '2023-03-01 18:11:43.148669/'\n",
    "ex = '2023-03-01 18:16:45.866728/'\n",
    "\n",
    "ex = '2023-03-01 20:22:36.759216/'\n",
    "ex = '2023-03-01 20:31:24.646715/'\n",
    "ex = '2023-03-01 20:53:13.981494/'\n",
    "ex = '2023-03-01 21:20:05.415287/'\n",
    "ex = '2023-03-01 21:39:44.170868/'\n",
    "ex = '2023-03-01 22:41:13.317692/'\n",
    "\n",
    "\n",
    "ex = '2023-03-02 09:32:32.938849/'\n",
    "\n",
    "\n",
    "ex = '2023-03-02 10:45:08.598634/'\n",
    "\n",
    "ex = '2023-03-02 11:58:05.320187/'\n",
    "ex = '2023-03-06 12:50:37.797660/'\n",
    "ex = '2023-03-06 13:20:29.174857/'\n",
    "ex = '2023-03-06 13:29:19.637536/' #MNIST unconditonal \n",
    "# ex = '2023-03-06 14:24:47.152872/'\n",
    "# ex = '2023-03-06 14:36:08.455372/'\n",
    "# # ex = '2023-03-06 16:41:19.174341/'\n",
    "# ex = '2023-03-06 17:09:37.508119/'\n",
    "# ex = '2023-03-06 17:13:47.146490/'\n",
    "\n",
    "# ex = '2023-03-06 17:24:17.319533/'\n",
    "# ex ='2023-03-06 17:50:54.327656/'\n",
    "# # ex = '2023-03-06 18:06:15.595675/'\n",
    "# ex = '2023-03-06 18:50:17.493444/' #conditional mnist\n",
    "# # ex = '2023-03-06 20:16:04.396140/'\n",
    "# ex = '2023-03-08 11:40:27.564593/' #MNIST uncnd with 32 size\n",
    "ex ='2023-03-08 11:40:47.114047/' #MNIST cond \n",
    "# # ex = '2023-03-08 15:00:01.355611/' #DEC\n",
    "# # ex = '2023-03-08 16:22:11.713138/'\n",
    "# # ex = '2023-03-08 16:39:40.020110/'\n",
    "# # ex = '2023-03-08 16:46:04.120239/'\n",
    "# ex = '2023-03-08 16:50:08.352872/' #DEC \n",
    "\n",
    "# # ex = '2023-03-09 13:14:20.373013/'# FINAL base vade\n",
    "# # ex = '2023-03-09 13:42:22.576637/'\n",
    "# ex = '2023-03-09 13:14:34.258595/'\n",
    "ex = '2023-03-09 14:10:31.383808/'\n",
    "ex = '2023-03-09 16:08:30.730209/'\n",
    "ex = '2023-03-09 16:08:30.730209/'\n",
    "ex = '2023-03-09 17:20:28.514918/'\n",
    "\n",
    "ex = '2023-03-09 17:28:58.961270/' #conditional vade\n",
    "# ex = '2023-03-09 17:29:14.153074/' #uncoditional \n",
    "\n",
    "ex = '2023-03-09 17:37:02.633794/' #DEC\n",
    "\n",
    "\n",
    "#MNIST 10\n",
    "ex = '2023-03-14 11:23:24.638123/' #conditional on 10 digits 10 colors\n",
    "ex = '2023-03-14 11:23:06.765323/' #uconditional on 10 difits 10 colors\n",
    "ex = '2023-03-14 13:33:54.115991/' #DEC"
   ]
  },
  {
   "cell_type": "code",
   "execution_count": 28,
   "id": "8e1f66bf-0f0c-454f-9935-182a03290a20",
   "metadata": {},
   "outputs": [],
   "source": [
    "loss, acc, te_loss, te_acc, domain, digit, true_label, Z, args, color = load_files(ex)\n"
   ]
  },
  {
   "cell_type": "code",
   "execution_count": 29,
   "id": "ef2b6044-40fa-4281-ab6e-a9096bea36e6",
   "metadata": {},
   "outputs": [],
   "source": [
    "domain = domain-[1]*len(domain)"
   ]
  },
  {
   "cell_type": "code",
   "execution_count": 30,
   "id": "df028339",
   "metadata": {},
   "outputs": [
    {
     "name": "stdout",
     "output_type": "stream",
     "text": [
      "4800 4800 4800\n"
     ]
    }
   ],
   "source": [
    "print(len(domain), len(digit), len(color))"
   ]
  },
  {
   "cell_type": "code",
   "execution_count": 31,
   "id": "c2314e25-fb13-43d1-9bf9-534a636bb1a4",
   "metadata": {},
   "outputs": [
    {
     "data": {
      "text/plain": [
       "array([0., 1., 2., 3., 4., 5., 6., 7., 8., 9.])"
      ]
     },
     "execution_count": 31,
     "metadata": {},
     "output_type": "execute_result"
    }
   ],
   "source": [
    "np.unique(domain)"
   ]
  },
  {
   "cell_type": "code",
   "execution_count": 32,
   "id": "f4378eec-a93e-432d-b605-77966b812dd0",
   "metadata": {},
   "outputs": [
    {
     "data": {
      "text/plain": [
       "array([0., 1., 2., 3., 4., 5., 6., 7., 8., 9.])"
      ]
     },
     "execution_count": 32,
     "metadata": {},
     "output_type": "execute_result"
    }
   ],
   "source": [
    "np.unique(color)"
   ]
  },
  {
   "cell_type": "code",
   "execution_count": 33,
   "id": "35472381-31e9-453c-9986-3b58a745d944",
   "metadata": {},
   "outputs": [],
   "source": [
    "domain = domain[:len(color)]"
   ]
  },
  {
   "cell_type": "code",
   "execution_count": 34,
   "id": "8c66ae13-272a-430e-96bb-53715aecb4ba",
   "metadata": {},
   "outputs": [],
   "source": [
    "def something_per_domain(domain, another_label):\n",
    "    \"\"\"\n",
    "    domain - predicted domain labels \n",
    "    another_label - some other label that corresponds to each of the predicted domain (\n",
    "    assumed that both domain and something have the same img_loc reference order \n",
    "    \"\"\"\n",
    "    u_something = np.unique(another_label)\n",
    "    u_domain = np.unique(domain)\n",
    "    print('unique predicted domain', u_domain)\n",
    "    print('unique true label', u_something)\n",
    "    \n",
    "    array_counters=[]\n",
    "    for i in u_domain:\n",
    "        for j in u_something:\n",
    "            counter = 0\n",
    "            for idx in range(0, len(domain)):\n",
    "                if domain[idx]==i and another_label[idx]==j:\n",
    "                    counter+=1\n",
    "            print('domain ', i, ' digit ', j, ' count', counter)\n",
    "            array_counters.append(counter)\n",
    "    return array_counters\n",
    "                    \n",
    "        \n",
    "    "
   ]
  },
  {
   "cell_type": "code",
   "execution_count": 35,
   "id": "9b17cb05-7268-4c7c-8d79-6641efcc1abe",
   "metadata": {},
   "outputs": [
    {
     "name": "stdout",
     "output_type": "stream",
     "text": [
      "unique predicted domain [0. 1. 2. 3. 4. 5. 6. 7. 8. 9.]\n",
      "unique true label [0. 1. 2. 3. 4. 5. 6. 7. 8. 9.]\n",
      "domain  0.0  digit  0.0  count 39\n",
      "domain  0.0  digit  1.0  count 49\n",
      "domain  0.0  digit  2.0  count 48\n",
      "domain  0.0  digit  3.0  count 53\n",
      "domain  0.0  digit  4.0  count 41\n",
      "domain  0.0  digit  5.0  count 55\n",
      "domain  0.0  digit  6.0  count 43\n",
      "domain  0.0  digit  7.0  count 64\n",
      "domain  0.0  digit  8.0  count 44\n",
      "domain  0.0  digit  9.0  count 44\n",
      "domain  1.0  digit  0.0  count 42\n",
      "domain  1.0  digit  1.0  count 51\n",
      "domain  1.0  digit  2.0  count 42\n",
      "domain  1.0  digit  3.0  count 51\n",
      "domain  1.0  digit  4.0  count 38\n",
      "domain  1.0  digit  5.0  count 59\n",
      "domain  1.0  digit  6.0  count 45\n",
      "domain  1.0  digit  7.0  count 60\n",
      "domain  1.0  digit  8.0  count 44\n",
      "domain  1.0  digit  9.0  count 48\n",
      "domain  2.0  digit  0.0  count 39\n",
      "domain  2.0  digit  1.0  count 47\n",
      "domain  2.0  digit  2.0  count 38\n",
      "domain  2.0  digit  3.0  count 57\n",
      "domain  2.0  digit  4.0  count 43\n",
      "domain  2.0  digit  5.0  count 53\n",
      "domain  2.0  digit  6.0  count 49\n",
      "domain  2.0  digit  7.0  count 63\n",
      "domain  2.0  digit  8.0  count 46\n",
      "domain  2.0  digit  9.0  count 45\n",
      "domain  3.0  digit  0.0  count 39\n",
      "domain  3.0  digit  1.0  count 51\n",
      "domain  3.0  digit  2.0  count 45\n",
      "domain  3.0  digit  3.0  count 55\n",
      "domain  3.0  digit  4.0  count 44\n",
      "domain  3.0  digit  5.0  count 54\n",
      "domain  3.0  digit  6.0  count 45\n",
      "domain  3.0  digit  7.0  count 56\n",
      "domain  3.0  digit  8.0  count 44\n",
      "domain  3.0  digit  9.0  count 47\n",
      "domain  4.0  digit  0.0  count 41\n",
      "domain  4.0  digit  1.0  count 43\n",
      "domain  4.0  digit  2.0  count 47\n",
      "domain  4.0  digit  3.0  count 54\n",
      "domain  4.0  digit  4.0  count 42\n",
      "domain  4.0  digit  5.0  count 55\n",
      "domain  4.0  digit  6.0  count 48\n",
      "domain  4.0  digit  7.0  count 56\n",
      "domain  4.0  digit  8.0  count 49\n",
      "domain  4.0  digit  9.0  count 45\n",
      "domain  5.0  digit  0.0  count 44\n",
      "domain  5.0  digit  1.0  count 52\n",
      "domain  5.0  digit  2.0  count 45\n",
      "domain  5.0  digit  3.0  count 49\n",
      "domain  5.0  digit  4.0  count 47\n",
      "domain  5.0  digit  5.0  count 54\n",
      "domain  5.0  digit  6.0  count 46\n",
      "domain  5.0  digit  7.0  count 60\n",
      "domain  5.0  digit  8.0  count 41\n",
      "domain  5.0  digit  9.0  count 42\n",
      "domain  6.0  digit  0.0  count 45\n",
      "domain  6.0  digit  1.0  count 49\n",
      "domain  6.0  digit  2.0  count 47\n",
      "domain  6.0  digit  3.0  count 55\n",
      "domain  6.0  digit  4.0  count 41\n",
      "domain  6.0  digit  5.0  count 58\n",
      "domain  6.0  digit  6.0  count 48\n",
      "domain  6.0  digit  7.0  count 54\n",
      "domain  6.0  digit  8.0  count 34\n",
      "domain  6.0  digit  9.0  count 49\n",
      "domain  7.0  digit  0.0  count 41\n",
      "domain  7.0  digit  1.0  count 52\n",
      "domain  7.0  digit  2.0  count 44\n",
      "domain  7.0  digit  3.0  count 55\n",
      "domain  7.0  digit  4.0  count 40\n",
      "domain  7.0  digit  5.0  count 55\n",
      "domain  7.0  digit  6.0  count 51\n",
      "domain  7.0  digit  7.0  count 61\n",
      "domain  7.0  digit  8.0  count 37\n",
      "domain  7.0  digit  9.0  count 44\n",
      "domain  8.0  digit  0.0  count 41\n",
      "domain  8.0  digit  1.0  count 51\n",
      "domain  8.0  digit  2.0  count 48\n",
      "domain  8.0  digit  3.0  count 53\n",
      "domain  8.0  digit  4.0  count 35\n",
      "domain  8.0  digit  5.0  count 55\n",
      "domain  8.0  digit  6.0  count 50\n",
      "domain  8.0  digit  7.0  count 61\n",
      "domain  8.0  digit  8.0  count 40\n",
      "domain  8.0  digit  9.0  count 46\n",
      "domain  9.0  digit  0.0  count 40\n",
      "domain  9.0  digit  1.0  count 48\n",
      "domain  9.0  digit  2.0  count 45\n",
      "domain  9.0  digit  3.0  count 56\n",
      "domain  9.0  digit  4.0  count 46\n",
      "domain  9.0  digit  5.0  count 47\n",
      "domain  9.0  digit  6.0  count 45\n",
      "domain  9.0  digit  7.0  count 60\n",
      "domain  9.0  digit  8.0  count 41\n",
      "domain  9.0  digit  9.0  count 52\n"
     ]
    }
   ],
   "source": [
    "digits_per_domain = something_per_domain(domain, digit)"
   ]
  },
  {
   "cell_type": "code",
   "execution_count": 36,
   "id": "af9a1fcb-21ae-48cc-a876-d08eb9ee2e22",
   "metadata": {},
   "outputs": [
    {
     "data": {
      "text/plain": [
       "[39,\n",
       " 49,\n",
       " 48,\n",
       " 53,\n",
       " 41,\n",
       " 55,\n",
       " 43,\n",
       " 64,\n",
       " 44,\n",
       " 44,\n",
       " 42,\n",
       " 51,\n",
       " 42,\n",
       " 51,\n",
       " 38,\n",
       " 59,\n",
       " 45,\n",
       " 60,\n",
       " 44,\n",
       " 48,\n",
       " 39,\n",
       " 47,\n",
       " 38,\n",
       " 57,\n",
       " 43,\n",
       " 53,\n",
       " 49,\n",
       " 63,\n",
       " 46,\n",
       " 45,\n",
       " 39,\n",
       " 51,\n",
       " 45,\n",
       " 55,\n",
       " 44,\n",
       " 54,\n",
       " 45,\n",
       " 56,\n",
       " 44,\n",
       " 47,\n",
       " 41,\n",
       " 43,\n",
       " 47,\n",
       " 54,\n",
       " 42,\n",
       " 55,\n",
       " 48,\n",
       " 56,\n",
       " 49,\n",
       " 45,\n",
       " 44,\n",
       " 52,\n",
       " 45,\n",
       " 49,\n",
       " 47,\n",
       " 54,\n",
       " 46,\n",
       " 60,\n",
       " 41,\n",
       " 42,\n",
       " 45,\n",
       " 49,\n",
       " 47,\n",
       " 55,\n",
       " 41,\n",
       " 58,\n",
       " 48,\n",
       " 54,\n",
       " 34,\n",
       " 49,\n",
       " 41,\n",
       " 52,\n",
       " 44,\n",
       " 55,\n",
       " 40,\n",
       " 55,\n",
       " 51,\n",
       " 61,\n",
       " 37,\n",
       " 44,\n",
       " 41,\n",
       " 51,\n",
       " 48,\n",
       " 53,\n",
       " 35,\n",
       " 55,\n",
       " 50,\n",
       " 61,\n",
       " 40,\n",
       " 46,\n",
       " 40,\n",
       " 48,\n",
       " 45,\n",
       " 56,\n",
       " 46,\n",
       " 47,\n",
       " 45,\n",
       " 60,\n",
       " 41,\n",
       " 52]"
      ]
     },
     "execution_count": 36,
     "metadata": {},
     "output_type": "execute_result"
    }
   ],
   "source": [
    "digits_per_domain"
   ]
  },
  {
   "cell_type": "code",
   "execution_count": 37,
   "id": "7d62b61d-2cef-4c8e-a915-00e99cc449c7",
   "metadata": {},
   "outputs": [
    {
     "name": "stdout",
     "output_type": "stream",
     "text": [
      "unique predicted domain [0. 1. 2. 3. 4. 5. 6. 7. 8. 9.]\n",
      "unique true label [0. 1. 2. 3. 4. 5. 6. 7. 8. 9.]\n",
      "domain  0.0  digit  0.0  count 0\n",
      "domain  0.0  digit  1.0  count 480\n",
      "domain  0.0  digit  2.0  count 0\n",
      "domain  0.0  digit  3.0  count 0\n",
      "domain  0.0  digit  4.0  count 0\n",
      "domain  0.0  digit  5.0  count 0\n",
      "domain  0.0  digit  6.0  count 0\n",
      "domain  0.0  digit  7.0  count 0\n",
      "domain  0.0  digit  8.0  count 0\n",
      "domain  0.0  digit  9.0  count 0\n",
      "domain  1.0  digit  0.0  count 0\n",
      "domain  1.0  digit  1.0  count 0\n",
      "domain  1.0  digit  2.0  count 0\n",
      "domain  1.0  digit  3.0  count 0\n",
      "domain  1.0  digit  4.0  count 0\n",
      "domain  1.0  digit  5.0  count 0\n",
      "domain  1.0  digit  6.0  count 480\n",
      "domain  1.0  digit  7.0  count 0\n",
      "domain  1.0  digit  8.0  count 0\n",
      "domain  1.0  digit  9.0  count 0\n",
      "domain  2.0  digit  0.0  count 480\n",
      "domain  2.0  digit  1.0  count 0\n",
      "domain  2.0  digit  2.0  count 0\n",
      "domain  2.0  digit  3.0  count 0\n",
      "domain  2.0  digit  4.0  count 0\n",
      "domain  2.0  digit  5.0  count 0\n",
      "domain  2.0  digit  6.0  count 0\n",
      "domain  2.0  digit  7.0  count 0\n",
      "domain  2.0  digit  8.0  count 0\n",
      "domain  2.0  digit  9.0  count 0\n",
      "domain  3.0  digit  0.0  count 0\n",
      "domain  3.0  digit  1.0  count 0\n",
      "domain  3.0  digit  2.0  count 0\n",
      "domain  3.0  digit  3.0  count 0\n",
      "domain  3.0  digit  4.0  count 480\n",
      "domain  3.0  digit  5.0  count 0\n",
      "domain  3.0  digit  6.0  count 0\n",
      "domain  3.0  digit  7.0  count 0\n",
      "domain  3.0  digit  8.0  count 0\n",
      "domain  3.0  digit  9.0  count 0\n",
      "domain  4.0  digit  0.0  count 0\n",
      "domain  4.0  digit  1.0  count 0\n",
      "domain  4.0  digit  2.0  count 480\n",
      "domain  4.0  digit  3.0  count 0\n",
      "domain  4.0  digit  4.0  count 0\n",
      "domain  4.0  digit  5.0  count 0\n",
      "domain  4.0  digit  6.0  count 0\n",
      "domain  4.0  digit  7.0  count 0\n",
      "domain  4.0  digit  8.0  count 0\n",
      "domain  4.0  digit  9.0  count 0\n",
      "domain  5.0  digit  0.0  count 0\n",
      "domain  5.0  digit  1.0  count 0\n",
      "domain  5.0  digit  2.0  count 0\n",
      "domain  5.0  digit  3.0  count 0\n",
      "domain  5.0  digit  4.0  count 0\n",
      "domain  5.0  digit  5.0  count 480\n",
      "domain  5.0  digit  6.0  count 0\n",
      "domain  5.0  digit  7.0  count 0\n",
      "domain  5.0  digit  8.0  count 0\n",
      "domain  5.0  digit  9.0  count 0\n",
      "domain  6.0  digit  0.0  count 0\n",
      "domain  6.0  digit  1.0  count 0\n",
      "domain  6.0  digit  2.0  count 0\n",
      "domain  6.0  digit  3.0  count 0\n",
      "domain  6.0  digit  4.0  count 0\n",
      "domain  6.0  digit  5.0  count 0\n",
      "domain  6.0  digit  6.0  count 0\n",
      "domain  6.0  digit  7.0  count 0\n",
      "domain  6.0  digit  8.0  count 0\n",
      "domain  6.0  digit  9.0  count 480\n",
      "domain  7.0  digit  0.0  count 0\n",
      "domain  7.0  digit  1.0  count 0\n",
      "domain  7.0  digit  2.0  count 0\n",
      "domain  7.0  digit  3.0  count 0\n",
      "domain  7.0  digit  4.0  count 0\n",
      "domain  7.0  digit  5.0  count 0\n",
      "domain  7.0  digit  6.0  count 0\n",
      "domain  7.0  digit  7.0  count 0\n",
      "domain  7.0  digit  8.0  count 480\n",
      "domain  7.0  digit  9.0  count 0\n",
      "domain  8.0  digit  0.0  count 0\n",
      "domain  8.0  digit  1.0  count 0\n",
      "domain  8.0  digit  2.0  count 0\n",
      "domain  8.0  digit  3.0  count 480\n",
      "domain  8.0  digit  4.0  count 0\n",
      "domain  8.0  digit  5.0  count 0\n",
      "domain  8.0  digit  6.0  count 0\n",
      "domain  8.0  digit  7.0  count 0\n",
      "domain  8.0  digit  8.0  count 0\n",
      "domain  8.0  digit  9.0  count 0\n",
      "domain  9.0  digit  0.0  count 0\n",
      "domain  9.0  digit  1.0  count 0\n",
      "domain  9.0  digit  2.0  count 0\n",
      "domain  9.0  digit  3.0  count 0\n",
      "domain  9.0  digit  4.0  count 0\n",
      "domain  9.0  digit  5.0  count 0\n",
      "domain  9.0  digit  6.0  count 0\n",
      "domain  9.0  digit  7.0  count 480\n",
      "domain  9.0  digit  8.0  count 0\n",
      "domain  9.0  digit  9.0  count 0\n"
     ]
    }
   ],
   "source": [
    "colors_per_domain = something_per_domain(domain, color)"
   ]
  },
  {
   "cell_type": "code",
   "execution_count": 38,
   "id": "9fd39be8-f333-4261-983b-9fb9eefbbd35",
   "metadata": {},
   "outputs": [
    {
     "data": {
      "text/plain": [
       "[0,\n",
       " 480,\n",
       " 0,\n",
       " 0,\n",
       " 0,\n",
       " 0,\n",
       " 0,\n",
       " 0,\n",
       " 0,\n",
       " 0,\n",
       " 0,\n",
       " 0,\n",
       " 0,\n",
       " 0,\n",
       " 0,\n",
       " 0,\n",
       " 480,\n",
       " 0,\n",
       " 0,\n",
       " 0,\n",
       " 480,\n",
       " 0,\n",
       " 0,\n",
       " 0,\n",
       " 0,\n",
       " 0,\n",
       " 0,\n",
       " 0,\n",
       " 0,\n",
       " 0,\n",
       " 0,\n",
       " 0,\n",
       " 0,\n",
       " 0,\n",
       " 480,\n",
       " 0,\n",
       " 0,\n",
       " 0,\n",
       " 0,\n",
       " 0,\n",
       " 0,\n",
       " 0,\n",
       " 480,\n",
       " 0,\n",
       " 0,\n",
       " 0,\n",
       " 0,\n",
       " 0,\n",
       " 0,\n",
       " 0,\n",
       " 0,\n",
       " 0,\n",
       " 0,\n",
       " 0,\n",
       " 0,\n",
       " 480,\n",
       " 0,\n",
       " 0,\n",
       " 0,\n",
       " 0,\n",
       " 0,\n",
       " 0,\n",
       " 0,\n",
       " 0,\n",
       " 0,\n",
       " 0,\n",
       " 0,\n",
       " 0,\n",
       " 0,\n",
       " 480,\n",
       " 0,\n",
       " 0,\n",
       " 0,\n",
       " 0,\n",
       " 0,\n",
       " 0,\n",
       " 0,\n",
       " 0,\n",
       " 480,\n",
       " 0,\n",
       " 0,\n",
       " 0,\n",
       " 0,\n",
       " 480,\n",
       " 0,\n",
       " 0,\n",
       " 0,\n",
       " 0,\n",
       " 0,\n",
       " 0,\n",
       " 0,\n",
       " 0,\n",
       " 0,\n",
       " 0,\n",
       " 0,\n",
       " 0,\n",
       " 0,\n",
       " 480,\n",
       " 0,\n",
       " 0]"
      ]
     },
     "execution_count": 38,
     "metadata": {},
     "output_type": "execute_result"
    }
   ],
   "source": [
    "colors_per_domain"
   ]
  },
  {
   "cell_type": "code",
   "execution_count": null,
   "id": "0140490b-d35b-4c90-a72f-f8aa3846331a",
   "metadata": {},
   "outputs": [],
   "source": []
  },
  {
   "cell_type": "code",
   "execution_count": 39,
   "id": "bfd45fb0-f2ee-4d7f-bf83-5ccd8c30b5e5",
   "metadata": {},
   "outputs": [
    {
     "data": {
      "text/plain": [
       "100"
      ]
     },
     "execution_count": 39,
     "metadata": {},
     "output_type": "execute_result"
    }
   ],
   "source": [
    "len(digits_per_domain)"
   ]
  },
  {
   "cell_type": "code",
   "execution_count": 40,
   "id": "76392fe7-0843-4280-a607-ba180157b59a",
   "metadata": {},
   "outputs": [],
   "source": [
    "\n",
    "\n",
    "\n",
    "def plot_something_per_domain_counts(domain, another_label, counts, fs, legend = False, thres = None):\n",
    "    \"\"\"\n",
    "    domain - predicted domain labels\n",
    "    another_label - another label aassociated with each predicted domain (should be same shape as domain)\n",
    "    counts - countes of each another label in each of the predicted domain (see something_per_domain function)\n",
    "    fs - font size\n",
    "    colors - colors of each segment on the bargraph\n",
    "    legend - legend of unique another lables\n",
    "    thres - if thresholding of another label is required then should be shpecifies (also see apply_threshold function)\n",
    "    \n",
    "    \"\"\"\n",
    "    u_domains = np.unique(domain)\n",
    "    N = len(u_domains)\n",
    "    \n",
    "    u_another_label = np.unique(another_label)\n",
    "    print('unique labels', u_another_label, ' N ', N)\n",
    "    counts = np.array(counts)\n",
    "    narray = np.array_split(counts, N)\n",
    "\n",
    "#     if thres:\n",
    "#         u_another_label_dic = apply_threshold(u_another_label, narray, thres, N)\n",
    "#         #print(u_another_label_dic.values())\n",
    "#         u_another_label = list(u_another_label_dic.keys())\n",
    "#         narray = list(u_another_label_dic.values())\n",
    "#         narray = np.transpose(narray)\n",
    "\n",
    "   # print(narray)\n",
    "    #print(len(u_domains), len(u_another_label))\n",
    "    c = ['blue', 'teal', 'pink', 'orange', 'green', 'red', 'plum', 'grey', 'purple', 'yellow']\n",
    "    c = ['lightblue', 'steelblue', 'royalblue', 'mediumpurple', 'darkmagenta','orchid', 'lightpink', 'lightcoral', 'maroon', 'sandybrown']\n",
    "    plt.figure()\n",
    "    for i in range(0, len(u_domains)):\n",
    "        for jj in range(0,len(u_another_label)):\n",
    "            \n",
    "            if jj>0:\n",
    "                bottom = np.sum(narray[i][:jj])\n",
    "            else:\n",
    "                bottom = 0\n",
    "            #print(i, narray[i][jj])\n",
    "            plt.bar(i, narray[i][jj], bottom = bottom, color = c[jj])\n",
    "    x = np.linspace(0, N-1, N)\n",
    "    x_ticks = u_domains\n",
    "    plt.ylabel(\"Counts\", fontsize=fs)\n",
    "    plt.xticks(x, x_ticks, fontsize=fs)\n",
    "    plt.yticks(fontsize=fs)\n",
    "    plt.xlabel(\"Domain\", fontsize=fs)\n",
    "   \n",
    "    if legend:\n",
    "        plt.legend(legend)\n",
    "    else:\n",
    "        plt.legend(u_another_label)\n",
    "    plt.show()"
   ]
  },
  {
   "cell_type": "code",
   "execution_count": 41,
   "id": "72950715-2bcb-4f39-9027-7da43b741755",
   "metadata": {},
   "outputs": [],
   "source": [
    "def plot_something_per_domain_proportion(domain, another_label, counts, fs, legend = False, thres = None, title = None, digit_plot = True):\n",
    "    \"\"\"\n",
    "    domain - predicted domain labels\n",
    "    another_label - another label aassociated with each predicted domain (should be same shape as domain)\n",
    "    counts - countes of each another label in each of the predicted domain (see something_per_domain function)\n",
    "    fs - font size\n",
    "    colors - colors of each segment on the bargraph\n",
    "    legend - legend of unique another lables\n",
    "    thres - if thresholding of another label is required then should be shpecifies (also see apply_threshold function)\n",
    "    \n",
    "    \"\"\"\n",
    "    u_domains = np.unique(domain)\n",
    "    N = len(u_domains)\n",
    "    \n",
    "    u_another_label = np.unique(another_label)\n",
    "    print('unique labels', u_another_label)\n",
    "    print(u_domains)\n",
    "    counts = np.array(counts)\n",
    "    narray = np.array_split(counts, N)\n",
    "\n",
    "    if thres:\n",
    "        u_another_label_dic = apply_threshold(u_another_label, narray, thres, N)\n",
    "        #print(u_another_label_dic.values())\n",
    "        u_another_label = list(u_another_label_dic.keys())\n",
    "        narray = list(u_another_label_dic.values())\n",
    "        narray = np.transpose(narray)\n",
    "\n",
    "   # print(narray)\n",
    "    #print(len(u_domains), len(u_another_label))\n",
    "    # c = ['blue', 'teal', 'pink', 'orange', 'green', 'red', 'plum', 'grey', 'purple', 'yellow']\n",
    "    # c = ['lightblue', 'steelblue', 'royalblue', 'mediumpurple', 'darkmagenta','orchid', 'lightpink', 'lightcoral', 'maroon', 'sandybrown']\n",
    "    \n",
    "    if digit_plot:\n",
    "        c =  ['darkseagreen', 'forestgreen', 'aquamarine', 'lightseagreen', 'teal', 'steelblue','lightblue', 'royalblue','navy', 'lightslategrey' ]\n",
    "\n",
    "    else:\n",
    "        c = ['mediumpurple', 'darkmagenta','orchid', 'lightpink', 'lightcoral', 'maroon', 'sandybrown', 'peachpuff', 'goldenrod', 'gold']\n",
    "  \n",
    "        \n",
    "    plt.figure(figsize = (5, 5))\n",
    "    for i in range(0, len(u_domains)):\n",
    "        for jj in range(0,len(u_another_label)):\n",
    "            \n",
    "            if jj>0:\n",
    "                bottom = np.sum(narray[i][:jj])/np.sum(narray[i])\n",
    "            else:\n",
    "                bottom = 0\n",
    "            ##print(i, narray[i][jj])\n",
    "            #print(c[jj])\n",
    "            plt.bar(i, narray[i][jj]/np.sum(narray[i]), bottom = bottom, color = c[jj])\n",
    "    x = np.linspace(0, N-1, N)\n",
    "    x_ticks = [str(item)[0] for item in u_domains]\n",
    "    #plt.ylabel(\"Proportion\", fontsize=fs)\n",
    "    plt.xticks(x, x_ticks, fontsize=fs)\n",
    "    plt.yticks(fontsize=fs)\n",
    "    plt.xlabel(\"Domain\", fontsize=fs)\n",
    "    plt.title(title, fontsize = fs, weight = 'bold')\n",
    "    plt.tick_params(left = False, labelleft = False)\n",
    "#     if legend:\n",
    "#         plt.legend(legend, bbox_to_anchor=(0.5, -0.05))\n",
    "#     else:\n",
    "#         plt.legend(u_another_label, bbox_to_anchor=(1, 0.70), fancybox=True, shadow=True, fontsize = fs)\n",
    "    plt.show()"
   ]
  },
  {
   "cell_type": "code",
   "execution_count": 42,
   "id": "94dcaa0e-8215-47f9-8b1c-4b5e5adbdc9a",
   "metadata": {},
   "outputs": [
    {
     "name": "stdout",
     "output_type": "stream",
     "text": [
      "unique labels [0. 1. 2. 3. 4. 5. 6. 7. 8. 9.]  N  10\n"
     ]
    },
    {
     "data": {
      "image/png": "[encoded data removed]",
      "text/plain": [
       "<Figure size 432x288 with 1 Axes>"
      ]
     },
     "metadata": {
      "needs_background": "light"
     },
     "output_type": "display_data"
    }
   ],
   "source": [
    "plot_something_per_domain_counts(domain, digit, digits_per_domain, fs =10)"
   ]
  },
  {
   "cell_type": "code",
   "execution_count": 43,
   "id": "f363bb9b-bd12-45ec-a462-bdc1deb2ec74",
   "metadata": {
    "tags": []
   },
   "outputs": [
    {
     "name": "stdout",
     "output_type": "stream",
     "text": [
      "unique labels [0. 1. 2. 3. 4. 5. 6. 7. 8. 9.]  N  10\n"
     ]
    },
    {
     "data": {
      "image/png": "[encoded data removed]",
      "text/plain": [
       "<Figure size 432x288 with 1 Axes>"
      ]
     },
     "metadata": {
      "needs_background": "light"
     },
     "output_type": "display_data"
    },
    {
     "name": "stdout",
     "output_type": "stream",
     "text": [
      "unique labels [0. 1. 2. 3. 4. 5. 6. 7. 8. 9.]\n",
      "[0. 1. 2. 3. 4. 5. 6. 7. 8. 9.]\n"
     ]
    },
    {
     "data": {
      "image/png": "[encoded data removed]",
      "text/plain": [
       "<Figure size 360x360 with 1 Axes>"
      ]
     },
     "metadata": {
      "needs_background": "light"
     },
     "output_type": "display_data"
    }
   ],
   "source": [
    "plot_something_per_domain_counts(domain, color, colors_per_domain, fs =10) \n",
    "plot_something_per_domain_proportion(domain, color, colors_per_domain, fs =20, title = 'DEC: \\n Color per Cluster', digit_plot = False ) "
   ]
  },
  {
   "cell_type": "code",
   "execution_count": 44,
   "id": "f2812de3",
   "metadata": {},
   "outputs": [
    {
     "name": "stdout",
     "output_type": "stream",
     "text": [
      "unique labels [0. 1. 2. 3. 4. 5. 6. 7. 8. 9.]  N  10\n"
     ]
    },
    {
     "data": {
      "image/png": "[encoded data removed]",
      "text/plain": [
       "<Figure size 432x288 with 1 Axes>"
      ]
     },
     "metadata": {
      "needs_background": "light"
     },
     "output_type": "display_data"
    }
   ],
   "source": [
    "plot_something_per_domain_counts(domain, digit, digits_per_domain, fs =10) #, legend = ['forest background', 'ocean background'])"
   ]
  },
  {
   "cell_type": "code",
   "execution_count": 45,
   "id": "b6f9a7ad-b96b-4803-869a-88fbf02bd131",
   "metadata": {},
   "outputs": [
    {
     "data": {
      "text/plain": [
       "array([4., 5., 8., ..., 2., 8., 3.])"
      ]
     },
     "execution_count": 45,
     "metadata": {},
     "output_type": "execute_result"
    }
   ],
   "source": [
    "digit"
   ]
  },
  {
   "cell_type": "code",
   "execution_count": 46,
   "id": "cf5f3123-5e6e-42c1-b008-57b0c9d46754",
   "metadata": {},
   "outputs": [
    {
     "name": "stdout",
     "output_type": "stream",
     "text": [
      "unique labels [0. 1. 2. 3. 4. 5. 6. 7. 8. 9.]\n",
      "[0. 1. 2. 3. 4. 5. 6. 7. 8. 9.]\n"
     ]
    },
    {
     "data": {
      "image/png": "[encoded data removed]",
      "text/plain": [
       "<Figure size 360x360 with 1 Axes>"
      ]
     },
     "metadata": {
      "needs_background": "light"
     },
     "output_type": "display_data"
    }
   ],
   "source": [
    "plot_something_per_domain_proportion(domain, digit, digits_per_domain, fs =20, title = 'DEC: \\n Digit per Cluster')"
   ]
  },
  {
   "cell_type": "code",
   "execution_count": 47,
   "id": "5aca5231-ba38-48fb-adb7-a9abef0b8c14",
   "metadata": {},
   "outputs": [
    {
     "data": {
      "text/plain": [
       "array([ 8,  8, 18, 18,  8])"
      ]
     },
     "execution_count": 47,
     "metadata": {},
     "output_type": "execute_result"
    }
   ],
   "source": [
    "np.argmax(np.array_split(digits_per_domain, 5),1)+1"
   ]
  },
  {
   "cell_type": "code",
   "execution_count": 48,
   "id": "f2625897-43b6-4e63-a397-2df38d9a190f",
   "metadata": {},
   "outputs": [
    {
     "data": {
      "text/plain": [
       "[array([39, 49, 48, 53, 41, 55, 43, 64, 44, 44]),\n",
       " array([42, 51, 42, 51, 38, 59, 45, 60, 44, 48]),\n",
       " array([39, 47, 38, 57, 43, 53, 49, 63, 46, 45]),\n",
       " array([39, 51, 45, 55, 44, 54, 45, 56, 44, 47]),\n",
       " array([41, 43, 47, 54, 42, 55, 48, 56, 49, 45]),\n",
       " array([44, 52, 45, 49, 47, 54, 46, 60, 41, 42]),\n",
       " array([45, 49, 47, 55, 41, 58, 48, 54, 34, 49]),\n",
       " array([41, 52, 44, 55, 40, 55, 51, 61, 37, 44]),\n",
       " array([41, 51, 48, 53, 35, 55, 50, 61, 40, 46]),\n",
       " array([40, 48, 45, 56, 46, 47, 45, 60, 41, 52])]"
      ]
     },
     "execution_count": 48,
     "metadata": {},
     "output_type": "execute_result"
    }
   ],
   "source": [
    "np.array_split(digits_per_domain, 10)"
   ]
  },
  {
   "cell_type": "code",
   "execution_count": 26,
   "id": "8b6299dd-99c7-4d92-ab01-9c685b55231d",
   "metadata": {},
   "outputs": [
    {
     "data": {
      "text/plain": [
       "array([480, 480, 960, 960, 480, 480, 480, 480])"
      ]
     },
     "execution_count": 26,
     "metadata": {},
     "output_type": "execute_result"
    }
   ],
   "source": [
    "np.sum(np.array_split(digits_per_domain, 8), 1)"
   ]
  },
  {
   "cell_type": "code",
   "execution_count": null,
   "id": "a73276f2-ef29-4832-93e3-3378e872f5c4",
   "metadata": {},
   "outputs": [],
   "source": []
  },
  {
   "cell_type": "code",
   "execution_count": null,
   "id": "e2c28377-763c-4bdd-889d-8bdc117ebce7",
   "metadata": {},
   "outputs": [],
   "source": []
  },
  {
   "cell_type": "code",
   "execution_count": null,
   "id": "b2091ca2-ac17-4903-9eb9-7bd126ae52a1",
   "metadata": {},
   "outputs": [],
   "source": []
  }
 ],
 "metadata": {
  "kernelspec": {
   "display_name": "Python 3",
   "language": "python",
   "name": "python3"
  },
  "language_info": {
   "codemirror_mode": {
    "name": "ipython",
    "version": 3
   },
   "file_extension": ".py",
   "mimetype": "text/x-python",
   "name": "python",
   "nbconvert_exporter": "python",
   "pygments_lexer": "ipython3",
   "version": "3.6.9"
  }
 },
 "nbformat": 4,
 "nbformat_minor": 5
}
