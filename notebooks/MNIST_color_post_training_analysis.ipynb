{
 "cells": [
  {
   "cell_type": "code",
   "execution_count": 5,
   "id": "a5ff6775-7663-4133-8083-048d117b4e1b",
   "metadata": {},
   "outputs": [],
   "source": [
    "import os\n",
    "\n",
    "import matplotlib.pyplot as plt\n",
    "\n",
    "# import seaborn as sns\n",
    "import numpy as np\n",
    "from sklearn.manifold import TSNE\n",
    "import pandas as pd\n"
   ]
  },
  {
   "cell_type": "code",
   "execution_count": 6,
   "id": "84696d8a-2f4b-48ed-8eb3-b84c3653863a",
   "metadata": {},
   "outputs": [
    {
     "data": {
      "text/plain": [
       "'/home/mariia.sidulova/scdn/DomId/notebooks'"
      ]
     },
     "execution_count": 6,
     "metadata": {},
     "output_type": "execute_result"
    }
   ],
   "source": [
    "os.getcwd()"
   ]
  },
  {
   "cell_type": "code",
   "execution_count": 7,
   "id": "ec47584e-acee-4015-be7c-bb4a3dae4c0f",
   "metadata": {},
   "outputs": [],
   "source": [
    "def load_files(path):\n",
    "    df = pd.read_csv(path+'clustering_results.csv')\n",
    "    \n",
    "    domain = df['predictions'].values\n",
    "    \n",
    "    vec_d = df['vec_d_labels'].values\n",
    "    vec_y = df['vec_y_labels'].values\n",
    "    img_locs = df['image_id_labels'].values\n",
    "\n",
    "    Z = np.load(path + \"Z_space.npy\")\n",
    "    model_name = path.split('_')[-1]\n",
    "\n",
    "    #args = np.loadtxt(path + \"arguments.txt\", dtype=str, usecols=0)  # , delimiter = '\\n')\n",
    "    #img_locs = np.loadtxt(path + \"img_id.txt\", dtype=str)\n",
    "    \n",
    "    return domain, vec_d, vec_y, img_locs, model_name"
   ]
  },
  {
   "cell_type": "code",
   "execution_count": null,
   "id": "386979e8-5469-4eb8-ba55-b0ad733db640",
   "metadata": {},
   "outputs": [],
   "source": []
  },
  {
   "cell_type": "code",
   "execution_count": 25,
   "id": "031689ff-cf7b-478b-a329-c7664797fbc4",
   "metadata": {},
   "outputs": [],
   "source": [
    "\n",
    "ex = '2023-04-05 09:29:44.598644/'\n",
    "ex = '2023-05-02 21:19:38.468548_mnistcolor10_vade/'\n",
    "ex ='2023-05-02 21:37:22.120892_mnistcolor10_vade/'\n",
    "#ex ='2023-05-02 21:55:09.053823_mnistcolor10_dec/'\n",
    "\n",
    "ex = '2023-05-05 13:36:08.430085_mnistcolor10_vade/'\n",
    "ex ='2023-05-05 13:42:10.843056_mnistcolor10_vade/'\n",
    "ex = '2023-05-05 13:47:18.679212_mnistcolor10_dec/'\n",
    "# '\n",
    "\n",
    "ex = '2023-05-09 10:48:56.500472_mnistcolor10_vade/'\n",
    "ex = '2023-05-09 10:53:08.214049_mnistcolor10_vade/'\n",
    "ex = '2023-05-09 10:57:42.059288_mnistcolor10_dec/'\n",
    "\n",
    "ex = '2023-05-09 11:17:46.609664_mnistcolor10_vade/'\n",
    "ex = '2023-05-09 11:43:05.893566_mnistcolor10_vade/'\n",
    "ex = '2023-05-09 12:08:27.291846_mnistcolor10_dec/'\n",
    "\n",
    "ex = '2023-07-25 11:34:03.086461_mnistcolor10_sdcn/'\n",
    "ex = '2023-07-25 11:47:57.588004_mnistcolor10_sdcn/'\n",
    "ex = '2023-07-25 13:39:23.496668_mnistcolor10_sdcn/'\n",
    "\n",
    "ex = '2023-07-26 09:42:16.735969_mnistcolor10_sdcn/'\n",
    "ex = '2023-07-26 09:55:20.695474_mnistcolor10_sdcn/'\n",
    "#ex = '2023-07-25 14:11:33.101350_mnistcolor10_sdcn/'"
   ]
  },
  {
   "cell_type": "code",
   "execution_count": 26,
   "id": "8e1f66bf-0f0c-454f-9935-182a03290a20",
   "metadata": {},
   "outputs": [],
   "source": [
    "domain, vec_d, vec_y, img_locs, model_name = load_files(ex)\n",
    "color = vec_d\n",
    "digit = vec_y\n",
    "model_name = ex.split('_')[-1][:-1]"
   ]
  },
  {
   "cell_type": "code",
   "execution_count": 27,
   "id": "8c66ae13-272a-430e-96bb-53715aecb4ba",
   "metadata": {},
   "outputs": [],
   "source": [
    "def something_per_domain(domain, another_label):\n",
    "    \"\"\"\n",
    "    domain - predicted domain labels \n",
    "    another_label - some other label that corresponds to each of the predicted domain (\n",
    "    assumed that both domain and something have the same img_loc reference order \n",
    "    \"\"\"\n",
    "    u_something = np.unique(another_label)\n",
    "    u_domain = np.unique(domain)\n",
    "    print('unique predicted domain', u_domain)\n",
    "    print('unique true label', u_something)\n",
    "    \n",
    "    array_counters=[]\n",
    "    for i in u_domain:\n",
    "        for j in u_something:\n",
    "            counter = 0\n",
    "            for idx in range(0, len(domain)):\n",
    "                if domain[idx]==i and another_label[idx]==j:\n",
    "                    counter+=1\n",
    "            print('domain ', i, ' digit ', j, ' count', counter)\n",
    "            array_counters.append(counter)\n",
    "    return array_counters\n",
    "                    \n",
    "        \n",
    "    "
   ]
  },
  {
   "cell_type": "code",
   "execution_count": 28,
   "id": "9b17cb05-7268-4c7c-8d79-6641efcc1abe",
   "metadata": {},
   "outputs": [
    {
     "name": "stdout",
     "output_type": "stream",
     "text": [
      "unique predicted domain [ 1  2  3  4  5  6  7  8  9 10]\n",
      "unique true label [0 1 2 3 4 5 6 7 8 9]\n",
      "domain  1  digit  0  count 40\n",
      "domain  1  digit  1  count 4\n",
      "domain  1  digit  2  count 52\n",
      "domain  1  digit  3  count 63\n",
      "domain  1  digit  4  count 46\n",
      "domain  1  digit  5  count 62\n",
      "domain  1  digit  6  count 46\n",
      "domain  1  digit  7  count 46\n",
      "domain  1  digit  8  count 53\n",
      "domain  1  digit  9  count 44\n",
      "domain  2  digit  0  count 51\n",
      "domain  2  digit  1  count 61\n",
      "domain  2  digit  2  count 56\n",
      "domain  2  digit  3  count 66\n",
      "domain  2  digit  4  count 54\n",
      "domain  2  digit  5  count 68\n",
      "domain  2  digit  6  count 57\n",
      "domain  2  digit  7  count 73\n",
      "domain  2  digit  8  count 52\n",
      "domain  2  digit  9  count 58\n",
      "domain  3  digit  0  count 49\n",
      "domain  3  digit  1  count 61\n",
      "domain  3  digit  2  count 57\n",
      "domain  3  digit  3  count 66\n",
      "domain  3  digit  4  count 54\n",
      "domain  3  digit  5  count 68\n",
      "domain  3  digit  6  count 57\n",
      "domain  3  digit  7  count 74\n",
      "domain  3  digit  8  count 49\n",
      "domain  3  digit  9  count 57\n",
      "domain  4  digit  0  count 43\n",
      "domain  4  digit  1  count 61\n",
      "domain  4  digit  2  count 53\n",
      "domain  4  digit  3  count 63\n",
      "domain  4  digit  4  count 53\n",
      "domain  4  digit  5  count 67\n",
      "domain  4  digit  6  count 50\n",
      "domain  4  digit  7  count 69\n",
      "domain  4  digit  8  count 41\n",
      "domain  4  digit  9  count 57\n",
      "domain  5  digit  0  count 51\n",
      "domain  5  digit  1  count 61\n",
      "domain  5  digit  2  count 57\n",
      "domain  5  digit  3  count 67\n",
      "domain  5  digit  4  count 54\n",
      "domain  5  digit  5  count 68\n",
      "domain  5  digit  6  count 57\n",
      "domain  5  digit  7  count 74\n",
      "domain  5  digit  8  count 53\n",
      "domain  5  digit  9  count 58\n",
      "domain  6  digit  0  count 51\n",
      "domain  6  digit  1  count 61\n",
      "domain  6  digit  2  count 57\n",
      "domain  6  digit  3  count 67\n",
      "domain  6  digit  4  count 54\n",
      "domain  6  digit  5  count 69\n",
      "domain  6  digit  6  count 57\n",
      "domain  6  digit  7  count 74\n",
      "domain  6  digit  8  count 53\n",
      "domain  6  digit  9  count 58\n",
      "domain  7  digit  0  count 53\n",
      "domain  7  digit  1  count 118\n",
      "domain  7  digit  2  count 62\n",
      "domain  7  digit  3  count 72\n",
      "domain  7  digit  4  count 62\n",
      "domain  7  digit  5  count 74\n",
      "domain  7  digit  6  count 68\n",
      "domain  7  digit  7  count 96\n",
      "domain  7  digit  8  count 54\n",
      "domain  7  digit  9  count 71\n",
      "domain  8  digit  0  count 69\n",
      "domain  8  digit  1  count 61\n",
      "domain  8  digit  2  count 61\n",
      "domain  8  digit  3  count 72\n",
      "domain  8  digit  4  count 55\n",
      "domain  8  digit  5  count 70\n",
      "domain  8  digit  6  count 64\n",
      "domain  8  digit  7  count 85\n",
      "domain  8  digit  8  count 66\n",
      "domain  8  digit  9  count 61\n",
      "domain  9  digit  0  count 52\n",
      "domain  9  digit  1  count 61\n",
      "domain  9  digit  2  count 57\n",
      "domain  9  digit  3  count 67\n",
      "domain  9  digit  4  count 54\n",
      "domain  9  digit  5  count 66\n",
      "domain  9  digit  6  count 57\n",
      "domain  9  digit  7  count 74\n",
      "domain  9  digit  8  count 56\n",
      "domain  9  digit  9  count 58\n",
      "domain  10  digit  0  count 51\n",
      "domain  10  digit  1  count 61\n",
      "domain  10  digit  2  count 58\n",
      "domain  10  digit  3  count 67\n",
      "domain  10  digit  4  count 54\n",
      "domain  10  digit  5  count 68\n",
      "domain  10  digit  6  count 57\n",
      "domain  10  digit  7  count 75\n",
      "domain  10  digit  8  count 53\n",
      "domain  10  digit  9  count 58\n"
     ]
    }
   ],
   "source": [
    "digits_per_domain = something_per_domain(domain, digit)"
   ]
  },
  {
   "cell_type": "code",
   "execution_count": 29,
   "id": "af9a1fcb-21ae-48cc-a876-d08eb9ee2e22",
   "metadata": {},
   "outputs": [
    {
     "data": {
      "text/plain": [
       "[40,\n",
       " 4,\n",
       " 52,\n",
       " 63,\n",
       " 46,\n",
       " 62,\n",
       " 46,\n",
       " 46,\n",
       " 53,\n",
       " 44,\n",
       " 51,\n",
       " 61,\n",
       " 56,\n",
       " 66,\n",
       " 54,\n",
       " 68,\n",
       " 57,\n",
       " 73,\n",
       " 52,\n",
       " 58,\n",
       " 49,\n",
       " 61,\n",
       " 57,\n",
       " 66,\n",
       " 54,\n",
       " 68,\n",
       " 57,\n",
       " 74,\n",
       " 49,\n",
       " 57,\n",
       " 43,\n",
       " 61,\n",
       " 53,\n",
       " 63,\n",
       " 53,\n",
       " 67,\n",
       " 50,\n",
       " 69,\n",
       " 41,\n",
       " 57,\n",
       " 51,\n",
       " 61,\n",
       " 57,\n",
       " 67,\n",
       " 54,\n",
       " 68,\n",
       " 57,\n",
       " 74,\n",
       " 53,\n",
       " 58,\n",
       " 51,\n",
       " 61,\n",
       " 57,\n",
       " 67,\n",
       " 54,\n",
       " 69,\n",
       " 57,\n",
       " 74,\n",
       " 53,\n",
       " 58,\n",
       " 53,\n",
       " 118,\n",
       " 62,\n",
       " 72,\n",
       " 62,\n",
       " 74,\n",
       " 68,\n",
       " 96,\n",
       " 54,\n",
       " 71,\n",
       " 69,\n",
       " 61,\n",
       " 61,\n",
       " 72,\n",
       " 55,\n",
       " 70,\n",
       " 64,\n",
       " 85,\n",
       " 66,\n",
       " 61,\n",
       " 52,\n",
       " 61,\n",
       " 57,\n",
       " 67,\n",
       " 54,\n",
       " 66,\n",
       " 57,\n",
       " 74,\n",
       " 56,\n",
       " 58,\n",
       " 51,\n",
       " 61,\n",
       " 58,\n",
       " 67,\n",
       " 54,\n",
       " 68,\n",
       " 57,\n",
       " 75,\n",
       " 53,\n",
       " 58]"
      ]
     },
     "execution_count": 29,
     "metadata": {},
     "output_type": "execute_result"
    }
   ],
   "source": [
    "digits_per_domain"
   ]
  },
  {
   "cell_type": "code",
   "execution_count": 30,
   "id": "7d62b61d-2cef-4c8e-a915-00e99cc449c7",
   "metadata": {},
   "outputs": [
    {
     "name": "stdout",
     "output_type": "stream",
     "text": [
      "unique predicted domain [ 1  2  3  4  5  6  7  8  9 10]\n",
      "unique true label [0 1 2 3 4 5 6 7 8 9]\n",
      "domain  1  digit  0  count 0\n",
      "domain  1  digit  1  count 0\n",
      "domain  1  digit  2  count 0\n",
      "domain  1  digit  3  count 0\n",
      "domain  1  digit  4  count 0\n",
      "domain  1  digit  5  count 0\n",
      "domain  1  digit  6  count 456\n",
      "domain  1  digit  7  count 0\n",
      "domain  1  digit  8  count 0\n",
      "domain  1  digit  9  count 0\n",
      "domain  2  digit  0  count 0\n",
      "domain  2  digit  1  count 596\n",
      "domain  2  digit  2  count 0\n",
      "domain  2  digit  3  count 0\n",
      "domain  2  digit  4  count 0\n",
      "domain  2  digit  5  count 0\n",
      "domain  2  digit  6  count 0\n",
      "domain  2  digit  7  count 0\n",
      "domain  2  digit  8  count 0\n",
      "domain  2  digit  9  count 0\n",
      "domain  3  digit  0  count 0\n",
      "domain  3  digit  1  count 0\n",
      "domain  3  digit  2  count 0\n",
      "domain  3  digit  3  count 0\n",
      "domain  3  digit  4  count 0\n",
      "domain  3  digit  5  count 0\n",
      "domain  3  digit  6  count 0\n",
      "domain  3  digit  7  count 592\n",
      "domain  3  digit  8  count 0\n",
      "domain  3  digit  9  count 0\n",
      "domain  4  digit  0  count 0\n",
      "domain  4  digit  1  count 0\n",
      "domain  4  digit  2  count 0\n",
      "domain  4  digit  3  count 0\n",
      "domain  4  digit  4  count 0\n",
      "domain  4  digit  5  count 0\n",
      "domain  4  digit  6  count 16\n",
      "domain  4  digit  7  count 0\n",
      "domain  4  digit  8  count 0\n",
      "domain  4  digit  9  count 541\n",
      "domain  5  digit  0  count 0\n",
      "domain  5  digit  1  count 0\n",
      "domain  5  digit  2  count 0\n",
      "domain  5  digit  3  count 0\n",
      "domain  5  digit  4  count 600\n",
      "domain  5  digit  5  count 0\n",
      "domain  5  digit  6  count 0\n",
      "domain  5  digit  7  count 0\n",
      "domain  5  digit  8  count 0\n",
      "domain  5  digit  9  count 0\n",
      "domain  6  digit  0  count 0\n",
      "domain  6  digit  1  count 0\n",
      "domain  6  digit  2  count 1\n",
      "domain  6  digit  3  count 0\n",
      "domain  6  digit  4  count 0\n",
      "domain  6  digit  5  count 600\n",
      "domain  6  digit  6  count 0\n",
      "domain  6  digit  7  count 0\n",
      "domain  6  digit  8  count 0\n",
      "domain  6  digit  9  count 0\n",
      "domain  7  digit  0  count 0\n",
      "domain  7  digit  1  count 2\n",
      "domain  7  digit  2  count 0\n",
      "domain  7  digit  3  count 0\n",
      "domain  7  digit  4  count 0\n",
      "domain  7  digit  5  count 0\n",
      "domain  7  digit  6  count 128\n",
      "domain  7  digit  7  count 0\n",
      "domain  7  digit  8  count 600\n",
      "domain  7  digit  9  count 0\n",
      "domain  8  digit  0  count 600\n",
      "domain  8  digit  1  count 0\n",
      "domain  8  digit  2  count 5\n",
      "domain  8  digit  3  count 0\n",
      "domain  8  digit  4  count 0\n",
      "domain  8  digit  5  count 0\n",
      "domain  8  digit  6  count 0\n",
      "domain  8  digit  7  count 0\n",
      "domain  8  digit  8  count 0\n",
      "domain  8  digit  9  count 59\n",
      "domain  9  digit  0  count 0\n",
      "domain  9  digit  1  count 0\n",
      "domain  9  digit  2  count 594\n",
      "domain  9  digit  3  count 0\n",
      "domain  9  digit  4  count 0\n",
      "domain  9  digit  5  count 0\n",
      "domain  9  digit  6  count 0\n",
      "domain  9  digit  7  count 8\n",
      "domain  9  digit  8  count 0\n",
      "domain  9  digit  9  count 0\n",
      "domain  10  digit  0  count 0\n",
      "domain  10  digit  1  count 2\n",
      "domain  10  digit  2  count 0\n",
      "domain  10  digit  3  count 600\n",
      "domain  10  digit  4  count 0\n",
      "domain  10  digit  5  count 0\n",
      "domain  10  digit  6  count 0\n",
      "domain  10  digit  7  count 0\n",
      "domain  10  digit  8  count 0\n",
      "domain  10  digit  9  count 0\n"
     ]
    }
   ],
   "source": [
    "colors_per_domain = something_per_domain(domain, color)"
   ]
  },
  {
   "cell_type": "code",
   "execution_count": 31,
   "id": "9fd39be8-f333-4261-983b-9fb9eefbbd35",
   "metadata": {},
   "outputs": [
    {
     "data": {
      "text/plain": [
       "[0,\n",
       " 0,\n",
       " 0,\n",
       " 0,\n",
       " 0,\n",
       " 0,\n",
       " 456,\n",
       " 0,\n",
       " 0,\n",
       " 0,\n",
       " 0,\n",
       " 596,\n",
       " 0,\n",
       " 0,\n",
       " 0,\n",
       " 0,\n",
       " 0,\n",
       " 0,\n",
       " 0,\n",
       " 0,\n",
       " 0,\n",
       " 0,\n",
       " 0,\n",
       " 0,\n",
       " 0,\n",
       " 0,\n",
       " 0,\n",
       " 592,\n",
       " 0,\n",
       " 0,\n",
       " 0,\n",
       " 0,\n",
       " 0,\n",
       " 0,\n",
       " 0,\n",
       " 0,\n",
       " 16,\n",
       " 0,\n",
       " 0,\n",
       " 541,\n",
       " 0,\n",
       " 0,\n",
       " 0,\n",
       " 0,\n",
       " 600,\n",
       " 0,\n",
       " 0,\n",
       " 0,\n",
       " 0,\n",
       " 0,\n",
       " 0,\n",
       " 0,\n",
       " 1,\n",
       " 0,\n",
       " 0,\n",
       " 600,\n",
       " 0,\n",
       " 0,\n",
       " 0,\n",
       " 0,\n",
       " 0,\n",
       " 2,\n",
       " 0,\n",
       " 0,\n",
       " 0,\n",
       " 0,\n",
       " 128,\n",
       " 0,\n",
       " 600,\n",
       " 0,\n",
       " 600,\n",
       " 0,\n",
       " 5,\n",
       " 0,\n",
       " 0,\n",
       " 0,\n",
       " 0,\n",
       " 0,\n",
       " 0,\n",
       " 59,\n",
       " 0,\n",
       " 0,\n",
       " 594,\n",
       " 0,\n",
       " 0,\n",
       " 0,\n",
       " 0,\n",
       " 8,\n",
       " 0,\n",
       " 0,\n",
       " 0,\n",
       " 2,\n",
       " 0,\n",
       " 600,\n",
       " 0,\n",
       " 0,\n",
       " 0,\n",
       " 0,\n",
       " 0,\n",
       " 0]"
      ]
     },
     "execution_count": 31,
     "metadata": {},
     "output_type": "execute_result"
    }
   ],
   "source": [
    "colors_per_domain"
   ]
  },
  {
   "cell_type": "code",
   "execution_count": null,
   "id": "0140490b-d35b-4c90-a72f-f8aa3846331a",
   "metadata": {},
   "outputs": [],
   "source": []
  },
  {
   "cell_type": "code",
   "execution_count": 32,
   "id": "bfd45fb0-f2ee-4d7f-bf83-5ccd8c30b5e5",
   "metadata": {},
   "outputs": [
    {
     "data": {
      "text/plain": [
       "100"
      ]
     },
     "execution_count": 32,
     "metadata": {},
     "output_type": "execute_result"
    }
   ],
   "source": [
    "len(digits_per_domain)"
   ]
  },
  {
   "cell_type": "code",
   "execution_count": 33,
   "id": "76392fe7-0843-4280-a607-ba180157b59a",
   "metadata": {},
   "outputs": [],
   "source": [
    "\n",
    "\n",
    "\n",
    "def plot_something_per_domain_counts(domain, another_label, counts, fs, legend = False, thres = None,  title = None,digit_plot=True):\n",
    "    \"\"\"\n",
    "    domain - predicted domain labels\n",
    "    another_label - another label aassociated with each predicted domain (should be same shape as domain)\n",
    "    counts - countes of each another label in each of the predicted domain (see something_per_domain function)\n",
    "    fs - font size\n",
    "    colors - colors of each segment on the bargraph\n",
    "    legend - legend of unique another lables\n",
    "    thres - if thresholding of another label is required then should be shpecifies (also see apply_threshold function)\n",
    "    \n",
    "    \"\"\"\n",
    "    u_domains = np.unique(domain)\n",
    "    N = len(u_domains)\n",
    "    \n",
    "    u_another_label = np.unique(another_label)\n",
    "    print('unique labels', u_another_label, ' N ', N)\n",
    "    counts = np.array(counts)\n",
    "    narray = np.array_split(counts, N)\n",
    "\n",
    "#     if thres:\n",
    "#         u_another_label_dic = apply_threshold(u_another_label, narray, thres, N)\n",
    "#         #print(u_another_label_dic.values())\n",
    "#         u_another_label = list(u_another_label_dic.keys())\n",
    "#         narray = list(u_another_label_dic.values())\n",
    "#         narray = np.transpose(narray)\n",
    "\n",
    "   # print(narray)\n",
    "    #print(len(u_domains), len(u_another_label))\n",
    "    if digit_plot:\n",
    "        c =  ['darkseagreen', 'forestgreen', 'aquamarine', 'lightseagreen', 'teal', 'steelblue','lightblue', 'royalblue','navy', 'lightslategrey' ]\n",
    "\n",
    "    else:\n",
    "        c = ['mediumpurple', 'darkmagenta','orchid', 'lightpink', 'lightcoral', 'maroon', 'sandybrown', 'peachpuff', 'goldenrod', 'gold']\n",
    "    plt.figure(figsize=(5,5))\n",
    "    for i in range(0, len(u_domains)):\n",
    "        for jj in range(0,len(u_another_label)):\n",
    "            \n",
    "            if jj>0:\n",
    "                bottom = np.sum(narray[i][:jj])\n",
    "            else:\n",
    "                bottom = 0\n",
    "            #print(i, narray[i][jj])\n",
    "            plt.bar(i, narray[i][jj], bottom = bottom, color = c[jj])\n",
    "    x = np.linspace(0, N-1, N)\n",
    "    x_ticks = u_domains\n",
    "    plt.ylabel(\"Counts\", fontsize=fs)\n",
    "    plt.xticks(x, x_ticks, fontsize=fs)\n",
    "    plt.yticks(fontsize=fs)\n",
    "    plt.xlabel(\"Domain\", fontsize=fs)\n",
    "    plt.title(title, fontsize = fs, weight = 'bold')\n",
    "   \n",
    "    if legend:\n",
    "        plt.legend(legend)\n",
    "    else:\n",
    "        plt.legend(u_another_label)\n",
    "    plt.show()"
   ]
  },
  {
   "cell_type": "code",
   "execution_count": 34,
   "id": "72950715-2bcb-4f39-9027-7da43b741755",
   "metadata": {},
   "outputs": [],
   "source": [
    "def plot_something_per_domain_proportion(domain, another_label, counts, fs, legend = False, thres = None, title = None, digit_plot = True):\n",
    "    \"\"\"\n",
    "    domain - predicted domain labels\n",
    "    another_label - another label aassociated with each predicted domain (should be same shape as domain)\n",
    "    counts - countes of each another label in each of the predicted domain (see something_per_domain function)\n",
    "    fs - font size\n",
    "    colors - colors of each segment on the bargraph\n",
    "    legend - legend of unique another lables\n",
    "    thres - if thresholding of another label is required then should be shpecifies (also see apply_threshold function)\n",
    "    \n",
    "    \"\"\"\n",
    "    u_domains = np.unique(domain)\n",
    "    N = len(u_domains)\n",
    "    \n",
    "    u_another_label = np.unique(another_label)\n",
    "    print('unique labels', u_another_label)\n",
    "    print(u_domains)\n",
    "    counts = np.array(counts)\n",
    "    narray = np.array_split(counts, N)\n",
    "\n",
    "    if thres:\n",
    "        u_another_label_dic = apply_threshold(u_another_label, narray, thres, N)\n",
    "        #print(u_another_label_dic.values())\n",
    "        u_another_label = list(u_another_label_dic.keys())\n",
    "        narray = list(u_another_label_dic.values())\n",
    "        narray = np.transpose(narray)\n",
    "\n",
    "   # print(narray)\n",
    "    #print(len(u_domains), len(u_another_label))\n",
    "    # c = ['blue', 'teal', 'pink', 'orange', 'green', 'red', 'plum', 'grey', 'purple', 'yellow']\n",
    "    # c = ['lightblue', 'steelblue', 'royalblue', 'mediumpurple', 'darkmagenta','orchid', 'lightpink', 'lightcoral', 'maroon', 'sandybrown']\n",
    "    \n",
    "    if digit_plot:\n",
    "        c =  ['darkseagreen', 'forestgreen', 'aquamarine', 'lightseagreen', 'teal', 'steelblue','lightblue', 'royalblue','navy', 'lightslategrey' ]\n",
    "\n",
    "    else:\n",
    "        c = ['mediumpurple', 'darkmagenta','orchid', 'lightpink', 'lightcoral', 'maroon', 'sandybrown', 'peachpuff', 'goldenrod', 'gold']\n",
    "  \n",
    "        \n",
    "    plt.figure(figsize = (5, 5))\n",
    "    for i in range(0, len(u_domains)):\n",
    "        for jj in range(0,len(u_another_label)):\n",
    "            \n",
    "            if jj>0:\n",
    "                bottom = np.sum(narray[i][:jj])/np.sum(narray[i])\n",
    "            else:\n",
    "                bottom = 0\n",
    "            ##print(i, narray[i][jj])\n",
    "            #print(c[jj])\n",
    "            plt.bar(i, narray[i][jj]/np.sum(narray[i]), bottom = bottom, color = c[jj])\n",
    "    x = np.linspace(0, N-1, N)\n",
    "    x_ticks = [str(item)[0] for item in u_domains]\n",
    "    #plt.ylabel(\"Proportion\", fontsize=fs)\n",
    "    plt.xticks(x, x_ticks, fontsize=fs)\n",
    "    plt.yticks(fontsize=fs)\n",
    "    plt.xlabel(\"Domain\", fontsize=fs)\n",
    "    plt.title(title, fontsize = fs, weight = 'bold')\n",
    "    plt.tick_params(left = False, labelleft = False)\n",
    "#     if legend:\n",
    "#         plt.legend(legend, bbox_to_anchor=(0.5, -0.05))\n",
    "#     else:\n",
    "#         plt.legend(u_another_label, bbox_to_anchor=(1, 0.70), fancybox=True, shadow=True, fontsize = fs)\n",
    "    plt.show()"
   ]
  },
  {
   "cell_type": "code",
   "execution_count": 35,
   "id": "94dcaa0e-8215-47f9-8b1c-4b5e5adbdc9a",
   "metadata": {},
   "outputs": [
    {
     "name": "stdout",
     "output_type": "stream",
     "text": [
      "unique labels [0 1 2 3 4 5 6 7 8 9]\n",
      "[ 1  2  3  4  5  6  7  8  9 10]\n"
     ]
    },
    {
     "data": {
      "image/png": "[encoded data removed]",
      "text/plain": [
       "<Figure size 500x500 with 1 Axes>"
      ]
     },
     "metadata": {},
     "output_type": "display_data"
    }
   ],
   "source": [
    "plot_something_per_domain_proportion(domain, digit, digits_per_domain, fs =20,title = model_name+':\\n Digit per Cluster')"
   ]
  },
  {
   "cell_type": "code",
   "execution_count": 36,
   "id": "f363bb9b-bd12-45ec-a462-bdc1deb2ec74",
   "metadata": {
    "tags": []
   },
   "outputs": [
    {
     "name": "stdout",
     "output_type": "stream",
     "text": [
      "unique labels [0 1 2 3 4 5 6 7 8 9]\n",
      "[ 1  2  3  4  5  6  7  8  9 10]\n"
     ]
    },
    {
     "data": {
      "image/png": "[encoded data removed]",
      "text/plain": [
       "<Figure size 500x500 with 1 Axes>"
      ]
     },
     "metadata": {},
     "output_type": "display_data"
    }
   ],
   "source": [
    "#plot_something_per_domain_counts(domain, color, colors_per_domain, fs =10) \n",
    "plot_something_per_domain_proportion(domain, color, colors_per_domain, fs =20, title = model_name+': \\n Color per Cluster', digit_plot = False ) "
   ]
  },
  {
   "cell_type": "code",
   "execution_count": 37,
   "id": "f2812de3",
   "metadata": {},
   "outputs": [
    {
     "name": "stdout",
     "output_type": "stream",
     "text": [
      "unique labels [0 1 2 3 4 5 6 7 8 9]  N  10\n"
     ]
    },
    {
     "data": {
      "image/png": "[encoded data removed]",
      "text/plain": [
       "<Figure size 500x500 with 1 Axes>"
      ]
     },
     "metadata": {},
     "output_type": "display_data"
    }
   ],
   "source": [
    "plot_something_per_domain_counts(domain, digit, digits_per_domain, fs =20, title = model_name+': \\n Digit per Cluster',) #, legend = ['forest background', 'ocean background'])"
   ]
  },
  {
   "cell_type": "code",
   "execution_count": 38,
   "id": "b6f9a7ad-b96b-4803-869a-88fbf02bd131",
   "metadata": {},
   "outputs": [
    {
     "data": {
      "text/plain": [
       "array([5, 5, 1, ..., 4, 5, 4])"
      ]
     },
     "execution_count": 38,
     "metadata": {},
     "output_type": "execute_result"
    }
   ],
   "source": [
    "digit"
   ]
  },
  {
   "cell_type": "code",
   "execution_count": 39,
   "id": "cf5f3123-5e6e-42c1-b008-57b0c9d46754",
   "metadata": {},
   "outputs": [
    {
     "name": "stdout",
     "output_type": "stream",
     "text": [
      "unique labels [0 1 2 3 4 5 6 7 8 9]  N  10\n"
     ]
    },
    {
     "data": {
      "image/png": "[encoded data removed]",
      "text/plain": [
       "<Figure size 500x500 with 1 Axes>"
      ]
     },
     "metadata": {},
     "output_type": "display_data"
    }
   ],
   "source": [
    "plot_something_per_domain_counts(domain, color, colors_per_domain, fs =20, title = model_name+': \\n Color per Cluster', digit_plot=False) "
   ]
  },
  {
   "cell_type": "code",
   "execution_count": null,
   "id": "e2c28377-763c-4bdd-889d-8bdc117ebce7",
   "metadata": {},
   "outputs": [],
   "source": []
  },
  {
   "cell_type": "code",
   "execution_count": null,
   "id": "b2091ca2-ac17-4903-9eb9-7bd126ae52a1",
   "metadata": {},
   "outputs": [],
   "source": []
  }
 ],
 "metadata": {
  "kernelspec": {
   "display_name": "Python 3 (ipykernel)",
   "language": "python",
   "name": "python3"
  },
  "language_info": {
   "codemirror_mode": {
    "name": "ipython",
    "version": 3
   },
   "file_extension": ".py",
   "mimetype": "text/x-python",
   "name": "python",
   "nbconvert_exporter": "python",
   "pygments_lexer": "ipython3",
   "version": "3.10.4"
  }
 },
 "nbformat": 4,
 "nbformat_minor": 5
}
