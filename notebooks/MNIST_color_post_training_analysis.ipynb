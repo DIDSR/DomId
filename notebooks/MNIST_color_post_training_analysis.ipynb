{
 "cells": [
  {
   "cell_type": "code",
   "execution_count": 1,
   "id": "66b26389",
   "metadata": {},
   "outputs": [],
   "source": [
    "import os\n",
    "\n",
    "import matplotlib.pyplot as plt\n",
    "\n",
    "# import seaborn as sns\n",
    "import numpy as np\n",
    "import pandas as pd\n",
    "from sklearn.manifold import TSNE"
   ]
  },
  {
   "cell_type": "code",
   "execution_count": 2,
   "id": "88cf8064",
   "metadata": {},
   "outputs": [
    {
     "data": {
      "text/plain": [
       "'/storage2T/github/DomId/notebooks'"
      ]
     },
     "execution_count": 2,
     "metadata": {},
     "output_type": "execute_result"
    }
   ],
   "source": [
    "os.getcwd()"
   ]
  },
  {
   "cell_type": "code",
   "execution_count": 3,
   "id": "e3c7aab6",
   "metadata": {},
   "outputs": [],
   "source": [
    "def load_files(path):\n",
    "    df = pd.read_csv(path + \"clustering_results.csv\")\n",
    "    domain = df[\"predictions\"].values\n",
    "    vec_d = df[\"vec_d_labels\"].values\n",
    "    vec_y = df[\"vec_y_labels\"].values\n",
    "\n",
    "    Z = np.load(path + \"Z_space.npy\")\n",
    "\n",
    "    #args = np.loadtxt(path + \"arguments.txt\", dtype=str, usecols=0)  # , delimiter = '\\n')\n",
    "    img_locs = df[\"image_id_labels\"].values\n",
    "    #arguments = \n",
    "    return domain, vec_d, vec_y, img_locs"
   ]
  },
  {
   "cell_type": "code",
   "execution_count": null,
   "id": "9082ade6",
   "metadata": {},
   "outputs": [],
   "source": []
  },
  {
   "cell_type": "code",
   "execution_count": 4,
   "id": "2dec3a12",
   "metadata": {},
   "outputs": [],
   "source": [
    "\n",
    "ex = '2023-04-05 09:29:44.598644/'\n",
    "\n",
    "# Alexej's results\n",
    "## color MNIST: 5 digits and 5 colors\n",
    "ex = \"2023-04-13 13:57:33.952604/\" # cdvade'2023-03-14 11:23:24.638123/' #conditional on 5 digits 5 colors\n",
    "ex = \"2023-04-13 16:17:52.085393_mnistcolor10_vade/\"\n",
    "#ex = \"2023-04-13 14:11:06.011816/\" # vade '2023-03-14 11:23:06.765323/' #uconditional on 5 digits 5 colors\n",
    "#ex = \"2023-04-13 14:16:26.281493/\" #'2023-03-14 13:33:54.115991/' #DEC on 5 digits 5 colors\n",
    "ex = \"2023-04-13 17:16:52.116775_mnistcolor10_vade/\"  # using 100% of MNIST digits\n",
    "\n",
    "## color MNIST: 10 digits and 10 colors\n",
    "# ex = \"2023-04-12 13:57:18.617964/\" # vade\n",
    "# ex = \"2023-04-12 14:17:07.104022/\"  # dec\n",
    "# ex = \"2023-04-12 14:56:55.661117/\"  # cdvade"
   ]
  },
  {
   "cell_type": "code",
   "execution_count": 5,
   "id": "9da43bd8",
   "metadata": {},
   "outputs": [
    {
     "data": {
      "text/html": [
       "<div>\n",
       "<style scoped>\n",
       "    .dataframe tbody tr th:only-of-type {\n",
       "        vertical-align: middle;\n",
       "    }\n",
       "\n",
       "    .dataframe tbody tr th {\n",
       "        vertical-align: top;\n",
       "    }\n",
       "\n",
       "    .dataframe thead th {\n",
       "        text-align: right;\n",
       "    }\n",
       "</style>\n",
       "<table border=\"1\" class=\"dataframe\">\n",
       "  <thead>\n",
       "    <tr style=\"text-align: right;\">\n",
       "      <th></th>\n",
       "      <th>vec_y_labels</th>\n",
       "      <th>vec_d_labels</th>\n",
       "      <th>predictions</th>\n",
       "      <th>image_id_labels</th>\n",
       "    </tr>\n",
       "  </thead>\n",
       "  <tbody>\n",
       "    <tr>\n",
       "      <th>0</th>\n",
       "      <td>2</td>\n",
       "      <td>1</td>\n",
       "      <td>5</td>\n",
       "      <td>14813_1_both_2</td>\n",
       "    </tr>\n",
       "    <tr>\n",
       "      <th>1</th>\n",
       "      <td>1</td>\n",
       "      <td>1</td>\n",
       "      <td>2</td>\n",
       "      <td>7195_1_both_1</td>\n",
       "    </tr>\n",
       "    <tr>\n",
       "      <th>2</th>\n",
       "      <td>0</td>\n",
       "      <td>3</td>\n",
       "      <td>3</td>\n",
       "      <td>4629_3_both_0</td>\n",
       "    </tr>\n",
       "    <tr>\n",
       "      <th>3</th>\n",
       "      <td>3</td>\n",
       "      <td>0</td>\n",
       "      <td>4</td>\n",
       "      <td>19934_0_both_3</td>\n",
       "    </tr>\n",
       "    <tr>\n",
       "      <th>4</th>\n",
       "      <td>0</td>\n",
       "      <td>3</td>\n",
       "      <td>3</td>\n",
       "      <td>5694_3_both_0</td>\n",
       "    </tr>\n",
       "    <tr>\n",
       "      <th>...</th>\n",
       "      <td>...</td>\n",
       "      <td>...</td>\n",
       "      <td>...</td>\n",
       "      <td>...</td>\n",
       "    </tr>\n",
       "    <tr>\n",
       "      <th>122295</th>\n",
       "      <td>2</td>\n",
       "      <td>1</td>\n",
       "      <td>5</td>\n",
       "      <td>18604_1_both_2</td>\n",
       "    </tr>\n",
       "    <tr>\n",
       "      <th>122296</th>\n",
       "      <td>3</td>\n",
       "      <td>3</td>\n",
       "      <td>5</td>\n",
       "      <td>23080_3_both_3</td>\n",
       "    </tr>\n",
       "    <tr>\n",
       "      <th>122297</th>\n",
       "      <td>1</td>\n",
       "      <td>4</td>\n",
       "      <td>2</td>\n",
       "      <td>12400_4_both_1</td>\n",
       "    </tr>\n",
       "    <tr>\n",
       "      <th>122298</th>\n",
       "      <td>1</td>\n",
       "      <td>3</td>\n",
       "      <td>2</td>\n",
       "      <td>11272_3_both_1</td>\n",
       "    </tr>\n",
       "    <tr>\n",
       "      <th>122299</th>\n",
       "      <td>3</td>\n",
       "      <td>1</td>\n",
       "      <td>4</td>\n",
       "      <td>20380_1_both_3</td>\n",
       "    </tr>\n",
       "  </tbody>\n",
       "</table>\n",
       "<p>122300 rows × 4 columns</p>\n",
       "</div>"
      ],
      "text/plain": [
       "        vec_y_labels  vec_d_labels  predictions image_id_labels\n",
       "0                  2             1            5  14813_1_both_2\n",
       "1                  1             1            2   7195_1_both_1\n",
       "2                  0             3            3   4629_3_both_0\n",
       "3                  3             0            4  19934_0_both_3\n",
       "4                  0             3            3   5694_3_both_0\n",
       "...              ...           ...          ...             ...\n",
       "122295             2             1            5  18604_1_both_2\n",
       "122296             3             3            5  23080_3_both_3\n",
       "122297             1             4            2  12400_4_both_1\n",
       "122298             1             3            2  11272_3_both_1\n",
       "122299             3             1            4  20380_1_both_3\n",
       "\n",
       "[122300 rows x 4 columns]"
      ]
     },
     "execution_count": 5,
     "metadata": {},
     "output_type": "execute_result"
    }
   ],
   "source": [
    "pd.read_csv(ex + \"clustering_results.csv\")"
   ]
  },
  {
   "cell_type": "code",
   "execution_count": 6,
   "id": "d54d8894",
   "metadata": {},
   "outputs": [],
   "source": [
    "domain, vec_d, vec_y, img_locs = load_files(ex)\n",
    "color = vec_d\n",
    "digit = vec_y"
   ]
  },
  {
   "cell_type": "code",
   "execution_count": 7,
   "id": "a40e0f83",
   "metadata": {},
   "outputs": [],
   "source": [
    "def something_per_domain(domain, another_label):\n",
    "    \"\"\"\n",
    "    domain - predicted domain labels \n",
    "    another_label - some other label that corresponds to each of the predicted domain (\n",
    "    assumed that both domain and something have the same img_loc reference order \n",
    "    \"\"\"\n",
    "    u_something = np.unique(another_label)\n",
    "    u_domain = np.unique(domain)\n",
    "    print('unique predicted domain', u_domain)\n",
    "    print('unique true label', u_something)\n",
    "    \n",
    "    array_counters=[]\n",
    "    for i in u_domain:\n",
    "        for j in u_something:\n",
    "            counter = 0\n",
    "            for idx in range(0, len(domain)):\n",
    "                if domain[idx]==i and another_label[idx]==j:\n",
    "                    counter+=1\n",
    "            print('domain ', i, ' digit ', j, ' count', counter)\n",
    "            array_counters.append(counter)\n",
    "    return array_counters\n",
    "                    \n",
    "        \n",
    "    "
   ]
  },
  {
   "cell_type": "code",
   "execution_count": 8,
   "id": "0a3f7e29",
   "metadata": {},
   "outputs": [
    {
     "name": "stdout",
     "output_type": "stream",
     "text": [
      "unique predicted domain [1 2 3 4 5]\n",
      "unique true label [0 1 2 3 4]\n",
      "domain  1  digit  0  count 0\n",
      "domain  1  digit  1  count 10291\n",
      "domain  1  digit  2  count 2\n",
      "domain  1  digit  3  count 6\n",
      "domain  1  digit  4  count 9\n",
      "domain  2  digit  0  count 0\n",
      "domain  2  digit  1  count 15491\n",
      "domain  2  digit  2  count 9\n",
      "domain  2  digit  3  count 24\n",
      "domain  2  digit  4  count 15\n",
      "domain  3  digit  0  count 12461\n",
      "domain  3  digit  1  count 1\n",
      "domain  3  digit  2  count 104\n",
      "domain  3  digit  3  count 51\n",
      "domain  3  digit  4  count 0\n",
      "domain  4  digit  0  count 9559\n",
      "domain  4  digit  1  count 569\n",
      "domain  4  digit  2  count 11462\n",
      "domain  4  digit  3  count 10482\n",
      "domain  4  digit  4  count 14088\n",
      "domain  5  digit  0  count 1662\n",
      "domain  5  digit  1  count 531\n",
      "domain  5  digit  2  count 12252\n",
      "domain  5  digit  3  count 13919\n",
      "domain  5  digit  4  count 9312\n"
     ]
    }
   ],
   "source": [
    "digits_per_domain = something_per_domain(domain, digit)"
   ]
  },
  {
   "cell_type": "code",
   "execution_count": 9,
   "id": "b1f49c5f",
   "metadata": {},
   "outputs": [
    {
     "data": {
      "text/plain": [
       "[0,\n",
       " 10291,\n",
       " 2,\n",
       " 6,\n",
       " 9,\n",
       " 0,\n",
       " 15491,\n",
       " 9,\n",
       " 24,\n",
       " 15,\n",
       " 12461,\n",
       " 1,\n",
       " 104,\n",
       " 51,\n",
       " 0,\n",
       " 9559,\n",
       " 569,\n",
       " 11462,\n",
       " 10482,\n",
       " 14088,\n",
       " 1662,\n",
       " 531,\n",
       " 12252,\n",
       " 13919,\n",
       " 9312]"
      ]
     },
     "execution_count": 9,
     "metadata": {},
     "output_type": "execute_result"
    }
   ],
   "source": [
    "digits_per_domain"
   ]
  },
  {
   "cell_type": "code",
   "execution_count": 10,
   "id": "68aa7de7",
   "metadata": {},
   "outputs": [
    {
     "name": "stdout",
     "output_type": "stream",
     "text": [
      "unique predicted domain [1 2 3 4 5]\n",
      "unique true label [0 1 2 3 4]\n",
      "domain  1  digit  0  count 5163\n",
      "domain  1  digit  1  count 0\n",
      "domain  1  digit  2  count 5145\n",
      "domain  1  digit  3  count 0\n",
      "domain  1  digit  4  count 0\n",
      "domain  2  digit  0  count 0\n",
      "domain  2  digit  1  count 5201\n",
      "domain  2  digit  2  count 0\n",
      "domain  2  digit  3  count 5126\n",
      "domain  2  digit  4  count 5212\n",
      "domain  3  digit  0  count 61\n",
      "domain  3  digit  1  count 4170\n",
      "domain  3  digit  2  count 64\n",
      "domain  3  digit  3  count 4197\n",
      "domain  3  digit  4  count 4125\n",
      "domain  4  digit  0  count 12927\n",
      "domain  4  digit  1  count 6712\n",
      "domain  4  digit  2  count 13018\n",
      "domain  4  digit  3  count 6706\n",
      "domain  4  digit  4  count 6797\n",
      "domain  5  digit  0  count 6311\n",
      "domain  5  digit  1  count 8378\n",
      "domain  5  digit  2  count 6234\n",
      "domain  5  digit  3  count 8425\n",
      "domain  5  digit  4  count 8328\n"
     ]
    }
   ],
   "source": [
    "colors_per_domain = something_per_domain(domain, color)"
   ]
  },
  {
   "cell_type": "code",
   "execution_count": 11,
   "id": "864ffa92",
   "metadata": {},
   "outputs": [
    {
     "data": {
      "text/plain": [
       "[5163,\n",
       " 0,\n",
       " 5145,\n",
       " 0,\n",
       " 0,\n",
       " 0,\n",
       " 5201,\n",
       " 0,\n",
       " 5126,\n",
       " 5212,\n",
       " 61,\n",
       " 4170,\n",
       " 64,\n",
       " 4197,\n",
       " 4125,\n",
       " 12927,\n",
       " 6712,\n",
       " 13018,\n",
       " 6706,\n",
       " 6797,\n",
       " 6311,\n",
       " 8378,\n",
       " 6234,\n",
       " 8425,\n",
       " 8328]"
      ]
     },
     "execution_count": 11,
     "metadata": {},
     "output_type": "execute_result"
    }
   ],
   "source": [
    "colors_per_domain"
   ]
  },
  {
   "cell_type": "code",
   "execution_count": null,
   "id": "34cbac1c",
   "metadata": {},
   "outputs": [],
   "source": []
  },
  {
   "cell_type": "code",
   "execution_count": 12,
   "id": "198f3ef4",
   "metadata": {},
   "outputs": [
    {
     "data": {
      "text/plain": [
       "25"
      ]
     },
     "execution_count": 12,
     "metadata": {},
     "output_type": "execute_result"
    }
   ],
   "source": [
    "len(digits_per_domain)"
   ]
  },
  {
   "cell_type": "code",
   "execution_count": 13,
   "id": "cc98f544",
   "metadata": {},
   "outputs": [],
   "source": [
    "\n",
    "\n",
    "\n",
    "def plot_something_per_domain_counts(domain, another_label, counts, fs, legend = False, thres = None):\n",
    "    \"\"\"\n",
    "    domain - predicted domain labels\n",
    "    another_label - another label aassociated with each predicted domain (should be same shape as domain)\n",
    "    counts - countes of each another label in each of the predicted domain (see something_per_domain function)\n",
    "    fs - font size\n",
    "    colors - colors of each segment on the bargraph\n",
    "    legend - legend of unique another lables\n",
    "    thres - if thresholding of another label is required then should be shpecifies (also see apply_threshold function)\n",
    "    \n",
    "    \"\"\"\n",
    "    u_domains = np.unique(domain)\n",
    "    N = len(u_domains)\n",
    "    \n",
    "    u_another_label = np.unique(another_label)\n",
    "    print('unique labels', u_another_label, ' N ', N)\n",
    "    counts = np.array(counts)\n",
    "    narray = np.array_split(counts, N)\n",
    "\n",
    "#     if thres:\n",
    "#         u_another_label_dic = apply_threshold(u_another_label, narray, thres, N)\n",
    "#         #print(u_another_label_dic.values())\n",
    "#         u_another_label = list(u_another_label_dic.keys())\n",
    "#         narray = list(u_another_label_dic.values())\n",
    "#         narray = np.transpose(narray)\n",
    "\n",
    "   # print(narray)\n",
    "    #print(len(u_domains), len(u_another_label))\n",
    "    c = ['blue', 'teal', 'pink', 'orange', 'green', 'red', 'plum', 'grey', 'purple', 'yellow']\n",
    "    c = ['lightblue', 'steelblue', 'royalblue', 'mediumpurple', 'darkmagenta','orchid', 'lightpink', 'lightcoral', 'maroon', 'sandybrown']\n",
    "    plt.figure()\n",
    "    for i in range(0, len(u_domains)):\n",
    "        for jj in range(0,len(u_another_label)):\n",
    "            \n",
    "            if jj>0:\n",
    "                bottom = np.sum(narray[i][:jj])\n",
    "            else:\n",
    "                bottom = 0\n",
    "            #print(i, narray[i][jj])\n",
    "            plt.bar(i, narray[i][jj], bottom = bottom, color = c[jj])\n",
    "    x = np.linspace(0, N-1, N)\n",
    "    x_ticks = u_domains\n",
    "    plt.ylabel(\"Counts\", fontsize=fs)\n",
    "    plt.xticks(x, x_ticks, fontsize=fs)\n",
    "    plt.yticks(fontsize=fs)\n",
    "    plt.xlabel(\"Domain\", fontsize=fs)\n",
    "   \n",
    "    if legend:\n",
    "        plt.legend(legend)\n",
    "    else:\n",
    "        plt.legend(u_another_label)\n",
    "    plt.show()"
   ]
  },
  {
   "cell_type": "code",
   "execution_count": 14,
   "id": "c8e3ca2e",
   "metadata": {},
   "outputs": [],
   "source": [
    "def plot_something_per_domain_proportion(domain, another_label, counts, fs, legend = False, thres = None, title = None, digit_plot = True):\n",
    "    \"\"\"\n",
    "    domain - predicted domain labels\n",
    "    another_label - another label aassociated with each predicted domain (should be same shape as domain)\n",
    "    counts - countes of each another label in each of the predicted domain (see something_per_domain function)\n",
    "    fs - font size\n",
    "    colors - colors of each segment on the bargraph\n",
    "    legend - legend of unique another lables\n",
    "    thres - if thresholding of another label is required then should be shpecifies (also see apply_threshold function)\n",
    "    \n",
    "    \"\"\"\n",
    "    u_domains = np.unique(domain)\n",
    "    N = len(u_domains)\n",
    "    \n",
    "    u_another_label = np.unique(another_label)\n",
    "    print('unique labels', u_another_label)\n",
    "    print(u_domains)\n",
    "    counts = np.array(counts)\n",
    "    narray = np.array_split(counts, N)\n",
    "\n",
    "    if thres:\n",
    "        u_another_label_dic = apply_threshold(u_another_label, narray, thres, N)\n",
    "        #print(u_another_label_dic.values())\n",
    "        u_another_label = list(u_another_label_dic.keys())\n",
    "        narray = list(u_another_label_dic.values())\n",
    "        narray = np.transpose(narray)\n",
    "\n",
    "   # print(narray)\n",
    "    #print(len(u_domains), len(u_another_label))\n",
    "    # c = ['blue', 'teal', 'pink', 'orange', 'green', 'red', 'plum', 'grey', 'purple', 'yellow']\n",
    "    # c = ['lightblue', 'steelblue', 'royalblue', 'mediumpurple', 'darkmagenta','orchid', 'lightpink', 'lightcoral', 'maroon', 'sandybrown']\n",
    "    \n",
    "    if digit_plot:\n",
    "        c =  ['darkseagreen', 'forestgreen', 'aquamarine', 'lightseagreen', 'teal', 'steelblue','lightblue', 'royalblue','navy', 'lightslategrey' ]\n",
    "\n",
    "    else:\n",
    "        c = ['mediumpurple', 'darkmagenta','orchid', 'lightpink', 'lightcoral', 'maroon', 'sandybrown', 'peachpuff', 'goldenrod', 'gold']\n",
    "  \n",
    "        \n",
    "    plt.figure(figsize = (5, 5))\n",
    "    for i in range(0, len(u_domains)):\n",
    "        for jj in range(0,len(u_another_label)):\n",
    "            \n",
    "            if jj>0:\n",
    "                bottom = np.sum(narray[i][:jj])/np.sum(narray[i])\n",
    "            else:\n",
    "                bottom = 0\n",
    "            ##print(i, narray[i][jj])\n",
    "            #print(c[jj])\n",
    "            plt.bar(i, narray[i][jj]/np.sum(narray[i]), bottom = bottom, color = c[jj])\n",
    "    x = np.linspace(0, N-1, N)\n",
    "    x_ticks = [str(item)[0] for item in u_domains]\n",
    "    #plt.ylabel(\"Proportion\", fontsize=fs)\n",
    "    plt.xticks(x, x_ticks, fontsize=fs)\n",
    "    plt.yticks(fontsize=fs)\n",
    "    plt.xlabel(\"Domain\", fontsize=fs)\n",
    "    plt.title(title, fontsize = fs, weight = 'bold')\n",
    "    plt.tick_params(left = False, labelleft = False)\n",
    "#     if legend:\n",
    "#         plt.legend(legend, bbox_to_anchor=(0.5, -0.05))\n",
    "#     else:\n",
    "#         plt.legend(u_another_label, bbox_to_anchor=(1, 0.70), fancybox=True, shadow=True, fontsize = fs)\n",
    "    plt.show()"
   ]
  },
  {
   "cell_type": "code",
   "execution_count": 15,
   "id": "0a27ce7f",
   "metadata": {},
   "outputs": [
    {
     "name": "stdout",
     "output_type": "stream",
     "text": [
      "unique labels [0 1 2 3 4]  N  5\n"
     ]
    },
    {
     "data": {
      "image/png": "[encoded data removed]",
      "text/plain": [
       "<Figure size 640x480 with 1 Axes>"
      ]
     },
     "metadata": {},
     "output_type": "display_data"
    }
   ],
   "source": [
    "plot_something_per_domain_counts(domain, digit, digits_per_domain, fs =10)"
   ]
  },
  {
   "cell_type": "code",
   "execution_count": 16,
   "id": "00c86d70",
   "metadata": {
    "tags": []
   },
   "outputs": [
    {
     "name": "stdout",
     "output_type": "stream",
     "text": [
      "unique labels [0 1 2 3 4]  N  5\n"
     ]
    },
    {
     "data": {
      "image/png": "[encoded data removed]",
      "text/plain": [
       "<Figure size 640x480 with 1 Axes>"
      ]
     },
     "metadata": {},
     "output_type": "display_data"
    },
    {
     "name": "stdout",
     "output_type": "stream",
     "text": [
      "unique labels [0 1 2 3 4]\n",
      "[1 2 3 4 5]\n"
     ]
    },
    {
     "data": {
      "image/png": "[encoded data removed]",
      "text/plain": [
       "<Figure size 500x500 with 1 Axes>"
      ]
     },
     "metadata": {},
     "output_type": "display_data"
    }
   ],
   "source": [
    "plot_something_per_domain_counts(domain, color, colors_per_domain, fs =10) \n",
    "plot_something_per_domain_proportion(domain, color, colors_per_domain, fs =20, title = 'DEC: \\n Color per Cluster', digit_plot = False ) "
   ]
  },
  {
   "cell_type": "code",
   "execution_count": 17,
   "id": "c338a30e",
   "metadata": {},
   "outputs": [
    {
     "name": "stdout",
     "output_type": "stream",
     "text": [
      "unique labels [0 1 2 3 4]  N  5\n"
     ]
    },
    {
     "data": {
      "image/png": "[encoded data removed]",
      "text/plain": [
       "<Figure size 640x480 with 1 Axes>"
      ]
     },
     "metadata": {},
     "output_type": "display_data"
    }
   ],
   "source": [
    "plot_something_per_domain_counts(domain, digit, digits_per_domain, fs =10) #, legend = ['forest background', 'ocean background'])"
   ]
  },
  {
   "cell_type": "code",
   "execution_count": 18,
   "id": "3dc3a509",
   "metadata": {},
   "outputs": [
    {
     "data": {
      "text/plain": [
       "array([2, 1, 0, ..., 1, 1, 3])"
      ]
     },
     "execution_count": 18,
     "metadata": {},
     "output_type": "execute_result"
    }
   ],
   "source": [
    "digit"
   ]
  },
  {
   "cell_type": "code",
   "execution_count": 19,
   "id": "b8ae9a92",
   "metadata": {},
   "outputs": [
    {
     "name": "stdout",
     "output_type": "stream",
     "text": [
      "unique labels [0 1 2 3 4]\n",
      "[1 2 3 4 5]\n"
     ]
    },
    {
     "data": {
      "image/png": "[encoded data removed]",
      "text/plain": [
       "<Figure size 500x500 with 1 Axes>"
      ]
     },
     "metadata": {},
     "output_type": "display_data"
    }
   ],
   "source": [
    "plot_something_per_domain_proportion(domain, digit, digits_per_domain, fs =20, title = 'Model name: \\n Digit per Cluster')"
   ]
  },
  {
   "cell_type": "code",
   "execution_count": null,
   "id": "43613433",
   "metadata": {},
   "outputs": [],
   "source": []
  },
  {
   "cell_type": "code",
   "execution_count": null,
   "id": "bb1e8f51",
   "metadata": {},
   "outputs": [],
   "source": []
  }
 ],
 "metadata": {
  "kernelspec": {
   "display_name": "Python 3 (ipykernel)",
   "language": "python",
   "name": "python3"
  },
  "language_info": {
   "codemirror_mode": {
    "name": "ipython",
    "version": 3
   },
   "file_extension": ".py",
   "mimetype": "text/x-python",
   "name": "python",
   "nbconvert_exporter": "python",
   "pygments_lexer": "ipython3",
   "version": "3.10.7"
  }
 },
 "nbformat": 4,
 "nbformat_minor": 5
}
