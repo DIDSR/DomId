{
 "cells": [
  {
   "cell_type": "code",
   "execution_count": 1,
   "id": "a5ff6775-7663-4133-8083-048d117b4e1b",
   "metadata": {},
   "outputs": [],
   "source": [
    "import os\n",
    "\n",
    "import matplotlib.pyplot as plt\n",
    "\n",
    "# import seaborn as sns\n",
    "import numpy as np\n",
    "from sklearn.manifold import TSNE"
   ]
  },
  {
   "cell_type": "code",
   "execution_count": 2,
   "id": "84696d8a-2f4b-48ed-8eb3-b84c3653863a",
   "metadata": {},
   "outputs": [
    {
     "data": {
      "text/plain": [
       "'/home/didsr/Documents/miccai/DomId/notebooks'"
      ]
     },
     "execution_count": 2,
     "metadata": {},
     "output_type": "execute_result"
    }
   ],
   "source": [
    "os.getcwd()"
   ]
  },
  {
   "cell_type": "code",
   "execution_count": 17,
   "id": "ec47584e-acee-4015-be7c-bb4a3dae4c0f",
   "metadata": {},
   "outputs": [],
   "source": [
    "def load_files(path):\n",
    "    domain = np.loadtxt(path + \"predicted_labels.txt\")\n",
    "    vec_d = np.loadtxt(path + \"vec_d_labels.txt\")\n",
    "    vec_y = np.loadtxt(path + \"vec_y_labels.txt\")\n",
    "\n",
    "    Z = np.load(path + \"Z_space.npy\")\n",
    "\n",
    "    #args = np.loadtxt(path + \"arguments.txt\", dtype=str, usecols=0)  # , delimiter = '\\n')\n",
    "    img_locs = np.loadtxt(path + \"img_id.txt\", dtype=str)\n",
    "    #arguments = \n",
    "    return domain, vec_d, vec_y, img_locs"
   ]
  },
  {
   "cell_type": "code",
   "execution_count": null,
   "id": "386979e8-5469-4eb8-ba55-b0ad733db640",
   "metadata": {},
   "outputs": [],
   "source": []
  },
  {
   "cell_type": "code",
   "execution_count": 37,
   "id": "031689ff-cf7b-478b-a329-c7664797fbc4",
   "metadata": {},
   "outputs": [],
   "source": [
    "\n",
    "ex = '2023-04-05 09:29:44.598644/'"
   ]
  },
  {
   "cell_type": "code",
   "execution_count": 38,
   "id": "8e1f66bf-0f0c-454f-9935-182a03290a20",
   "metadata": {},
   "outputs": [],
   "source": [
    "domain, vec_d, vec_y, img_locs = load_files(ex)\n",
    "digit = vec_d\n",
    "color = vec_y"
   ]
  },
  {
   "cell_type": "code",
   "execution_count": 23,
   "id": "8c66ae13-272a-430e-96bb-53715aecb4ba",
   "metadata": {},
   "outputs": [],
   "source": [
    "def something_per_domain(domain, another_label):\n",
    "    \"\"\"\n",
    "    domain - predicted domain labels \n",
    "    another_label - some other label that corresponds to each of the predicted domain (\n",
    "    assumed that both domain and something have the same img_loc reference order \n",
    "    \"\"\"\n",
    "    u_something = np.unique(another_label)\n",
    "    u_domain = np.unique(domain)\n",
    "    print('unique predicted domain', u_domain)\n",
    "    print('unique true label', u_something)\n",
    "    \n",
    "    array_counters=[]\n",
    "    for i in u_domain:\n",
    "        for j in u_something:\n",
    "            counter = 0\n",
    "            for idx in range(0, len(domain)):\n",
    "                if domain[idx]==i and another_label[idx]==j:\n",
    "                    counter+=1\n",
    "            print('domain ', i, ' digit ', j, ' count', counter)\n",
    "            array_counters.append(counter)\n",
    "    return array_counters\n",
    "                    \n",
    "        \n",
    "    "
   ]
  },
  {
   "cell_type": "code",
   "execution_count": 24,
   "id": "9b17cb05-7268-4c7c-8d79-6641efcc1abe",
   "metadata": {},
   "outputs": [
    {
     "name": "stdout",
     "output_type": "stream",
     "text": [
      "unique predicted domain [1. 2. 3.]\n",
      "unique true label [0. 1. 2.]\n",
      "domain  1.0  digit  0.0  count 15\n",
      "domain  1.0  digit  1.0  count 54\n",
      "domain  1.0  digit  2.0  count 11\n",
      "domain  2.0  digit  0.0  count 19\n",
      "domain  2.0  digit  1.0  count 110\n",
      "domain  2.0  digit  2.0  count 143\n",
      "domain  3.0  digit  0.0  count 14\n",
      "domain  3.0  digit  1.0  count 126\n",
      "domain  3.0  digit  2.0  count 44\n"
     ]
    }
   ],
   "source": [
    "digits_per_domain = something_per_domain(domain, digit)"
   ]
  },
  {
   "cell_type": "code",
   "execution_count": 25,
   "id": "af9a1fcb-21ae-48cc-a876-d08eb9ee2e22",
   "metadata": {},
   "outputs": [
    {
     "data": {
      "text/plain": [
       "[15, 54, 11, 19, 110, 143, 14, 126, 44]"
      ]
     },
     "execution_count": 25,
     "metadata": {},
     "output_type": "execute_result"
    }
   ],
   "source": [
    "digits_per_domain"
   ]
  },
  {
   "cell_type": "code",
   "execution_count": 26,
   "id": "7d62b61d-2cef-4c8e-a915-00e99cc449c7",
   "metadata": {},
   "outputs": [
    {
     "name": "stdout",
     "output_type": "stream",
     "text": [
      "unique predicted domain [1. 2. 3.]\n",
      "unique true label [0. 1. 2.]\n",
      "domain  1.0  digit  0.0  count 15\n",
      "domain  1.0  digit  1.0  count 54\n",
      "domain  1.0  digit  2.0  count 11\n",
      "domain  2.0  digit  0.0  count 19\n",
      "domain  2.0  digit  1.0  count 110\n",
      "domain  2.0  digit  2.0  count 143\n",
      "domain  3.0  digit  0.0  count 14\n",
      "domain  3.0  digit  1.0  count 126\n",
      "domain  3.0  digit  2.0  count 44\n"
     ]
    }
   ],
   "source": [
    "colors_per_domain = something_per_domain(domain, color)"
   ]
  },
  {
   "cell_type": "code",
   "execution_count": 27,
   "id": "9fd39be8-f333-4261-983b-9fb9eefbbd35",
   "metadata": {},
   "outputs": [
    {
     "data": {
      "text/plain": [
       "[15, 54, 11, 19, 110, 143, 14, 126, 44]"
      ]
     },
     "execution_count": 27,
     "metadata": {},
     "output_type": "execute_result"
    }
   ],
   "source": [
    "colors_per_domain"
   ]
  },
  {
   "cell_type": "code",
   "execution_count": null,
   "id": "0140490b-d35b-4c90-a72f-f8aa3846331a",
   "metadata": {},
   "outputs": [],
   "source": []
  },
  {
   "cell_type": "code",
   "execution_count": 28,
   "id": "bfd45fb0-f2ee-4d7f-bf83-5ccd8c30b5e5",
   "metadata": {},
   "outputs": [
    {
     "data": {
      "text/plain": [
       "9"
      ]
     },
     "execution_count": 28,
     "metadata": {},
     "output_type": "execute_result"
    }
   ],
   "source": [
    "len(digits_per_domain)"
   ]
  },
  {
   "cell_type": "code",
   "execution_count": 29,
   "id": "76392fe7-0843-4280-a607-ba180157b59a",
   "metadata": {},
   "outputs": [],
   "source": [
    "\n",
    "\n",
    "\n",
    "def plot_something_per_domain_counts(domain, another_label, counts, fs, legend = False, thres = None):\n",
    "    \"\"\"\n",
    "    domain - predicted domain labels\n",
    "    another_label - another label aassociated with each predicted domain (should be same shape as domain)\n",
    "    counts - countes of each another label in each of the predicted domain (see something_per_domain function)\n",
    "    fs - font size\n",
    "    colors - colors of each segment on the bargraph\n",
    "    legend - legend of unique another lables\n",
    "    thres - if thresholding of another label is required then should be shpecifies (also see apply_threshold function)\n",
    "    \n",
    "    \"\"\"\n",
    "    u_domains = np.unique(domain)\n",
    "    N = len(u_domains)\n",
    "    \n",
    "    u_another_label = np.unique(another_label)\n",
    "    print('unique labels', u_another_label, ' N ', N)\n",
    "    counts = np.array(counts)\n",
    "    narray = np.array_split(counts, N)\n",
    "\n",
    "#     if thres:\n",
    "#         u_another_label_dic = apply_threshold(u_another_label, narray, thres, N)\n",
    "#         #print(u_another_label_dic.values())\n",
    "#         u_another_label = list(u_another_label_dic.keys())\n",
    "#         narray = list(u_another_label_dic.values())\n",
    "#         narray = np.transpose(narray)\n",
    "\n",
    "   # print(narray)\n",
    "    #print(len(u_domains), len(u_another_label))\n",
    "    c = ['blue', 'teal', 'pink', 'orange', 'green', 'red', 'plum', 'grey', 'purple', 'yellow']\n",
    "    c = ['lightblue', 'steelblue', 'royalblue', 'mediumpurple', 'darkmagenta','orchid', 'lightpink', 'lightcoral', 'maroon', 'sandybrown']\n",
    "    plt.figure()\n",
    "    for i in range(0, len(u_domains)):\n",
    "        for jj in range(0,len(u_another_label)):\n",
    "            \n",
    "            if jj>0:\n",
    "                bottom = np.sum(narray[i][:jj])\n",
    "            else:\n",
    "                bottom = 0\n",
    "            #print(i, narray[i][jj])\n",
    "            plt.bar(i, narray[i][jj], bottom = bottom, color = c[jj])\n",
    "    x = np.linspace(0, N-1, N)\n",
    "    x_ticks = u_domains\n",
    "    plt.ylabel(\"Counts\", fontsize=fs)\n",
    "    plt.xticks(x, x_ticks, fontsize=fs)\n",
    "    plt.yticks(fontsize=fs)\n",
    "    plt.xlabel(\"Domain\", fontsize=fs)\n",
    "   \n",
    "    if legend:\n",
    "        plt.legend(legend)\n",
    "    else:\n",
    "        plt.legend(u_another_label)\n",
    "    plt.show()"
   ]
  },
  {
   "cell_type": "code",
   "execution_count": 30,
   "id": "72950715-2bcb-4f39-9027-7da43b741755",
   "metadata": {},
   "outputs": [],
   "source": [
    "def plot_something_per_domain_proportion(domain, another_label, counts, fs, legend = False, thres = None, title = None, digit_plot = True):\n",
    "    \"\"\"\n",
    "    domain - predicted domain labels\n",
    "    another_label - another label aassociated with each predicted domain (should be same shape as domain)\n",
    "    counts - countes of each another label in each of the predicted domain (see something_per_domain function)\n",
    "    fs - font size\n",
    "    colors - colors of each segment on the bargraph\n",
    "    legend - legend of unique another lables\n",
    "    thres - if thresholding of another label is required then should be shpecifies (also see apply_threshold function)\n",
    "    \n",
    "    \"\"\"\n",
    "    u_domains = np.unique(domain)\n",
    "    N = len(u_domains)\n",
    "    \n",
    "    u_another_label = np.unique(another_label)\n",
    "    print('unique labels', u_another_label)\n",
    "    print(u_domains)\n",
    "    counts = np.array(counts)\n",
    "    narray = np.array_split(counts, N)\n",
    "\n",
    "    if thres:\n",
    "        u_another_label_dic = apply_threshold(u_another_label, narray, thres, N)\n",
    "        #print(u_another_label_dic.values())\n",
    "        u_another_label = list(u_another_label_dic.keys())\n",
    "        narray = list(u_another_label_dic.values())\n",
    "        narray = np.transpose(narray)\n",
    "\n",
    "   # print(narray)\n",
    "    #print(len(u_domains), len(u_another_label))\n",
    "    # c = ['blue', 'teal', 'pink', 'orange', 'green', 'red', 'plum', 'grey', 'purple', 'yellow']\n",
    "    # c = ['lightblue', 'steelblue', 'royalblue', 'mediumpurple', 'darkmagenta','orchid', 'lightpink', 'lightcoral', 'maroon', 'sandybrown']\n",
    "    \n",
    "    if digit_plot:\n",
    "        c =  ['darkseagreen', 'forestgreen', 'aquamarine', 'lightseagreen', 'teal', 'steelblue','lightblue', 'royalblue','navy', 'lightslategrey' ]\n",
    "\n",
    "    else:\n",
    "        c = ['mediumpurple', 'darkmagenta','orchid', 'lightpink', 'lightcoral', 'maroon', 'sandybrown', 'peachpuff', 'goldenrod', 'gold']\n",
    "  \n",
    "        \n",
    "    plt.figure(figsize = (5, 5))\n",
    "    for i in range(0, len(u_domains)):\n",
    "        for jj in range(0,len(u_another_label)):\n",
    "            \n",
    "            if jj>0:\n",
    "                bottom = np.sum(narray[i][:jj])/np.sum(narray[i])\n",
    "            else:\n",
    "                bottom = 0\n",
    "            ##print(i, narray[i][jj])\n",
    "            #print(c[jj])\n",
    "            plt.bar(i, narray[i][jj]/np.sum(narray[i]), bottom = bottom, color = c[jj])\n",
    "    x = np.linspace(0, N-1, N)\n",
    "    x_ticks = [str(item)[0] for item in u_domains]\n",
    "    #plt.ylabel(\"Proportion\", fontsize=fs)\n",
    "    plt.xticks(x, x_ticks, fontsize=fs)\n",
    "    plt.yticks(fontsize=fs)\n",
    "    plt.xlabel(\"Domain\", fontsize=fs)\n",
    "    plt.title(title, fontsize = fs, weight = 'bold')\n",
    "    plt.tick_params(left = False, labelleft = False)\n",
    "#     if legend:\n",
    "#         plt.legend(legend, bbox_to_anchor=(0.5, -0.05))\n",
    "#     else:\n",
    "#         plt.legend(u_another_label, bbox_to_anchor=(1, 0.70), fancybox=True, shadow=True, fontsize = fs)\n",
    "    plt.show()"
   ]
  },
  {
   "cell_type": "code",
   "execution_count": 31,
   "id": "94dcaa0e-8215-47f9-8b1c-4b5e5adbdc9a",
   "metadata": {},
   "outputs": [
    {
     "name": "stdout",
     "output_type": "stream",
     "text": [
      "unique labels [0. 1. 2.]  N  3\n"
     ]
    },
    {
     "data": {
      "image/png": "[encoded data removed]",
      "text/plain": [
       "<Figure size 640x480 with 1 Axes>"
      ]
     },
     "metadata": {},
     "output_type": "display_data"
    }
   ],
   "source": [
    "plot_something_per_domain_counts(domain, digit, digits_per_domain, fs =10)"
   ]
  },
  {
   "cell_type": "code",
   "execution_count": 32,
   "id": "f363bb9b-bd12-45ec-a462-bdc1deb2ec74",
   "metadata": {
    "tags": []
   },
   "outputs": [
    {
     "name": "stdout",
     "output_type": "stream",
     "text": [
      "unique labels [0. 1. 2.]  N  3\n"
     ]
    },
    {
     "data": {
      "image/png": "[encoded data removed]",
      "text/plain": [
       "<Figure size 640x480 with 1 Axes>"
      ]
     },
     "metadata": {},
     "output_type": "display_data"
    },
    {
     "name": "stdout",
     "output_type": "stream",
     "text": [
      "unique labels [0. 1. 2.]\n",
      "[1. 2. 3.]\n"
     ]
    },
    {
     "data": {
      "image/png": "[encoded data removed]",
      "text/plain": [
       "<Figure size 500x500 with 1 Axes>"
      ]
     },
     "metadata": {},
     "output_type": "display_data"
    }
   ],
   "source": [
    "plot_something_per_domain_counts(domain, color, colors_per_domain, fs =10) \n",
    "plot_something_per_domain_proportion(domain, color, colors_per_domain, fs =20, title = 'DEC: \\n Color per Cluster', digit_plot = False ) "
   ]
  },
  {
   "cell_type": "code",
   "execution_count": 33,
   "id": "f2812de3",
   "metadata": {},
   "outputs": [
    {
     "name": "stdout",
     "output_type": "stream",
     "text": [
      "unique labels [0. 1. 2.]  N  3\n"
     ]
    },
    {
     "data": {
      "image/png": "[encoded data removed]",
      "text/plain": [
       "<Figure size 640x480 with 1 Axes>"
      ]
     },
     "metadata": {},
     "output_type": "display_data"
    }
   ],
   "source": [
    "plot_something_per_domain_counts(domain, digit, digits_per_domain, fs =10) #, legend = ['forest background', 'ocean background'])"
   ]
  },
  {
   "cell_type": "code",
   "execution_count": 34,
   "id": "b6f9a7ad-b96b-4803-869a-88fbf02bd131",
   "metadata": {},
   "outputs": [
    {
     "data": {
      "text/plain": [
       "array([1., 2., 1., 2., 1., 0., 2., 2., 1., 2., 2., 0., 2., 2., 1., 1., 2.,\n",
       "       2., 1., 0., 2., 1., 2., 1., 1., 1., 1., 2., 1., 2., 1., 1., 2., 1.,\n",
       "       2., 1., 2., 2., 2., 2., 1., 1., 0., 1., 1., 2., 2., 1., 2., 1., 1.,\n",
       "       2., 2., 2., 0., 2., 2., 0., 2., 1., 0., 2., 0., 2., 2., 1., 1., 1.,\n",
       "       0., 2., 1., 2., 2., 1., 2., 0., 1., 1., 1., 0., 1., 2., 2., 1., 2.,\n",
       "       1., 2., 2., 1., 1., 1., 1., 2., 0., 1., 1., 1., 1., 1., 2., 2., 1.,\n",
       "       1., 1., 2., 1., 0., 1., 1., 1., 2., 1., 0., 0., 2., 2., 2., 1., 0.,\n",
       "       1., 0., 2., 1., 2., 2., 1., 1., 1., 2., 1., 2., 1., 1., 1., 1., 1.,\n",
       "       1., 2., 1., 2., 1., 1., 2., 0., 1., 2., 1., 2., 1., 1., 1., 1., 1.,\n",
       "       1., 2., 2., 2., 1., 1., 1., 0., 1., 1., 2., 1., 2., 2., 1., 2., 1.,\n",
       "       1., 2., 1., 2., 1., 1., 1., 0., 2., 1., 2., 2., 1., 2., 2., 2., 2.,\n",
       "       1., 2., 1., 1., 2., 2., 2., 2., 2., 1., 2., 1., 2., 1., 1., 2., 2.,\n",
       "       1., 1., 1., 1., 2., 1., 1., 1., 0., 1., 2., 2., 2., 1., 1., 1., 1.,\n",
       "       2., 2., 2., 1., 2., 2., 1., 1., 1., 1., 1., 1., 1., 1., 1., 1., 0.,\n",
       "       1., 1., 2., 1., 1., 2., 0., 1., 2., 2., 1., 1., 1., 1., 1., 1., 2.,\n",
       "       1., 1., 1., 2., 1., 1., 2., 1., 2., 1., 2., 1., 1., 2., 1., 2., 2.,\n",
       "       2., 1., 1., 1., 2., 2., 2., 2., 1., 1., 1., 0., 2., 2., 1., 1., 2.,\n",
       "       1., 2., 2., 1., 2., 2., 1., 1., 1., 1., 2., 1., 1., 1., 1., 1., 1.,\n",
       "       1., 1., 2., 2., 0., 1., 0., 2., 2., 1., 2., 1., 0., 1., 2., 1., 1.,\n",
       "       1., 2., 2., 1., 2., 2., 0., 2., 1., 1., 1., 1., 1., 1., 1., 1., 1.,\n",
       "       2., 1., 2., 2., 2., 2., 1., 1., 2., 1., 0., 1., 1., 1., 2., 2., 2.,\n",
       "       1., 1., 2., 1., 1., 1., 2., 0., 0., 2., 1., 1., 1., 2., 2., 1., 1.,\n",
       "       2., 2., 1., 1., 1., 1., 0., 2., 1., 1., 2., 1., 2., 1., 1., 1., 1.,\n",
       "       0., 1., 1., 2., 1., 1., 1., 2., 1., 1., 1., 1., 2., 2., 1., 0., 1.,\n",
       "       1., 1., 1., 1., 2., 2., 1., 2., 2., 1., 2., 1., 0., 1., 2., 1., 2.,\n",
       "       0., 1., 1., 1., 1., 2., 1., 1., 1., 0., 2., 1., 1., 1., 0., 1., 1.,\n",
       "       1., 2., 1., 2., 1., 1., 1., 0., 2., 1., 1., 2., 0., 2., 1., 1., 1.,\n",
       "       1., 2., 1., 2., 2., 2., 1., 1., 1., 2., 1., 1., 2., 1., 1., 1., 2.,\n",
       "       2., 2., 2., 1., 0., 1., 2., 2., 2., 2., 2., 1., 2., 2., 1., 2., 1.,\n",
       "       2., 1., 1., 1., 1., 1., 2., 1., 1., 1., 0., 0., 1., 0., 0., 2., 2.,\n",
       "       1., 0., 1., 2., 1., 2., 1., 1., 2., 2., 1., 2., 1., 1., 2., 1., 1.,\n",
       "       2., 0., 1., 1., 0., 1., 2., 2., 1.])"
      ]
     },
     "execution_count": 34,
     "metadata": {},
     "output_type": "execute_result"
    }
   ],
   "source": [
    "digit"
   ]
  },
  {
   "cell_type": "code",
   "execution_count": 35,
   "id": "cf5f3123-5e6e-42c1-b008-57b0c9d46754",
   "metadata": {},
   "outputs": [
    {
     "name": "stdout",
     "output_type": "stream",
     "text": [
      "unique labels [0. 1. 2.]\n",
      "[1. 2. 3.]\n"
     ]
    },
    {
     "data": {
      "image/png": "[encoded data removed]",
      "text/plain": [
       "<Figure size 500x500 with 1 Axes>"
      ]
     },
     "metadata": {},
     "output_type": "display_data"
    }
   ],
   "source": [
    "plot_something_per_domain_proportion(domain, digit, digits_per_domain, fs =20, title = 'DEC: \\n Digit per Cluster')"
   ]
  },
  {
   "cell_type": "code",
   "execution_count": 36,
   "id": "5aca5231-ba38-48fb-adb7-a9abef0b8c14",
   "metadata": {},
   "outputs": [
    {
     "ename": "ValueError",
     "evalue": "setting an array element with a sequence. The requested array has an inhomogeneous shape after 1 dimensions. The detected shape was (5,) + inhomogeneous part.",
     "output_type": "error",
     "traceback": [
      "\u001b[0;31m---------------------------------------------------------------------------\u001b[0m",
      "\u001b[0;31mValueError\u001b[0m                                Traceback (most recent call last)",
      "Cell \u001b[0;32mIn [36], line 1\u001b[0m\n\u001b[0;32m----> 1\u001b[0m \u001b[43mnp\u001b[49m\u001b[38;5;241;43m.\u001b[39;49m\u001b[43margmax\u001b[49m\u001b[43m(\u001b[49m\u001b[43mnp\u001b[49m\u001b[38;5;241;43m.\u001b[39;49m\u001b[43marray_split\u001b[49m\u001b[43m(\u001b[49m\u001b[43mdigits_per_domain\u001b[49m\u001b[43m,\u001b[49m\u001b[43m \u001b[49m\u001b[38;5;241;43m5\u001b[39;49m\u001b[43m)\u001b[49m\u001b[43m,\u001b[49m\u001b[38;5;241;43m1\u001b[39;49m\u001b[43m)\u001b[49m\u001b[38;5;241m+\u001b[39m\u001b[38;5;241m1\u001b[39m\n",
      "File \u001b[0;32m<__array_function__ internals>:200\u001b[0m, in \u001b[0;36margmax\u001b[0;34m(*args, **kwargs)\u001b[0m\n",
      "File \u001b[0;32m~/.pyenv/versions/3.10.5/lib/python3.10/site-packages/numpy/core/fromnumeric.py:1242\u001b[0m, in \u001b[0;36margmax\u001b[0;34m(a, axis, out, keepdims)\u001b[0m\n\u001b[1;32m   1155\u001b[0m \u001b[38;5;124;03m\"\"\"\u001b[39;00m\n\u001b[1;32m   1156\u001b[0m \u001b[38;5;124;03mReturns the indices of the maximum values along an axis.\u001b[39;00m\n\u001b[1;32m   1157\u001b[0m \n\u001b[0;32m   (...)\u001b[0m\n\u001b[1;32m   1239\u001b[0m \u001b[38;5;124;03m(2, 1, 4)\u001b[39;00m\n\u001b[1;32m   1240\u001b[0m \u001b[38;5;124;03m\"\"\"\u001b[39;00m\n\u001b[1;32m   1241\u001b[0m kwds \u001b[38;5;241m=\u001b[39m {\u001b[38;5;124m'\u001b[39m\u001b[38;5;124mkeepdims\u001b[39m\u001b[38;5;124m'\u001b[39m: keepdims} \u001b[38;5;28;01mif\u001b[39;00m keepdims \u001b[38;5;129;01mis\u001b[39;00m \u001b[38;5;129;01mnot\u001b[39;00m np\u001b[38;5;241m.\u001b[39m_NoValue \u001b[38;5;28;01melse\u001b[39;00m {}\n\u001b[0;32m-> 1242\u001b[0m \u001b[38;5;28;01mreturn\u001b[39;00m \u001b[43m_wrapfunc\u001b[49m\u001b[43m(\u001b[49m\u001b[43ma\u001b[49m\u001b[43m,\u001b[49m\u001b[43m \u001b[49m\u001b[38;5;124;43m'\u001b[39;49m\u001b[38;5;124;43margmax\u001b[39;49m\u001b[38;5;124;43m'\u001b[39;49m\u001b[43m,\u001b[49m\u001b[43m \u001b[49m\u001b[43maxis\u001b[49m\u001b[38;5;241;43m=\u001b[39;49m\u001b[43maxis\u001b[49m\u001b[43m,\u001b[49m\u001b[43m \u001b[49m\u001b[43mout\u001b[49m\u001b[38;5;241;43m=\u001b[39;49m\u001b[43mout\u001b[49m\u001b[43m,\u001b[49m\u001b[43m \u001b[49m\u001b[38;5;241;43m*\u001b[39;49m\u001b[38;5;241;43m*\u001b[39;49m\u001b[43mkwds\u001b[49m\u001b[43m)\u001b[49m\n",
      "File \u001b[0;32m~/.pyenv/versions/3.10.5/lib/python3.10/site-packages/numpy/core/fromnumeric.py:54\u001b[0m, in \u001b[0;36m_wrapfunc\u001b[0;34m(obj, method, *args, **kwds)\u001b[0m\n\u001b[1;32m     52\u001b[0m bound \u001b[38;5;241m=\u001b[39m \u001b[38;5;28mgetattr\u001b[39m(obj, method, \u001b[38;5;28;01mNone\u001b[39;00m)\n\u001b[1;32m     53\u001b[0m \u001b[38;5;28;01mif\u001b[39;00m bound \u001b[38;5;129;01mis\u001b[39;00m \u001b[38;5;28;01mNone\u001b[39;00m:\n\u001b[0;32m---> 54\u001b[0m     \u001b[38;5;28;01mreturn\u001b[39;00m \u001b[43m_wrapit\u001b[49m\u001b[43m(\u001b[49m\u001b[43mobj\u001b[49m\u001b[43m,\u001b[49m\u001b[43m \u001b[49m\u001b[43mmethod\u001b[49m\u001b[43m,\u001b[49m\u001b[43m \u001b[49m\u001b[38;5;241;43m*\u001b[39;49m\u001b[43margs\u001b[49m\u001b[43m,\u001b[49m\u001b[43m \u001b[49m\u001b[38;5;241;43m*\u001b[39;49m\u001b[38;5;241;43m*\u001b[39;49m\u001b[43mkwds\u001b[49m\u001b[43m)\u001b[49m\n\u001b[1;32m     56\u001b[0m \u001b[38;5;28;01mtry\u001b[39;00m:\n\u001b[1;32m     57\u001b[0m     \u001b[38;5;28;01mreturn\u001b[39;00m bound(\u001b[38;5;241m*\u001b[39margs, \u001b[38;5;241m*\u001b[39m\u001b[38;5;241m*\u001b[39mkwds)\n",
      "File \u001b[0;32m~/.pyenv/versions/3.10.5/lib/python3.10/site-packages/numpy/core/fromnumeric.py:43\u001b[0m, in \u001b[0;36m_wrapit\u001b[0;34m(obj, method, *args, **kwds)\u001b[0m\n\u001b[1;32m     41\u001b[0m \u001b[38;5;28;01mexcept\u001b[39;00m \u001b[38;5;167;01mAttributeError\u001b[39;00m:\n\u001b[1;32m     42\u001b[0m     wrap \u001b[38;5;241m=\u001b[39m \u001b[38;5;28;01mNone\u001b[39;00m\n\u001b[0;32m---> 43\u001b[0m result \u001b[38;5;241m=\u001b[39m \u001b[38;5;28mgetattr\u001b[39m(\u001b[43masarray\u001b[49m\u001b[43m(\u001b[49m\u001b[43mobj\u001b[49m\u001b[43m)\u001b[49m, method)(\u001b[38;5;241m*\u001b[39margs, \u001b[38;5;241m*\u001b[39m\u001b[38;5;241m*\u001b[39mkwds)\n\u001b[1;32m     44\u001b[0m \u001b[38;5;28;01mif\u001b[39;00m wrap:\n\u001b[1;32m     45\u001b[0m     \u001b[38;5;28;01mif\u001b[39;00m \u001b[38;5;129;01mnot\u001b[39;00m \u001b[38;5;28misinstance\u001b[39m(result, mu\u001b[38;5;241m.\u001b[39mndarray):\n",
      "\u001b[0;31mValueError\u001b[0m: setting an array element with a sequence. The requested array has an inhomogeneous shape after 1 dimensions. The detected shape was (5,) + inhomogeneous part."
     ]
    }
   ],
   "source": [
    "np.argmax(np.array_split(digits_per_domain, 5),1)+1"
   ]
  },
  {
   "cell_type": "code",
   "execution_count": 48,
   "id": "f2625897-43b6-4e63-a397-2df38d9a190f",
   "metadata": {},
   "outputs": [
    {
     "data": {
      "text/plain": [
       "[array([39, 49, 48, 53, 41, 55, 43, 64, 44, 44]),\n",
       " array([42, 51, 42, 51, 38, 59, 45, 60, 44, 48]),\n",
       " array([39, 47, 38, 57, 43, 53, 49, 63, 46, 45]),\n",
       " array([39, 51, 45, 55, 44, 54, 45, 56, 44, 47]),\n",
       " array([41, 43, 47, 54, 42, 55, 48, 56, 49, 45]),\n",
       " array([44, 52, 45, 49, 47, 54, 46, 60, 41, 42]),\n",
       " array([45, 49, 47, 55, 41, 58, 48, 54, 34, 49]),\n",
       " array([41, 52, 44, 55, 40, 55, 51, 61, 37, 44]),\n",
       " array([41, 51, 48, 53, 35, 55, 50, 61, 40, 46]),\n",
       " array([40, 48, 45, 56, 46, 47, 45, 60, 41, 52])]"
      ]
     },
     "execution_count": 48,
     "metadata": {},
     "output_type": "execute_result"
    }
   ],
   "source": [
    "np.array_split(digits_per_domain, 10)"
   ]
  },
  {
   "cell_type": "code",
   "execution_count": 26,
   "id": "8b6299dd-99c7-4d92-ab01-9c685b55231d",
   "metadata": {},
   "outputs": [
    {
     "data": {
      "text/plain": [
       "array([480, 480, 960, 960, 480, 480, 480, 480])"
      ]
     },
     "execution_count": 26,
     "metadata": {},
     "output_type": "execute_result"
    }
   ],
   "source": [
    "np.sum(np.array_split(digits_per_domain, 8), 1)"
   ]
  },
  {
   "cell_type": "code",
   "execution_count": null,
   "id": "a73276f2-ef29-4832-93e3-3378e872f5c4",
   "metadata": {},
   "outputs": [],
   "source": []
  },
  {
   "cell_type": "code",
   "execution_count": null,
   "id": "e2c28377-763c-4bdd-889d-8bdc117ebce7",
   "metadata": {},
   "outputs": [],
   "source": []
  },
  {
   "cell_type": "code",
   "execution_count": null,
   "id": "b2091ca2-ac17-4903-9eb9-7bd126ae52a1",
   "metadata": {},
   "outputs": [],
   "source": []
  }
 ],
 "metadata": {
  "kernelspec": {
   "display_name": "Python 3 (ipykernel)",
   "language": "python",
   "name": "python3"
  },
  "language_info": {
   "codemirror_mode": {
    "name": "ipython",
    "version": 3
   },
   "file_extension": ".py",
   "mimetype": "text/x-python",
   "name": "python",
   "nbconvert_exporter": "python",
   "pygments_lexer": "ipython3",
   "version": "3.10.5"
  }
 },
 "nbformat": 4,
 "nbformat_minor": 5
}
