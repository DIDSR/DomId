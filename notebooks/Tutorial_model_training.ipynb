{
 "cells": [
  {
   "cell_type": "code",
   "execution_count": 1,
   "id": "bc612877",
   "metadata": {},
   "outputs": [
    {
     "name": "stdout",
     "output_type": "stream",
     "text": [
      "Current working directory: /home/didsr/Documents/SDCN_December/DomId\n"
     ]
    }
   ],
   "source": [
    "import os\n",
    "import torch\n",
    "import matplotlib.pyplot as plt\n",
    "os.chdir('../')\n",
    "\n",
    "\n",
    "print(\"Current working directory:\", os.getcwd())"
   ]
  },
  {
   "cell_type": "markdown",
   "id": "9d24da90",
   "metadata": {},
   "source": [
    "# Obtain pretrained Weights for SDCN"
   ]
  },
  {
   "cell_type": "markdown",
   "id": "30913ce1",
   "metadata": {},
   "source": [
    "The initial stage of SDCN training involves pretraining the weights for the convolutional encoder/decoder layers. Thus, our first experiment will focus on Autoencoder (AE). It's important to note that the AE training only uses reconstruction loss (MSE), with clustering derived solely from K-means applied to latent representations. Meaning that there's no specific clustering loss objective incorporated in the process."
   ]
  },
  {
   "cell_type": "code",
   "execution_count": 2,
   "id": "fb19873e",
   "metadata": {
    "scrolled": false
   },
   "outputs": [
    {
     "name": "stderr",
     "output_type": "stream",
     "text": [
      "The sets of training and test domains overlap -- be aware of data leakage or training to the test!\n"
     ]
    },
    {
     "name": "stdout",
     "output_type": "stream",
     "text": [
      "--model=ae --trainer=ae --bs=20 --task=mnistcolor10 --prior=Gaus --model_method=cnn --feat_extract=vae --pre_tr=1 --epos=2 --d_dim=10 --nocu  --tr_d 0 1 2 3 4 5 6 7 8 9 --te_d 0\n",
      "Namespace(config_file=None, lr=0.0001, gamma_reg=0.1, es=1, seed=0, nocu=True, device=None, gen=False, keep_model=False, epos=2, epos_min=0, epo_te=1, warmup=100, debug=False, dmem=False, no_dump=False, trainer='ae', out='zoutput', dpath='zdpath', tpath=None, npath=None, npath_dom=None, npath_argna2val=None, nname_argna2val=None, nname=None, nname_dom=None, apath=None, exptag='exptag', aggtag='aggtag', bm_dir=None, plot_data=None, outp_dir='zoutput/benchmarks/shell_benchmark', param_idx=True, msel='val', model='ae', acon=None, task='mnistcolor10', bs=20, split=0, te_d=['0'], tr_d=['0', '1', '2', '3', '4', '5', '6', '7', '8', '9'], san_check=False, san_num=8, loglevel='DEBUG', zd_dim=64, zx_dim=0, zy_dim=64, topic_dim=3, nname_encoder_x2topic_h=None, npath_encoder_x2topic_h=None, nname_encoder_sandwich_x2h4zd=None, npath_encoder_sandwich_x2h4zd=None, gamma_y=None, gamma_d=None, beta_t=1.0, beta_d=1.0, beta_x=1.0, beta_y=1.0, tau=0.05, epos_per_match_update=5, epochs_ctr=1, nperm=31, pperm=0.1, jigen_ppath=None, grid_len=3, dial_steps_perturb=3, dial_noise_scale=0.001, dial_lr=0.003, dial_epsilon=0.031, d_dim=10, pre_tr=1, L=3, prior='Gaus', model_method='cnn', inject_var=None, meta_data_csv=None, dim_inject_y=0, digits_from_mnist=None, path_to_results='./', pre_tr_weight_path=None, tr_d_range=None, graph_method=None, feat_extract='vae', random_batching=False, subset_step=10)\n"
     ]
    },
    {
     "name": "stderr",
     "output_type": "stream",
     "text": [
      "/home/didsr/Documents/SDCN_December/DomId/DomainLab/domainlab/tasks/a_task.py:168: RuntimeWarning: The sets of training and test domains overlap -- be aware of data leakage or training to the test!\n",
      "  warnings.warn(\n"
     ]
    },
    {
     "name": "stdout",
     "output_type": "stream",
     "text": [
      "no split between train and test datasets\n",
      "no split between train and test datasets\n",
      "no split between train and test datasets\n",
      "no split between train and test datasets\n",
      "no split between train and test datasets\n",
      "no split between train and test datasets\n",
      "no split between train and test datasets\n",
      "no split between train and test datasets\n",
      "no split between train and test datasets\n",
      "no split between train and test datasets\n",
      "no split between train and test datasets\n"
     ]
    },
    {
     "name": "stderr",
     "output_type": "stream",
     "text": [
      "\n",
      "using device: cpu\n",
      "\n",
      "The sets of training and test domains overlap -- be aware of data leakage or training to the test!\n",
      "/home/didsr/Documents/SDCN_December/DomId/DomainLab/domainlab/tasks/a_task.py:168: RuntimeWarning: The sets of training and test domains overlap -- be aware of data leakage or training to the test!\n",
      "  warnings.warn(\n"
     ]
    },
    {
     "name": "stdout",
     "output_type": "stream",
     "text": [
      "no split between train and test datasets\n",
      "no split between train and test datasets\n",
      "no split between train and test datasets\n",
      "no split between train and test datasets\n",
      "no split between train and test datasets\n",
      "no split between train and test datasets\n",
      "no split between train and test datasets\n",
      "no split between train and test datasets\n",
      "no split between train and test datasets\n",
      "no split between train and test datasets\n",
      "no split between train and test datasets\n"
     ]
    },
    {
     "name": "stderr",
     "output_type": "stream",
     "text": [
      "\n",
      "\n",
      "\n",
      "!!!: not committed yet\n",
      "/home/didsr/Documents/SDCN_December/DomId/DomainLab/domainlab/utils/get_git_tag.py:16: UserWarning: !!!: not committed yet\n",
      "  warnings.warn(\"!!!: not committed yet\")\n",
      "\n",
      "\n",
      "\n",
      "b'54e77c6'\n",
      "The sets of training and test domains overlap -- be aware of data leakage or training to the test!\n",
      "/home/didsr/Documents/SDCN_December/DomId/DomainLab/domainlab/tasks/a_task.py:168: RuntimeWarning: The sets of training and test domains overlap -- be aware of data leakage or training to the test!\n",
      "  warnings.warn(\n",
      "model name: mnistcolor10_te_rgb_31_119_180_ae_b54e77c6_not_commited_2024md_03md_08_10_04_51_seed_0\n"
     ]
    },
    {
     "name": "stdout",
     "output_type": "stream",
     "text": [
      "ModelAE(\n",
      "  (encoder): ConvolutionalEncoder(\n",
      "    (conv_block1): Conv2d(3, 32, kernel_size=(3, 3), stride=(2, 2), padding=(1, 1))\n",
      "    (conv_block2): Conv2d(32, 64, kernel_size=(3, 3), stride=(2, 2), padding=(1, 1))\n",
      "    (conv_block3): Conv2d(64, 128, kernel_size=(3, 3), stride=(2, 2), padding=(1, 1))\n",
      "    (encod): Sequential(\n",
      "      (0): Conv2d(3, 32, kernel_size=(3, 3), stride=(2, 2), padding=(1, 1))\n",
      "      (1): Conv2d(32, 64, kernel_size=(3, 3), stride=(2, 2), padding=(1, 1))\n",
      "      (2): Conv2d(64, 128, kernel_size=(3, 3), stride=(2, 2), padding=(1, 1))\n",
      "    )\n",
      "    (z_layer): Linear(in_features=2048, out_features=64, bias=True)\n",
      "    (bsnorm1): BatchNorm2d(32, eps=1e-05, momentum=0.1, affine=True, track_running_stats=True)\n",
      "    (bsnorm2): BatchNorm2d(64, eps=1e-05, momentum=0.1, affine=True, track_running_stats=True)\n",
      "    (bsnorm3): BatchNorm2d(128, eps=1e-05, momentum=0.1, affine=True, track_running_stats=True)\n",
      "  )\n",
      "  (decoder): ConvolutionalDecoder(\n",
      "    (linear): Linear(in_features=64, out_features=2048, bias=True)\n",
      "    (sigmoid_layer): Sigmoid()\n",
      "    (unflat): UnFlatten()\n",
      "    (decod): Sequential(\n",
      "      (0): ConvTranspose2d(128, 64, kernel_size=(4, 4), stride=(2, 2), padding=(1, 1))\n",
      "      (1): BatchNorm2d(64, eps=1e-05, momentum=0.1, affine=True, track_running_stats=True)\n",
      "      (2): LeakyReLU(negative_slope=0.01)\n",
      "      (3): ConvTranspose2d(64, 32, kernel_size=(4, 4), stride=(2, 2), padding=(1, 1))\n",
      "      (4): BatchNorm2d(32, eps=1e-05, momentum=0.1, affine=True, track_running_stats=True)\n",
      "      (5): LeakyReLU(negative_slope=0.01)\n",
      "      (6): ConvTranspose2d(32, 3, kernel_size=(4, 4), stride=(2, 2), padding=(1, 1))\n",
      "    )\n",
      "  )\n",
      ")\n",
      "############################################################\n",
      "Pretraining initialized.\n",
      "############################################################\n",
      "______Created directory to save result_________\n"
     ]
    }
   ],
   "source": [
    "from domid.mk_exp import mk_exp\n",
    "exp = mk_exp(task='mnistcolor10', model='ae', \n",
    "             trainer='ae',\n",
    "             train_domain = '0 1 2 3 4 5 6 7 8 9', \n",
    "             test_domain='0', \n",
    "             batchsize = 20, pre_tr=1, epos=2)\n"
   ]
  },
  {
   "cell_type": "code",
   "execution_count": 3,
   "id": "a69658b8",
   "metadata": {
    "scrolled": false
   },
   "outputs": [
    {
     "name": "stdout",
     "output_type": "stream",
     "text": [
      "\n",
      " Experiment start at : 2024-03-08 10:04:51.488103\n",
      "before training, model accuracy: (0.11466666666666667, array([[ 94,  87,  70,  87,  74,  80,  59,  64,  76,  69],\n",
      "       [ 89,  98,  85,  94,  79, 110,  79,  73,  72,  82],\n",
      "       [ 78,  84,  80,  99,  75,  94,  66,  76,  78,  63],\n",
      "       [ 78,  76,  67,  99,  73,  89,  62,  60,  67,  69],\n",
      "       [ 77,  68,  52,  60,  66,  71,  42,  58,  58,  61],\n",
      "       [ 67,  42,  58,  49,  46,  80,  41,  54,  61,  48],\n",
      "       [ 60,  45,  41,  60,  44,  64,  51,  35,  49,  41],\n",
      "       [ 44,  47,  41,  57,  40,  59,  38,  38,  36,  31],\n",
      "       [ 43,  30,  44,  39,  35,  45,  37,  35,  44,  38],\n",
      "       [ 40,  33,  42,  36,  38,  48,  35,  37,  29,  38]]), 0.1455, array([[110,  81,  79, 102,  97,  51,  89,  53,  56,  42],\n",
      "       [106, 153, 114,  34, 105,  31, 134,  61,  51,  72],\n",
      "       [ 67, 106, 118,  78,  89,  50,  95,  62,  38,  90],\n",
      "       [ 83,  80,  83, 114,  81,  71,  66,  48,  66,  48],\n",
      "       [ 33,  66,  72,  86,  55,  49,  38,  71,  74,  69],\n",
      "       [ 36,  32,  27,  65,  54,  89,  43,  69,  65,  66],\n",
      "       [ 53,  21,  44,  31,  40,  68,  49,  65,  63,  56],\n",
      "       [ 39,  23,  29,  47,  25,  62,  32,  61,  65,  48],\n",
      "       [ 28,  20,  12,  24,  26,  73,  32,  52,  69,  54],\n",
      "       [ 45,  18,  22,  19,  28,  56,  22,  58,  53,  55]]))\n",
      "Epoch 1. Pretraining.\n",
      "############################################################\n",
      "Epoch 1: Finished pretraining and starting to use the full model loss.\n",
      "############################################################\n",
      "epoch: 1\n",
      "pooled train clustering acc (vec_d correlation):  0.16716666666666666\n",
      "[[ 89  73  66  84  73  65  86  97  45  62]\n",
      " [121 140 101  57  53  19  55  75  56  95]\n",
      " [ 75  48 199  73  42  63  79  49  54  63]\n",
      " [ 70  45 105  94  56  80  46  59  56  30]\n",
      " [ 48  57  22 113 118  64  55  44  61  48]\n",
      " [ 50  39  10  79  85 101  47  69  76  81]\n",
      " [ 43  55   8  37  52  61  70  71  79  55]\n",
      " [ 43  44  18  23  32  54  72  82  61  59]\n",
      " [ 36  43  32  15  37  54  50  30  63  60]\n",
      " [ 25  56  39  25  52  39  40  24  49  47]]\n",
      "clustering validation acc:  0.11366666666666667\n",
      "[[86 58 70 82 71 71 82 76 81 62]\n",
      " [52 74 63 66 59 68 60 63 58 68]\n",
      " [66 75 75 61 73 50 63 63 75 76]\n",
      " [64 70 61 69 57 61 67 65 69 63]\n",
      " [66 69 61 62 79 68 54 70 68 66]\n",
      " [51 56 64 54 52 68 55 50 50 63]\n",
      " [59 59 59 56 51 67 63 55 57 60]\n",
      " [63 48 50 59 61 45 58 63 48 46]\n",
      " [49 49 49 46 54 47 49 45 51 42]\n",
      " [44 42 48 45 43 55 49 50 43 54]]\n",
      "pooled train clustering acc (vec_y correlation):  0.118\n",
      "[[82 57 69 54 82 70 99 66 64 96]\n",
      " [71 75 53 56 68 62 68 47 58 73]\n",
      " [64 46 96 58 73 58 93 63 58 68]\n",
      " [46 64 81 62 66 50 76 66 65 70]\n",
      " [66 63 78 46 77 62 84 54 52 81]\n",
      " [44 60 62 56 69 63 61 54 38 56]\n",
      " [59 55 52 37 67 48 88 70 56 54]\n",
      " [61 41 38 50 61 60 67 65 44 54]\n",
      " [42 36 41 50 53 50 51 40 59 59]\n",
      " [45 33 40 41 54 47 53 45 46 69]]\n",
      "now:  2024-03-08 10:06:11.170529 epoch time:  0:01:19.682426 used:  0:01:19.682426\n",
      "Epoch 2.\n",
      "epoch: 2\n",
      "pooled train clustering acc (vec_d correlation):  0.16316666666666665\n",
      "[[107  51  72  63  68  77  85  68  94  58]\n",
      " [ 80 140  79  23  26  69  54  88 128  66]\n",
      " [ 80  69 154  50  96  70  56  18  49  84]\n",
      " [ 68  51  73 117 137  55  81  56  38  50]\n",
      " [ 42  59  60  86 118  81  80  60  43  35]\n",
      " [ 36  53  60  58  87  64  61  35  57  61]\n",
      " [ 52  54  44  48  38  42  71  58  43  56]\n",
      " [ 54  32  26  45  16  51  44  81  35  61]\n",
      " [ 54  35  13  49   6  41  38  76  65  67]\n",
      " [ 27  56  19  61   8  50  30  60  48  62]]\n",
      "clustering validation acc:  0.11116666666666666\n",
      "[[94 85 62 75 71 66 80 75 78 83]\n",
      " [54 67 66 66 67 64 53 63 68 62]\n",
      " [59 69 78 58 73 62 72 55 70 62]\n",
      " [65 58 63 73 64 72 60 66 59 68]\n",
      " [59 60 71 68 66 60 69 65 59 62]\n",
      " [67 63 59 55 55 69 60 61 66 62]\n",
      " [51 56 52 59 57 60 62 61 53 54]\n",
      " [47 54 56 56 53 51 53 57 46 52]\n",
      " [50 44 43 48 48 47 48 48 52 46]\n",
      " [54 44 50 42 46 49 43 49 49 49]]\n",
      "pooled train clustering acc (vec_y correlation):  0.11533333333333333\n",
      "[[112  53  94  35  93  82  61  84  75  80]\n",
      " [ 94  88  48  31  72  70  57  56  38  76]\n",
      " [ 94  56  85  57  65  72  56  49  47  77]\n",
      " [ 67  58  66  92  55  62  53  61  57  77]\n",
      " [ 80  62  59  49  79  55  64  56  69  66]\n",
      " [ 71  51  58  55  79  62  65  60  55  61]\n",
      " [ 68  43  60  56  64  45  62  56  40  71]\n",
      " [ 58  40  58  50  57  41  56  60  48  57]\n",
      " [ 49  46  39  44  50  38  49  52  56  51]\n",
      " [ 47  33  43  41  56  43  47  46  55  64]]\n",
      "now:  2024-03-08 10:07:28.531524 epoch time:  0:01:17.360995 used:  0:02:37.043421\n",
      "Experiment finished at epoch: 2 with time: 0:02:37.043421 at 2024-03-08 10:07:28.531524\n",
      "training is done\n",
      "was in clean up in c obvisitor, but did not clean anything\n"
     ]
    },
    {
     "name": "stderr",
     "output_type": "stream",
     "text": [
      "/home/didsr/Documents/SDCN_December/DomId/domid/algos/observers/c_obvisitor_clustering.py:107: UserWarning: failed to delete model\n",
      "  warnings.warn(\"failed to delete model\")\n"
     ]
    }
   ],
   "source": [
    "exp.execute()"
   ]
  },
  {
   "cell_type": "code",
   "execution_count": 4,
   "id": "5212f8ff",
   "metadata": {},
   "outputs": [],
   "source": [
    "save_dir = exp.trainer.storage.ex_path"
   ]
  },
  {
   "cell_type": "code",
   "execution_count": 5,
   "id": "5e6e3b51",
   "metadata": {},
   "outputs": [
    {
     "name": "stdout",
     "output_type": "stream",
     "text": [
      "./notebooks/2024-03-08_10:04:51.450778_mnistcolor10_ae\n"
     ]
    }
   ],
   "source": [
    "print(save_dir)"
   ]
  },
  {
   "cell_type": "code",
   "execution_count": null,
   "id": "72df488a",
   "metadata": {},
   "outputs": [],
   "source": []
  },
  {
   "cell_type": "markdown",
   "id": "d10cb0ae",
   "metadata": {},
   "source": [
    "The weights for the encoding and decoder layers are now saved in the `save_dir` outline above. In the pickle format the following items are being saved:\n",
    "* 'commandline_arguments' - the full list of arguments from the parser\n",
    "* Z_space.npy - latent reporesentation of all of the samples (zd_dim for all the samples)\n",
    "* losses_accuracies - loss/clustering accuracy for each of the epoch\n",
    "* clustering_results.csv - output results are stored for each of the samples in the dataset\n",
    "\n",
    "For the SDCN experiment, to all of the above, graph information is also being stored in this folder."
   ]
  },
  {
   "cell_type": "markdown",
   "id": "d6e8ba57",
   "metadata": {},
   "source": [
    "# SDCN Training\n",
    "Now since the AE has been pretrained, we can initialize and train SDCN model.\n"
   ]
  },
  {
   "cell_type": "code",
   "execution_count": 1,
   "id": "02ef1614",
   "metadata": {},
   "outputs": [],
   "source": [
    "import os\n",
    "import torch\n",
    "import matplotlib.pyplot as plt\n",
    "from domid.models.model_sdcn import mk_sdcn\n",
    "\n",
    "from domid.arg_parser import mk_parser_main\n",
    "os.chdir('../')"
   ]
  },
  {
   "cell_type": "code",
   "execution_count": 2,
   "id": "68849cd1",
   "metadata": {
    "scrolled": false
   },
   "outputs": [
    {
     "name": "stderr",
     "output_type": "stream",
     "text": [
      "The sets of training and test domains overlap -- be aware of data leakage or training to the test!\n"
     ]
    },
    {
     "name": "stdout",
     "output_type": "stream",
     "text": [
      "Current working directory: /home/didsr/Documents/SDCN_December/DomId\n",
      "--model=sdcn --trainer=sdcn --bs=20 --task=mnistcolor10 --prior=Gaus --model_method=cnn --feat_extract=vae --pre_tr=1 --epos=2 --d_dim=10 --nocu  --tr_d 0 1 2 3 4 5 6 7 8 9 --te_d 0 --pre_tr_weight_path=./notebooks/2024-03-08_10:04:51.450778_mnistcolor10_ae\n",
      "Namespace(config_file=None, lr=0.0001, gamma_reg=0.1, es=1, seed=0, nocu=True, device=None, gen=False, keep_model=False, epos=2, epos_min=0, epo_te=1, warmup=100, debug=False, dmem=False, no_dump=False, trainer='sdcn', out='zoutput', dpath='zdpath', tpath=None, npath=None, npath_dom=None, npath_argna2val=None, nname_argna2val=None, nname=None, nname_dom=None, apath=None, exptag='exptag', aggtag='aggtag', bm_dir=None, plot_data=None, outp_dir='zoutput/benchmarks/shell_benchmark', param_idx=True, msel='val', model='sdcn', acon=None, task='mnistcolor10', bs=20, split=0, te_d=['0'], tr_d=['0', '1', '2', '3', '4', '5', '6', '7', '8', '9'], san_check=False, san_num=8, loglevel='DEBUG', zd_dim=64, zx_dim=0, zy_dim=64, topic_dim=3, nname_encoder_x2topic_h=None, npath_encoder_x2topic_h=None, nname_encoder_sandwich_x2h4zd=None, npath_encoder_sandwich_x2h4zd=None, gamma_y=None, gamma_d=None, beta_t=1.0, beta_d=1.0, beta_x=1.0, beta_y=1.0, tau=0.05, epos_per_match_update=5, epochs_ctr=1, nperm=31, pperm=0.1, jigen_ppath=None, grid_len=3, dial_steps_perturb=3, dial_noise_scale=0.001, dial_lr=0.003, dial_epsilon=0.031, d_dim=10, pre_tr=1, L=3, prior='Gaus', model_method='cnn', inject_var=None, meta_data_csv=None, dim_inject_y=0, digits_from_mnist=None, path_to_results='./', pre_tr_weight_path='./notebooks/2024-03-08_10:04:51.450778_mnistcolor10_ae', tr_d_range=None, graph_method=None, feat_extract='vae', random_batching=False, subset_step=10)\n"
     ]
    },
    {
     "name": "stderr",
     "output_type": "stream",
     "text": [
      "/home/didsr/Documents/SDCN_December/DomId/DomainLab/domainlab/tasks/a_task.py:168: RuntimeWarning: The sets of training and test domains overlap -- be aware of data leakage or training to the test!\n",
      "  warnings.warn(\n"
     ]
    },
    {
     "name": "stdout",
     "output_type": "stream",
     "text": [
      "no split between train and test datasets\n",
      "no split between train and test datasets\n",
      "no split between train and test datasets\n",
      "no split between train and test datasets\n",
      "no split between train and test datasets\n",
      "no split between train and test datasets\n",
      "no split between train and test datasets\n",
      "no split between train and test datasets\n",
      "no split between train and test datasets\n",
      "no split between train and test datasets\n",
      "no split between train and test datasets\n"
     ]
    },
    {
     "name": "stderr",
     "output_type": "stream",
     "text": [
      "\n",
      "using device: cpu\n",
      "\n"
     ]
    },
    {
     "name": "stdout",
     "output_type": "stream",
     "text": [
      "Filter sizes for GNN 8192 4096 2048 2048 4096 8192\n",
      "Pre-trained weights loaded\n"
     ]
    },
    {
     "name": "stderr",
     "output_type": "stream",
     "text": [
      "The sets of training and test domains overlap -- be aware of data leakage or training to the test!\n"
     ]
    },
    {
     "name": "stdout",
     "output_type": "stream",
     "text": [
      "Using a single GPU.\n"
     ]
    },
    {
     "name": "stderr",
     "output_type": "stream",
     "text": [
      "/home/didsr/Documents/SDCN_December/DomId/DomainLab/domainlab/tasks/a_task.py:168: RuntimeWarning: The sets of training and test domains overlap -- be aware of data leakage or training to the test!\n",
      "  warnings.warn(\n"
     ]
    },
    {
     "name": "stdout",
     "output_type": "stream",
     "text": [
      "no split between train and test datasets\n",
      "no split between train and test datasets\n",
      "no split between train and test datasets\n",
      "no split between train and test datasets\n",
      "no split between train and test datasets\n",
      "no split between train and test datasets\n",
      "no split between train and test datasets\n",
      "no split between train and test datasets\n",
      "no split between train and test datasets\n",
      "no split between train and test datasets\n",
      "no split between train and test datasets\n",
      "############################################################\n",
      "Pretraining initialized.\n",
      "############################################################\n",
      "______Created directory to save result_________\n",
      "Graph calculation method is heat\n"
     ]
    },
    {
     "name": "stderr",
     "output_type": "stream",
     "text": [
      "\n",
      "\n",
      "\n",
      "!!!: not committed yet\n",
      "/home/didsr/Documents/SDCN_December/DomId/DomainLab/domainlab/utils/get_git_tag.py:16: UserWarning: !!!: not committed yet\n",
      "  warnings.warn(\"!!!: not committed yet\")\n",
      "\n",
      "\n",
      "\n",
      "b'54e77c6'\n",
      "The sets of training and test domains overlap -- be aware of data leakage or training to the test!\n",
      "/home/didsr/Documents/SDCN_December/DomId/DomainLab/domainlab/tasks/a_task.py:168: RuntimeWarning: The sets of training and test domains overlap -- be aware of data leakage or training to the test!\n",
      "  warnings.warn(\n",
      "model name: mnistcolor10_te_rgb_31_119_180_sdcn_b54e77c6_not_commited_2024md_03md_08_10_15_35_seed_0\n"
     ]
    }
   ],
   "source": [
    "\n",
    "\n",
    "from domid.mk_exp import mk_exp\n",
    "print(\"Current working directory:\", os.getcwd())\n",
    "\n",
    "# save_dir = './notebooks/2024-03-08\\09:42:58.636772_mnistcolor10_ae/'\n",
    "save_dir = './notebooks/2024-03-08_10:04:51.450778_mnistcolor10_ae'\n",
    "exp = mk_exp(task='mnistcolor10', model='sdcn', \n",
    "             trainer='sdcn',\n",
    "             train_domain = '0 1 2 3 4 5 6 7 8 9', \n",
    "             test_domain='0', \n",
    "             batchsize = 20, pre_tr=1, epos=2, \n",
    "             pre_trained_weights_path = save_dir)\n"
   ]
  },
  {
   "cell_type": "code",
   "execution_count": 3,
   "id": "a13b3b03",
   "metadata": {
    "scrolled": false
   },
   "outputs": [
    {
     "name": "stdout",
     "output_type": "stream",
     "text": [
      "\n",
      " Experiment start at : 2024-03-08 10:15:35.083579\n",
      "before training, model accuracy: (0.1255, array([[ 55,  46,  44,  51,  46,  47,  53,  31,  37,  49],\n",
      "       [  0,   0,   0,   0,   0,   0,   0,   0,   0,   0],\n",
      "       [615, 518, 686, 614, 558, 516, 479, 469, 484, 522],\n",
      "       [  1,   0,   1,   2,   1,   0,   2,   0,   2,   2],\n",
      "       [  0,   0,   0,   0,   0,   0,   0,   0,   0,   0],\n",
      "       [  0,   0,   0,   0,   0,   0,   0,   0,   0,   0],\n",
      "       [  0,   0,   0,   0,   0,   0,   0,   0,   0,   0],\n",
      "       [  9,   6,   9,   3,   5,   7,   6,  10,   7,   7],\n",
      "       [  0,   0,   0,   0,   0,   0,   0,   0,   0,   0],\n",
      "       [  0,   0,   0,   0,   0,   0,   0,   0,   0,   0]]), 0.11616666666666667, array([[105,  30,   9,  72,  36,  76,  28,  21,  50,  32],\n",
      "       [  0,   0,   0,   0,   0,   0,   0,   0,   0,   0],\n",
      "       [493, 564, 572, 520, 558, 519, 568, 563, 546, 558],\n",
      "       [  1,   0,   0,   4,   1,   3,   0,   0,   1,   1],\n",
      "       [  0,   0,   0,   0,   0,   0,   0,   0,   0,   0],\n",
      "       [  0,   0,   0,   0,   0,   0,   0,   0,   0,   0],\n",
      "       [  0,   0,   0,   0,   0,   0,   0,   0,   0,   0],\n",
      "       [  1,   6,  19,   4,   5,   2,   4,  16,   3,   9],\n",
      "       [  0,   0,   0,   0,   0,   0,   0,   0,   0,   0],\n",
      "       [  0,   0,   0,   0,   0,   0,   0,   0,   0,   0]]))\n",
      "Epoch 1. Pretraining.\n",
      "i_0 tensor([0, 1, 2, 3, 4, 5, 7, 8]) tensor([0, 1, 2, 3, 4, 5, 6, 7, 8, 9])\n",
      "############################################################\n",
      "Epoch 1: Finished pretraining and starting to use the full model loss.\n",
      "############################################################\n",
      "i_1 tensor([0, 1, 2, 3, 5, 7, 8, 9]) tensor([0, 1, 2, 3, 4, 5, 7, 9])\n",
      "i_2 tensor([1, 2, 3, 4, 5, 6, 7, 8, 9]) tensor([0, 1, 2, 3, 4, 5, 7, 8])\n",
      "epoch: 1\n",
      "pooled train clustering acc (vec_d correlation):  0.16933333333333334\n",
      "[[ 88  32  94  51  25  59  41  67  76  39]\n",
      " [ 10  32  17  11  12   8  32  10   5  17]\n",
      " [ 10  36  41  37  19  17  32  15  28  34]\n",
      " [ 35  77  43 128  61  64  33  85  54  69]\n",
      " [139  99 125 145 201 136  90 153 193 136]\n",
      " [  0   0   0   0   0   0   0   0   0   0]\n",
      " [103  86 132  48  51  98 206  48  88 101]\n",
      " [138 105  22 109  78 128  44 131  22  59]\n",
      " [ 12  20  15  12  55  14  15  20  52   8]\n",
      " [ 65 113 111  59  98  76 107  71  82 137]]\n",
      "clustering validation acc:  0.49333333333333335\n",
      "[[  0   0   0   0   0   0   0   0   0   0]\n",
      " [  0 560   0   0 415   0   0   0   0   0]\n",
      " [  0   0   0   0   0   0   0   0   0   0]\n",
      " [  0  40   0 600   0   0   0   0   0   0]\n",
      " [  0   0   0   0   0   0   0   0   0   0]\n",
      " [  0   0   0   0   0   0   0   0   0   0]\n",
      " [  0   0 600   0 185  92 600   0   0   0]\n",
      " [  0   0   0   0   0 508   0 600   0 600]\n",
      " [600   0   0   0   0   0   0   0 600   0]\n",
      " [  0   0   0   0   0   0   0   0   0   0]]\n",
      "pooled train clustering acc (vec_y correlation):  0.11966666666666667\n",
      "[[  0   0   0   0   0   0   0   0   0   0]\n",
      " [ 76 104  89  93  80  93 106 132 109  93]\n",
      " [  0   0   0   0   0   0   0   0   0   0]\n",
      " [ 60  65  59  61  55  57  74  79  70  60]\n",
      " [  0   0   0   0   0   0   0   0   0   0]\n",
      " [  0   0   0   0   0   0   0   0   0   0]\n",
      " [127 139 146 139 140 127 173 167 167 152]\n",
      " [145 180 162 163 149 155 191 214 190 159]\n",
      " [102 122 114 114 106 108 136 148 134 116]\n",
      " [  0   0   0   0   0   0   0   0   0   0]]\n",
      "now:  2024-03-08 10:17:55.020292 epoch time:  0:02:19.936713 used:  0:02:19.936713\n",
      "Epoch 2.\n",
      "i_0 tensor([0, 1, 2, 3, 5, 6, 7, 8, 9]) tensor([0, 1, 2, 3, 4, 5, 6, 7, 8, 9])\n",
      "i_1 tensor([0, 1, 2, 3, 4, 6, 7, 8]) tensor([0, 1, 2, 3, 4, 5, 7, 8, 9])\n",
      "i_2 tensor([0, 1, 2, 3, 4, 5, 6, 7, 8, 9]) tensor([0, 1, 2, 3, 4, 5, 6, 7, 8])\n",
      "epoch: 2\n",
      "pooled train clustering acc (vec_d correlation):  0.136\n",
      "[[ 18   3   4   9   3   3   4   8   6   1]\n",
      " [  1   5   1   0   2   2   3   3   1   1]\n",
      " [284 351 383 354 320 335 288 337 345 287]\n",
      " [  3   2  12   4   6   2   0   7   3   1]\n",
      " [  8   4  16   9  24   4   3  17   1   5]\n",
      " [  0   1   5   1   7   8   4   4   2   3]\n",
      " [172 178 126 152 111 186 233  87 182 212]\n",
      " [ 89  47  48  29  76  42  34  99  19  75]\n",
      " [ 25   8   5  40  44  17  30  38  41  14]\n",
      " [  0   1   0   2   7   1   1   0   0   1]]\n",
      "clustering validation acc:  0.48633333333333334\n",
      "[[  0   0   0   0   0   0   0   0   0   0]\n",
      " [  0 544   0   0   0   0   0   0   0   0]\n",
      " [  0  56   0   0   0   0   0   0   0   0]\n",
      " [  0   0   0 574   0   0   0   0   0   0]\n",
      " [  0   0   0  26 600   0   0   0   0 175]\n",
      " [  0   0   0   0   0   0   0   0   0   0]\n",
      " [ 33   0 600   0   0 600 600 516   0   0]\n",
      " [  0   0   0   0   0   0   0   0   0   0]\n",
      " [567   0   0   0   0   0   0  84 600 425]\n",
      " [  0   0   0   0   0   0   0   0   0   0]]\n",
      "pooled train clustering acc (vec_y correlation):  0.12033333333333333\n",
      "[[  0   0   0   0   0   0   0   0   0   0]\n",
      " [ 53  56  40  54  64  55  60  50  63  49]\n",
      " [  4   2  11   7   4   2  14   4   4   4]\n",
      " [ 55  53  50  58  61  55  71  53  67  51]\n",
      " [ 80  79  69  82  98  72 103  74  79  65]\n",
      " [  0   0   0   0   0   0   0   0   0   0]\n",
      " [220 223 200 240 266 220 297 214 264 205]\n",
      " [  0   0   0   0   0   0   0   0   0   0]\n",
      " [158 167 140 169 187 166 195 145 193 156]\n",
      " [  0   0   0   0   0   0   0   0   0   0]]\n",
      "now:  2024-03-08 10:20:07.076697 epoch time:  0:02:12.056405 used:  0:04:31.993118\n",
      "Experiment finished at epoch: 2 with time: 0:04:31.993118 at 2024-03-08 10:20:07.076697\n",
      "training is done\n",
      "was in clean up in c obvisitor, but did not clean anything\n"
     ]
    },
    {
     "name": "stderr",
     "output_type": "stream",
     "text": [
      "/home/didsr/Documents/SDCN_December/DomId/domid/algos/observers/c_obvisitor_clustering.py:107: UserWarning: failed to delete model\n",
      "  warnings.warn(\"failed to delete model\")\n"
     ]
    }
   ],
   "source": [
    "exp.execute()"
   ]
  },
  {
   "cell_type": "code",
   "execution_count": null,
   "id": "e47878d3",
   "metadata": {},
   "outputs": [],
   "source": []
  }
 ],
 "metadata": {
  "kernelspec": {
   "display_name": "Python 3 (ipykernel)",
   "language": "python",
   "name": "python3"
  },
  "language_info": {
   "codemirror_mode": {
    "name": "ipython",
    "version": 3
   },
   "file_extension": ".py",
   "mimetype": "text/x-python",
   "name": "python",
   "nbconvert_exporter": "python",
   "pygments_lexer": "ipython3",
   "version": "3.10.5"
  }
 },
 "nbformat": 4,
 "nbformat_minor": 5
}
