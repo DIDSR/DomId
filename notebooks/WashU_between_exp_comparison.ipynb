{
 "cells": [
  {
   "cell_type": "code",
   "execution_count": 3,
   "id": "e7bbd4f1-0d98-4ec2-862c-4970b306a2d1",
   "metadata": {},
   "outputs": [],
   "source": [
    "import os\n",
    "\n",
    "import matplotlib.pyplot as plt\n",
    "import pandas as pd\n",
    "# import seaborn as sns\n",
    "import numpy as np\n",
    "from sklearn.manifold import TSNE\n",
    "import pickle\n",
    "from scipy.optimize import linear_sum_assignment\n",
    "from sklearn.metrics import confusion_matrix"
   ]
  },
  {
   "cell_type": "code",
   "execution_count": 4,
   "id": "fd49e600-b117-433f-bff4-d33177bc117e",
   "metadata": {},
   "outputs": [],
   "source": [
    "def load_files(path):\n",
    "    df = pd.read_csv(path+'clustering_results.csv')\n",
    "    \n",
    "    domain = df['predictions'].values\n",
    "    \n",
    "    vec_d = df['vec_d_labels'].values\n",
    "    vec_y = df['vec_y_labels'].values\n",
    "    img_locs = df['image_id_labels'].values\n",
    "\n",
    "    Z = np.load(path + \"Z_space.npy\")\n",
    "    model_name = path.split('_')[-1]\n",
    "\n",
    "    #args = np.loadtxt(path + \"arguments.txt\", dtype=str, usecols=0)  # , delimiter = '\\n')\n",
    "    #img_locs = np.loadtxt(path + \"img_id.txt\", dtype=str)\n",
    "    with open(os.path.join(path, 'commandline_arguments.p'), 'rb') as file:\n",
    "        command_line = pickle.load(file)\n",
    "    \n",
    "    return domain, vec_d, vec_y, img_locs, model_name, df, command_line"
   ]
  },
  {
   "cell_type": "code",
   "execution_count": 5,
   "id": "602ce52a-605c-46a0-89fd-753da091dbd7",
   "metadata": {},
   "outputs": [],
   "source": [
    "ex1 = '2023-09-28 12:47:42.403147_weah_sdcn/'\n",
    "ex2 = '2023-10-03 15:29:14.413030_weah_dec/'\n",
    "ex2= '2023-10-10 11:09:07.411289_weah_dec/'\n",
    "ex2='2023-10-15 16:52:23.823748_weah_sdcn/'"
   ]
  },
  {
   "cell_type": "code",
   "execution_count": 6,
   "id": "0e6c5982-e497-4377-826e-6822dbcdeb6e",
   "metadata": {},
   "outputs": [],
   "source": [
    "domain1, vec_d1, vec_y1, img_locs1, model_name1, results_df1, command_line1 = load_files(ex1)\n",
    "domain2, vec_d2, vec_y2, img_locs2, model_name2, results_df2, command_line2 = load_files(ex2)"
   ]
  },
  {
   "cell_type": "code",
   "execution_count": 7,
   "id": "a02bdd73-10c2-4171-a1e2-e4929e8acbef",
   "metadata": {},
   "outputs": [],
   "source": [
    "def correlation_with_labels(domain, labels, model_name='unknown'):\n",
    "    print('Model', model_name)\n",
    "    domain=domain-1\n",
    "    print('Unique labels:', np.unique(labels),'unique domains:', np.unique(domain))\n",
    "    if len(np.unique(labels))>len(np.unique(domain)):\n",
    "        N = len(np.unique(labels))\n",
    "    else:\n",
    "        N = len(np.unique(domain))\n",
    "    cost = np.zeros((N,N))\n",
    "    \n",
    "    cluster_pred_scalar = domain\n",
    "    cluster_true_scalar = labels\n",
    "    cost = cost - confusion_matrix(cluster_pred_scalar, cluster_true_scalar)\n",
    "\n",
    "    row_ind, col_ind = linear_sum_assignment(cost)\n",
    "\n",
    "    conf_mat = (-1)*cost[:, col_ind]\n",
    "\n",
    "    acc_d = np.diag(conf_mat).sum() / conf_mat.sum()\n",
    "    print(\"Confusion Matrix:\")\n",
    "    print(conf_mat)\n",
    "    print('Correlation with the labels', acc_d)\n",
    "    remapped_domain = np.array([col_ind[np.unique(domain).searchsorted(d)] for d in domain])\n",
    "\n",
    "    return remapped_domain\n",
    "    "
   ]
  },
  {
   "cell_type": "code",
   "execution_count": 8,
   "id": "7b1e4257-fccd-447a-a3cf-c9280c397d46",
   "metadata": {},
   "outputs": [],
   "source": [
    "ann1 = [int(img_loc.split('/')[-1].split('_')[2]) for img_loc in img_locs1]\n",
    "ann2 = [int(img_loc.split('/')[-1].split('_')[2]) for img_loc in img_locs2]\n"
   ]
  },
  {
   "cell_type": "code",
   "execution_count": 30,
   "id": "eab7aae0-fa31-4233-b7f9-b810ba9ec49e",
   "metadata": {},
   "outputs": [
    {
     "data": {
      "text/plain": [
       "'../../WashU_with_coord/combined_training_with_coords/APERIO-138-0/aperio-138-0_anno_2_reg_1CAH_coord_47744_36866_patchnumber_0_xy1024_918.png'"
      ]
     },
     "execution_count": 30,
     "metadata": {},
     "output_type": "execute_result"
    }
   ],
   "source": [
    "img_locs1[0]"
   ]
  },
  {
   "cell_type": "code",
   "execution_count": 51,
   "id": "7efa4cfb-7fe3-47e8-8644-1e1bc5472887",
   "metadata": {},
   "outputs": [],
   "source": [
    "reg_dict = {'H': 0, 'a':1, 'e':2, 'n':3}\n",
    "reg1 = [reg_dict[img_loc.split('/')[-1].split('_')[4][-1]] for img_loc in img_locs1]\n",
    "\n",
    "reg2 = [reg_dict[img_loc.split('/')[-1].split('_')[4][-1]] for img_loc in img_locs2]\n"
   ]
  },
  {
   "cell_type": "code",
   "execution_count": 48,
   "id": "e1fdfa1f-37cd-4f88-a5d0-c4650cfed4bf",
   "metadata": {},
   "outputs": [
    {
     "data": {
      "text/plain": [
       "array(['H', 'a', 'e'], dtype='<U1')"
      ]
     },
     "execution_count": 48,
     "metadata": {},
     "output_type": "execute_result"
    }
   ],
   "source": [
    "np.unique(reg1)"
   ]
  },
  {
   "cell_type": "code",
   "execution_count": 49,
   "id": "6e8de4e2-d586-41ee-8f42-e716bb38ac62",
   "metadata": {},
   "outputs": [
    {
     "name": "stdout",
     "output_type": "stream",
     "text": [
      "Model sdcn\n",
      "Unique labels: [1 2 3] unique domains: [0 1 2 3 4 5]\n",
      "Confusion Matrix:\n",
      "[[-0.0000e+00  4.2700e+02 -0.0000e+00  2.0900e+02 -0.0000e+00  1.2500e+02]\n",
      " [-0.0000e+00  1.9911e+04 -0.0000e+00  7.6700e+03 -0.0000e+00  5.9900e+02]\n",
      " [-0.0000e+00 -0.0000e+00 -0.0000e+00 -0.0000e+00 -0.0000e+00  5.0000e+00]\n",
      " [-0.0000e+00  1.6464e+04 -0.0000e+00  1.0898e+04 -0.0000e+00  1.1000e+01]\n",
      " [-0.0000e+00  1.3500e+02 -0.0000e+00  1.0000e+01 -0.0000e+00  1.3000e+01]\n",
      " [-0.0000e+00  2.6300e+02 -0.0000e+00  4.1300e+02 -0.0000e+00  4.4700e+02]]\n",
      "Correlation with the labels 0.5426388888888889\n"
     ]
    }
   ],
   "source": [
    "remapped_domain1 = correlation_with_labels(domain1, ann1,command_line1.aname)"
   ]
  },
  {
   "cell_type": "code",
   "execution_count": 19,
   "id": "5be5bf8b-b883-4041-93dd-8489fd09a28c",
   "metadata": {},
   "outputs": [
    {
     "name": "stdout",
     "output_type": "stream",
     "text": [
      "Model sdcn\n",
      "Unique labels: [1 2 3] unique domains: [0 1 2 3 4 5]\n",
      "Confusion Matrix:\n",
      "[[   -0.   256.   725.  1102.    -0.    -0.]\n",
      " [   -0.  2178.  1857.  3896.    -0.    -0.]\n",
      " [   -0.   188.   767.   656.    -0.    -0.]\n",
      " [   -0.  8424.  8707. 28336.    -0.    -0.]\n",
      " [   -0.    69.   174.   279.    -0.    -0.]\n",
      " [   -0.   217.   221.   448.    -0.    -0.]]\n",
      "Correlation with the labels 0.5347179487179488\n"
     ]
    }
   ],
   "source": [
    "remapped_domain2 = correlation_with_labels(domain2, ann2, command_line2.aname)"
   ]
  },
  {
   "cell_type": "code",
   "execution_count": null,
   "id": "c183921c-d2d3-477e-afe7-1349aa854749",
   "metadata": {},
   "outputs": [],
   "source": []
  },
  {
   "cell_type": "code",
   "execution_count": 52,
   "id": "39d48835-bd01-444f-9243-e4baee5bccb6",
   "metadata": {},
   "outputs": [
    {
     "name": "stdout",
     "output_type": "stream",
     "text": [
      "Model sdcn\n",
      "Unique labels: [0 1 2] unique domains: [0 1 2 3 4 5]\n",
      "Confusion Matrix:\n",
      "[[-0.0000e+00  4.2700e+02 -0.0000e+00  2.0900e+02 -0.0000e+00  1.2500e+02]\n",
      " [-0.0000e+00  1.9911e+04 -0.0000e+00  7.6700e+03 -0.0000e+00  5.9900e+02]\n",
      " [-0.0000e+00 -0.0000e+00 -0.0000e+00 -0.0000e+00 -0.0000e+00  5.0000e+00]\n",
      " [-0.0000e+00  1.6464e+04 -0.0000e+00  1.0898e+04 -0.0000e+00  1.1000e+01]\n",
      " [-0.0000e+00  1.3500e+02 -0.0000e+00  1.0000e+01 -0.0000e+00  1.3000e+01]\n",
      " [-0.0000e+00  2.6300e+02 -0.0000e+00  4.1300e+02 -0.0000e+00  4.4700e+02]]\n",
      "Correlation with the labels 0.5426388888888889\n"
     ]
    }
   ],
   "source": [
    "remapped_domain1 = correlation_with_labels(domain1, reg1,command_line1.aname)"
   ]
  },
  {
   "cell_type": "code",
   "execution_count": 54,
   "id": "95a80168-5ae8-484e-bafb-6d2a5d2ca190",
   "metadata": {},
   "outputs": [
    {
     "name": "stdout",
     "output_type": "stream",
     "text": [
      "Model sdcn\n",
      "Unique labels: [0 1 2 3] unique domains: [0 1 2 3 4 5]\n",
      "Confusion Matrix:\n",
      "[[   70.   186.   725.  1102.    -0.    -0.]\n",
      " [  484.  1694.  1857.  3896.    -0.    -0.]\n",
      " [   -0.   188.   767.   656.    -0.    -0.]\n",
      " [ 1283.  7141.  8707. 28336.    -0.    -0.]\n",
      " [   -0.    69.   174.   279.    -0.    -0.]\n",
      " [   38.   179.   221.   448.    -0.    -0.]]\n",
      "Correlation with the labels 0.5276410256410257\n"
     ]
    }
   ],
   "source": [
    "remapped_domain2 = correlation_with_labels(domain2, reg2, command_line2.aname)"
   ]
  },
  {
   "cell_type": "code",
   "execution_count": null,
   "id": "567b165c-6db1-475f-923f-c6fb063e15e6",
   "metadata": {},
   "outputs": [],
   "source": []
  },
  {
   "cell_type": "code",
   "execution_count": 20,
   "id": "1ece34e6-1da9-4e0b-b4e1-f38e42f81e92",
   "metadata": {},
   "outputs": [
    {
     "name": "stdout",
     "output_type": "stream",
     "text": [
      "Cohen's Kappa SDCN: 0.1292013312866832\n"
     ]
    }
   ],
   "source": [
    "from sklearn.metrics import cohen_kappa_score\n",
    "kappa = cohen_kappa_score(remapped_domain1, ann1)\n",
    "print(\"Cohen's Kappa SDCN:\", kappa)\n"
   ]
  },
  {
   "cell_type": "code",
   "execution_count": 21,
   "id": "34edc884-0904-473f-89d0-81e24359ec8e",
   "metadata": {},
   "outputs": [
    {
     "name": "stdout",
     "output_type": "stream",
     "text": [
      "Cohen's Kappa DEC: 0.0816269368341096\n"
     ]
    }
   ],
   "source": [
    "kappa = cohen_kappa_score(remapped_domain2, ann2)\n",
    "print(\"Cohen's Kappa DEC:\", kappa)"
   ]
  },
  {
   "cell_type": "code",
   "execution_count": 22,
   "id": "326b4851-3da2-4825-9eff-aa632545c53b",
   "metadata": {},
   "outputs": [],
   "source": [
    "    # print(confusion_matrix(remapped_domain, labels))\n",
    "    # remapped_confusion=confusion_matrix(remapped_domain, labels)\n",
    "    # print(np.diag(remapped_confusion).sum() / remapped_confusion.sum())"
   ]
  },
  {
   "cell_type": "code",
   "execution_count": 23,
   "id": "5c1c1270-dab5-4195-af90-60f30d2d7366",
   "metadata": {},
   "outputs": [],
   "source": [
    "def subject_info(img_locs,subjects,domain, N):\n",
    "    sub_img = []\n",
    "    sub_domain = []\n",
    "\n",
    "    for i, (img) in enumerate(img_locs):\n",
    "        if subjects[N] in img:\n",
    "            sub_img.append(img)\n",
    "            sub_domain.append(domain[i])\n",
    "    patch_x = [int(img.split('/')[-1].split('_')[-6]) for img in sub_img]\n",
    "    patch_y = [int(img.split('/')[-1].split('_')[-5]) for img in sub_img]\n",
    "\n",
    "    x_coords = [int(img.split('/')[-1].split('_')[-2][2:]) for img in sub_img]\n",
    "    y_coords = [int(img.split('/')[-1].split('_')[-1].split('.')[0]) for img in sub_img]\n",
    "    return sub_img,sub_domain, patch_x, patch_y, x_coords, y_coords"
   ]
  },
  {
   "cell_type": "code",
   "execution_count": 24,
   "id": "9fccef16-49d6-4c86-bb94-977fc313a16a",
   "metadata": {},
   "outputs": [],
   "source": [
    "def prob_neiboring_domain_sim(x_coords, y_coords,sub_domain):\n",
    "    distance =np.zeros((len(x_coords), len(x_coords)))\n",
    "    domain_mat =np.zeros((len(x_coords), len(x_coords)))\n",
    "    for i in range(0, len(x_coords)):\n",
    "        for j in range(0, len(x_coords)):\n",
    "            distance[i, j]=np.sqrt((x_coords[i]-x_coords[j])**2+(y_coords[i]-y_coords[j])**2)\n",
    "            if sub_domain[i]==sub_domain[j]:\n",
    "                domain_mat[i, j]=1\n",
    "    probability=[]\n",
    "    for k in range(0, len(distance)):\n",
    "        row_distance = distance[k, :] \n",
    "        min_distance_idx = np.argmin(row_distance)\n",
    "        row_distance = np.delete(row_distance,min_distance_idx)\n",
    "        min_distance_idx = np.argmin(row_distance)\n",
    "        row_domain = domain_mat[k, min_distance_idx]\n",
    "        probability.append(row_domain)\n",
    "    return sum(probability)/len(probability)"
   ]
  },
  {
   "cell_type": "code",
   "execution_count": 25,
   "id": "ef26d579-824b-4b28-81f2-d26ad3b240b8",
   "metadata": {},
   "outputs": [],
   "source": [
    "subjects1 = list(set([l.split('/')[4] for l in img_locs1]))\n",
    "subjects2 = list(set([l.split('/')[4] for l in img_locs2]))"
   ]
  },
  {
   "cell_type": "code",
   "execution_count": 26,
   "id": "58224d9c-7b58-425b-bc4d-36c0e4e34716",
   "metadata": {},
   "outputs": [
    {
     "name": "stdout",
     "output_type": "stream",
     "text": [
      "0.8019270833333334\n"
     ]
    }
   ],
   "source": [
    "P = []\n",
    "for N, sub in enumerate(subjects1):\n",
    "    sub_img,sub_domain, patch_x, patch_y, x_coords, y_coords = subject_info(img_locs1,subjects1,domain1, N)\n",
    "    \n",
    "    p_sub = prob_neiboring_domain_sim(x_coords, y_coords,sub_domain)\n",
    "    P.append(p_sub)\n",
    "print(np.mean(P))"
   ]
  },
  {
   "cell_type": "code",
   "execution_count": 27,
   "id": "6716e339-abe6-4016-abdd-81795ec3c9c5",
   "metadata": {},
   "outputs": [
    {
     "name": "stdout",
     "output_type": "stream",
     "text": [
      "0.7776239316239317\n"
     ]
    }
   ],
   "source": [
    "P = []\n",
    "for N, sub in enumerate(subjects2):\n",
    "    sub_img,sub_domain, patch_x, patch_y, x_coords, y_coords = subject_info(img_locs2,subjects2, domain2, N)\n",
    "    p_sub = prob_neiboring_domain_sim(x_coords, y_coords,sub_domain)\n",
    "    P.append(p_sub)\n",
    "print(np.mean(P))"
   ]
  },
  {
   "cell_type": "code",
   "execution_count": null,
   "id": "6efd6efa-331f-4386-bf85-85a8220af682",
   "metadata": {},
   "outputs": [],
   "source": []
  },
  {
   "cell_type": "code",
   "execution_count": null,
   "id": "5dcb9f4f-e01c-4a86-9623-80bed93fe1ef",
   "metadata": {},
   "outputs": [],
   "source": []
  },
  {
   "cell_type": "code",
   "execution_count": null,
   "id": "eaf278ab-5343-4f3d-96a0-c7a27289fe85",
   "metadata": {},
   "outputs": [],
   "source": []
  },
  {
   "cell_type": "code",
   "execution_count": null,
   "id": "13bcb0f6-6293-4983-ab4d-a41b50943c3a",
   "metadata": {},
   "outputs": [],
   "source": []
  },
  {
   "cell_type": "code",
   "execution_count": null,
   "id": "c1ea35eb-0e3e-4a25-bf76-e2ef061d843d",
   "metadata": {},
   "outputs": [],
   "source": []
  },
  {
   "cell_type": "code",
   "execution_count": null,
   "id": "cd75fc2d-2fd5-4dad-a802-1bf16aad3f0a",
   "metadata": {},
   "outputs": [],
   "source": []
  }
 ],
 "metadata": {
  "kernelspec": {
   "display_name": "Python 3 (ipykernel)",
   "language": "python",
   "name": "python3"
  },
  "language_info": {
   "codemirror_mode": {
    "name": "ipython",
    "version": 3
   },
   "file_extension": ".py",
   "mimetype": "text/x-python",
   "name": "python",
   "nbconvert_exporter": "python",
   "pygments_lexer": "ipython3",
   "version": "3.10.4"
  }
 },
 "nbformat": 4,
 "nbformat_minor": 5
}
