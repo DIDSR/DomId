{
 "cells": [
  {
   "cell_type": "markdown",
   "id": "be9dc995-d04b-4649-b332-63cbd5a47e54",
   "metadata": {},
   "source": [
    "This Jupyter notebook is intended to replicate the experiments conducted in the study by Sidulova et al. (2023). Compared to the implementation used for Sidulova et al. (2023), this notebook is utilizing the enhanced and restructured *DomId* Python library. It is important to acknowledge that there may be slight variations in the results when compared to the original study, primarily due to the non-fixed random seed which introduces an element of stochastic variability.\n",
    "\n",
    "Sidulova, M., Sun, X., & Gossmann, A. (2023). Deep Unsupervised Clustering for Conditional Identification of Subgroups Within a Digital Pathology Image Set. In H. Greenspan, A. Madabhushi, P. Mousavi, S. Salcudean, J. Duncan, T. Syeda-Mahmood, & R. Taylor (Eds.), Medical Image Computing and Computer Assisted Intervention – MICCAI 2023 (Vol. 14227, pp. 666–675). Springer Nature Switzerland. https://doi.org/10.1007/978-3-031-43993-3_64"
   ]
  },
  {
   "cell_type": "code",
   "execution_count": 1,
   "id": "80f83de2-ded5-4976-9906-fd35bab5c8e5",
   "metadata": {},
   "outputs": [],
   "source": [
    "import os\n",
    "import pickle\n",
    "import sys\n",
    "import torch\n",
    "import numpy as np\n",
    "import pandas as pd\n",
    "import matplotlib.pyplot as plt\n",
    "from torchvision import datasets, transforms\n",
    "from domid.arg_parser import mk_parser_main\n",
    "from domid.mk_exp import mk_exp\n",
    "from domid.models.model_ae import mk_ae\n",
    "from domid.models.model_sdcn import mk_sdcn"
   ]
  },
  {
   "cell_type": "code",
   "execution_count": 2,
   "id": "5dc3f2ad-5d3d-4346-8f12-078ecfa0bc59",
   "metadata": {},
   "outputs": [
    {
     "data": {
      "text/plain": [
       "'/storage2T/github/DomId'"
      ]
     },
     "execution_count": 2,
     "metadata": {},
     "output_type": "execute_result"
    }
   ],
   "source": [
    "HER2_PATH = '/storage6T/HER2/Testing_fixed/categorized/combined_train/'\n",
    "\n",
    "# this is to make sure results are saved in the directory structure as expected\n",
    "os.chdir('../')\n",
    "os.getcwd()"
   ]
  },
  {
   "cell_type": "markdown",
   "id": "7c95d976-06a8-423d-8a07-47bd4c66ddc5",
   "metadata": {
    "jp-MarkdownHeadingCollapsed": true
   },
   "source": [
    "## Helper Functions"
   ]
  },
  {
   "cell_type": "code",
   "execution_count": 3,
   "id": "0e9d2ca1-61e7-4313-9d33-07d3493cc75d",
   "metadata": {},
   "outputs": [],
   "source": [
    "def get_most_recent_directory(directory):\n",
    "    try:\n",
    "        directories = [d for d in os.listdir(directory) if os.path.isdir(os.path.join(directory, d))]\n",
    "        directories.sort(key=lambda x: os.path.getctime(os.path.join(directory, x)), reverse=True)\n",
    "        return os.path.join(directory, directories[0])\n",
    "    except Exception as e:\n",
    "        print(\"Error:\", e)\n",
    "        return None"
   ]
  },
  {
   "cell_type": "code",
   "execution_count": 4,
   "id": "9d80d60e-e6fd-4153-9ebb-fdef760716d9",
   "metadata": {},
   "outputs": [],
   "source": [
    "def load_files(path):\n",
    "    df = pd.read_csv(os.path.join(path, 'clustering_results.csv'))\n",
    "    \n",
    "    domain = df['predictions'].values\n",
    "    \n",
    "    vec_d = df['vec_d_labels'].values\n",
    "    vec_y = df['vec_y_labels'].values\n",
    "    img_locs = df['image_id_labels'].values\n",
    "\n",
    "    Z = np.load(os.path.join(path, \"Z_space.npy\"))\n",
    "    model_name = path.split('_')[-1]\n",
    "    with open(os.path.join(path, 'commandline_arguments.p'), 'rb') as file:\n",
    "        command_line = pickle.load(file)\n",
    "    \n",
    "    return domain, vec_d, vec_y, img_locs, model_name, command_line"
   ]
  },
  {
   "cell_type": "code",
   "execution_count": 5,
   "id": "c5633388-e0cc-4a09-8daf-312e7ef4f1c4",
   "metadata": {},
   "outputs": [],
   "source": [
    "def something_per_domain(domain, another_label):\n",
    "    \"\"\"\n",
    "    domain - predicted domain labels \n",
    "    another_label - some other label that corresponds to each of the predicted domain (\n",
    "    assumed that both domain and something have the same img_loc reference order \n",
    "    \"\"\"\n",
    "    u_something = np.unique(another_label)\n",
    "    u_domain = np.unique(domain)\n",
    "    print('unique predicted domain', u_domain)\n",
    "    print('unique true label', u_something)\n",
    "    \n",
    "    array_counters=[]\n",
    "    for i in u_domain:\n",
    "        for j in u_something:\n",
    "            counter = 0\n",
    "            for idx in range(0, len(domain)):\n",
    "                if domain[idx]==i and another_label[idx]==j:\n",
    "                    counter+=1\n",
    "            \n",
    "            array_counters.append(counter)\n",
    "    return array_counters"
   ]
  },
  {
   "cell_type": "code",
   "execution_count": 6,
   "id": "ac75441f-4aa0-4ba6-a7cf-d4909e691564",
   "metadata": {},
   "outputs": [],
   "source": [
    "def plot_something_per_domain_proportion(domain, another_label, counts, fs, legend = False, thres = None, title = None, digit_plot = True):\n",
    "    \"\"\"\n",
    "    domain - predicted domain labels\n",
    "    another_label - another label aassociated with each predicted domain (should be same shape as domain)\n",
    "    counts - countes of each another label in each of the predicted domain (see something_per_domain function)\n",
    "    fs - font size\n",
    "    colors - colors of each segment on the bargraph\n",
    "    legend - legend of unique another lables\n",
    "    thres - if thresholding of another label is required then should be shpecifies (also see apply_threshold function)\n",
    "    \n",
    "    \"\"\"\n",
    "    u_domains = np.unique(domain)\n",
    "    N = len(u_domains)\n",
    "    \n",
    "    u_another_label = np.unique(another_label)\n",
    "    print('unique labels', u_another_label)\n",
    "    print(u_domains)\n",
    "    counts = np.array(counts)\n",
    "    narray = np.array_split(counts, N)\n",
    "\n",
    "    if thres:\n",
    "        u_another_label_dic = apply_threshold(u_another_label, narray, thres, N)\n",
    "        #print(u_another_label_dic.values())\n",
    "        u_another_label = list(u_another_label_dic.keys())\n",
    "        narray = list(u_another_label_dic.values())\n",
    "        narray = np.transpose(narray)\n",
    "\n",
    "   # print(narray)\n",
    "    #print(len(u_domains), len(u_another_label))\n",
    "    # c = ['blue', 'teal', 'pink', 'orange', 'green', 'red', 'plum', 'grey', 'purple', 'yellow']\n",
    "    # c = ['lightblue', 'steelblue', 'royalblue', 'mediumpurple', 'darkmagenta','orchid', 'lightpink', 'lightcoral', 'maroon', 'sandybrown']\n",
    "    \n",
    "    if digit_plot:\n",
    "        c =  ['darkseagreen', 'forestgreen', 'aquamarine', 'lightseagreen', 'teal', 'steelblue','lightblue', 'royalblue','navy', 'lightslategrey' ]\n",
    "\n",
    "    else:\n",
    "        c = ['mediumpurple', 'darkmagenta','orchid', 'lightpink', 'lightcoral', 'maroon', 'sandybrown', 'peachpuff', 'goldenrod', 'gold']\n",
    "  \n",
    "        \n",
    "    plt.figure(figsize = (5, 5))\n",
    "    for i in range(0, len(u_domains)):\n",
    "        for jj in range(0,len(u_another_label)):\n",
    "            \n",
    "            if jj>0:\n",
    "                bottom = np.sum(narray[i][:jj])/np.sum(narray[i])\n",
    "            else:\n",
    "                bottom = 0\n",
    "            ##print(i, narray[i][jj])\n",
    "            #print(c[jj])\n",
    "            plt.bar(i, narray[i][jj]/np.sum(narray[i]), bottom = bottom, color = c[jj])\n",
    "    x = np.linspace(0, N-1, N)\n",
    "    x_ticks = [str(item) for item in u_domains]\n",
    "    #plt.ylabel(\"Proportion\", fontsize=fs)\n",
    "    plt.xticks(x, x_ticks, fontsize=fs)\n",
    "    plt.yticks(fontsize=fs)\n",
    "    plt.xlabel(\"Domain\", fontsize=fs)\n",
    "    plt.title(title, fontsize = fs, weight = 'bold')\n",
    "    plt.tick_params(left = False, labelleft = False)\n",
    "    if legend:\n",
    "        plt.legend(legend, bbox_to_anchor=(1, 1.1))\n",
    "    else:\n",
    "        plt.legend(u_another_label, bbox_to_anchor=(1, 1.1), fancybox=True, shadow=True, fontsize = fs)\n",
    "    plt.show()"
   ]
  },
  {
   "cell_type": "code",
   "execution_count": 7,
   "id": "23369adc-b17d-4d0e-b44b-fcffc248da5c",
   "metadata": {},
   "outputs": [],
   "source": [
    "def get_last_created_directory(path):\n",
    "    directories = [d for d in os.listdir(path) if os.path.isdir(os.path.join(path, d))]\n",
    "    directories.sort(key=lambda x: os.path.getctime(os.path.join(path, x)), reverse=True)\n",
    "    if directories:\n",
    "        return directories[0]\n",
    "    else:\n",
    "        return None"
   ]
  },
  {
   "cell_type": "markdown",
   "id": "b998e0fa-89de-4258-9741-0415a9a54bab",
   "metadata": {},
   "source": [
    "## VaDe Experiments with HER2 data"
   ]
  },
  {
   "cell_type": "code",
   "execution_count": 9,
   "id": "01b0f7eb-976b-4b8b-bf14-3ec6e60c623e",
   "metadata": {
    "scrolled": true
   },
   "outputs": [
    {
     "name": "stderr",
     "output_type": "stream",
     "text": [
      "The sets of training and test domains overlap -- be aware of data leakage or training to the test!\n"
     ]
    },
    {
     "name": "stdout",
     "output_type": "stream",
     "text": [
      "Namespace(config_file=None, lr=5e-06, gamma_reg=0.1, es=1, seed=0, nocu=False, device=None, gen=False, keep_model=False, epos=50, epos_min=0, epo_te=1, warmup=100, debug=False, dmem=False, no_dump=False, trainer='cluster', out='zoutput', dpath='/storage6T/HER2/Testing_fixed/categorized/combined_train/', tpath=None, npath=None, npath_dom=None, npath_argna2val=None, nname_argna2val=None, nname=None, nname_dom=None, apath=None, exptag='exptag', aggtag='aggtag', bm_dir=None, plot_data=None, outp_dir='zoutput/benchmarks/shell_benchmark', param_idx=True, msel='val', model='vade', acon=None, task='her2', bs=4, split=0, te_d=['0'], tr_d=['0', '1', '2'], san_check=False, san_num=8, loglevel='DEBUG', zd_dim=500, zx_dim=0, zy_dim=64, topic_dim=3, nname_encoder_x2topic_h=None, npath_encoder_x2topic_h=None, nname_encoder_sandwich_x2h4zd=None, npath_encoder_sandwich_x2h4zd=None, gamma_y=None, gamma_d=None, beta_t=1.0, beta_d=1.0, beta_x=1.0, beta_y=1.0, tau=0.05, epos_per_match_update=5, epochs_ctr=1, nperm=31, pperm=0.1, jigen_ppath=None, grid_len=3, dial_steps_perturb=3, dial_noise_scale=0.001, dial_lr=0.003, dial_epsilon=0.031, d_dim=3, pre_tr=17, L=5, prior='Gaus', model_method='cnn', inject_var=None, meta_data_csv=None, dim_inject_y=0, digits_from_mnist=None, path_to_results='./', pre_tr_weight_path=None, tr_d_range=None, graph_method=None, feat_extract='vae', random_batching=False, subset_step=10)\n"
     ]
    },
    {
     "name": "stderr",
     "output_type": "stream",
     "text": [
      "/storage2T/cache/pypoetry/virtualenvs/domid-99PrLA_U-py3.10/lib/python3.10/site-packages/domainlab/tasks/a_task.py:169: RuntimeWarning: The sets of training and test domains overlap -- be aware of data leakage or training to the test!\n",
      "  warnings.warn(\n",
      "\n",
      "using device: cuda\n",
      "\n",
      "The sets of training and test domains overlap -- be aware of data leakage or training to the test!\n",
      "/storage2T/cache/pypoetry/virtualenvs/domid-99PrLA_U-py3.10/lib/python3.10/site-packages/domainlab/tasks/a_task.py:169: RuntimeWarning: The sets of training and test domains overlap -- be aware of data leakage or training to the test!\n",
      "  warnings.warn(\n"
     ]
    },
    {
     "name": "stdout",
     "output_type": "stream",
     "text": [
      "ConvolutionalEncoder(\n",
      "  (encod): Sequential(\n",
      "    (0): Conv2d(3, 32, kernel_size=(3, 3), stride=(2, 2), padding=(1, 1))\n",
      "    (1): BatchNorm2d(32, eps=1e-05, momentum=0.1, affine=True, track_running_stats=True)\n",
      "    (2): LeakyReLU(negative_slope=0.01)\n",
      "    (3): Conv2d(32, 64, kernel_size=(3, 3), stride=(2, 2), padding=(1, 1))\n",
      "    (4): BatchNorm2d(64, eps=1e-05, momentum=0.1, affine=True, track_running_stats=True)\n",
      "    (5): LeakyReLU(negative_slope=0.01)\n",
      "    (6): Conv2d(64, 128, kernel_size=(3, 3), stride=(2, 2), padding=(1, 1))\n",
      "    (7): BatchNorm2d(128, eps=1e-05, momentum=0.1, affine=True, track_running_stats=True)\n",
      "    (8): LeakyReLU(negative_slope=0.01)\n",
      "    (9): Flatten(start_dim=1, end_dim=-1)\n",
      "  )\n",
      "  (mu_layer): Linear(in_features=2048, out_features=500, bias=True)\n",
      "  (log_sigma2_layer): Linear(in_features=2048, out_features=500, bias=True)\n",
      ")\n",
      "ConvolutionalDecoder(\n",
      "  (linear): Linear(in_features=500, out_features=2048, bias=True)\n",
      "  (sigmoid_layer): Sigmoid()\n",
      "  (unflat): UnFlatten()\n",
      "  (decod): Sequential(\n",
      "    (0): ConvTranspose2d(128, 64, kernel_size=(4, 4), stride=(2, 2), padding=(1, 1))\n",
      "    (1): BatchNorm2d(64, eps=1e-05, momentum=0.1, affine=True, track_running_stats=True)\n",
      "    (2): LeakyReLU(negative_slope=0.01)\n",
      "    (3): ConvTranspose2d(64, 32, kernel_size=(4, 4), stride=(2, 2), padding=(1, 1))\n",
      "    (4): BatchNorm2d(32, eps=1e-05, momentum=0.1, affine=True, track_running_stats=True)\n",
      "    (5): LeakyReLU(negative_slope=0.01)\n",
      "    (6): ConvTranspose2d(32, 6, kernel_size=(4, 4), stride=(2, 2), padding=(1, 1))\n",
      "  )\n",
      ")\n"
     ]
    },
    {
     "name": "stderr",
     "output_type": "stream",
     "text": [
      "\n",
      "\n",
      "\n",
      "!!!: not committed yet\n",
      "/storage2T/cache/pypoetry/virtualenvs/domid-99PrLA_U-py3.10/lib/python3.10/site-packages/domainlab/utils/get_git_tag.py:16: UserWarning: !!!: not committed yet\n",
      "  warnings.warn(\"!!!: not committed yet\")\n",
      "\n",
      "\n",
      "\n",
      "b'7a7eb4e'\n",
      "The sets of training and test domains overlap -- be aware of data leakage or training to the test!\n",
      "/storage2T/cache/pypoetry/virtualenvs/domid-99PrLA_U-py3.10/lib/python3.10/site-packages/domainlab/tasks/a_task.py:169: RuntimeWarning: The sets of training and test domains overlap -- be aware of data leakage or training to the test!\n",
      "  warnings.warn(\n",
      "model name: her2_te_class0_vade_b7a7eb4e_not_commited_2024md_04md_17_09_30_14_seed_0\n"
     ]
    },
    {
     "name": "stdout",
     "output_type": "stream",
     "text": [
      "############################################################\n",
      "Pretraining initialized.\n",
      "############################################################\n",
      "______Created directory to save result_________\n"
     ]
    }
   ],
   "source": [
    "exp = mk_exp(task='her2',model='vade',trainer='cluster', train_domain =\"0 1 2\", test_domain=\"0\", batchsize=\"4\",\n",
    "             dpath= HER2_PATH, zd_dim='500', model_method ='cnn',\n",
    "             prior='Gaus', pre_tr=17, epos=50, d_dim='3',lr='0.000005', nocu=False, L=5)"
   ]
  },
  {
   "cell_type": "code",
   "execution_count": null,
   "id": "bdd1a3e2-fde7-48a3-b197-5c2140e937ae",
   "metadata": {
    "scrolled": true
   },
   "outputs": [
    {
     "name": "stdout",
     "output_type": "stream",
     "text": [
      "\n",
      " Experiment start at : 2024-04-17 09:30:14.305583\n",
      "before training, model accuracy: (0.5, array([[336, 168, 168],\n",
      "       [  0,   0,   0],\n",
      "       [  0,   0,   0]]), 0.5416666666666666, array([[364,  60, 248],\n",
      "       [  0,   0,   0],\n",
      "       [  0,   0,   0]]))\n",
      "Epoch 1. Pretraining.\n"
     ]
    },
    {
     "name": "stderr",
     "output_type": "stream",
     "text": [
      "/storage2T/cache/pypoetry/virtualenvs/domid-99PrLA_U-py3.10/lib/python3.10/site-packages/numpy/lib/function_base.py:2854: RuntimeWarning: invalid value encountered in divide\n",
      "  c /= stddev[:, None]\n",
      "/storage2T/cache/pypoetry/virtualenvs/domid-99PrLA_U-py3.10/lib/python3.10/site-packages/numpy/lib/function_base.py:2855: RuntimeWarning: invalid value encountered in divide\n",
      "  c /= stddev[None, :]\n"
     ]
    },
    {
     "name": "stdout",
     "output_type": "stream",
     "text": [
      "[nan, nan, nan, nan, nan, nan]\n"
     ]
    },
    {
     "name": "stderr",
     "output_type": "stream",
     "text": [
      "/storage2T/cache/pypoetry/virtualenvs/domid-99PrLA_U-py3.10/lib/python3.10/site-packages/numpy/lib/function_base.py:2854: RuntimeWarning: invalid value encountered in divide\n",
      "  c /= stddev[:, None]\n",
      "/storage2T/cache/pypoetry/virtualenvs/domid-99PrLA_U-py3.10/lib/python3.10/site-packages/numpy/lib/function_base.py:2855: RuntimeWarning: invalid value encountered in divide\n",
      "  c /= stddev[None, :]\n"
     ]
    },
    {
     "name": "stdout",
     "output_type": "stream",
     "text": [
      "[nan, nan, nan, nan, nan, nan]\n",
      "pi:\n",
      "[0.33405268 0.2710328  0.39491448]\n",
      "epoch: 1\n",
      "[-0.07986715336975174, 0.07791819812188372, -0.007125049404089681, 0.007125049404089714, -0.05359547522314192, -0.04498619956192828]\n",
      "[0.00168889068810923, 0.04007511364402552, 0.04677078238118435, -0.04677078238118437, 0.0261659718789216, -0.05167894004232679]\n",
      "pooled train clustering acc (vec_d correlation):  0.375\n",
      "[[ 76  22 119]\n",
      " [ 61  16  85]\n",
      " [111  22 160]]\n",
      "clustering validation acc:  0.40327380952380953\n",
      "[[ 81  19 107]\n",
      " [ 52  13  80]\n",
      " [115  28 177]]\n",
      "pooled train clustering acc (vec_y correlation):  0.36607142857142855\n",
      "[[ 60  58  89]\n",
      " [ 35  35  75]\n",
      " [ 73  75 172]]\n",
      "Correlation with HER2 scores training 0.07791819812188372\n",
      "Correlation with HER2 scores validation 0.04677078238118435\n",
      "now:  2024-04-17 09:30:59.612599 epoch time:  0:00:45.307016 used:  0:00:45.307016\n",
      "Epoch 2. Pretraining.\n",
      "[-0.013193719828367553, -0.03747260115956395, -0.05795286064002387, 0.05795286064002387, -0.03825744061308489, 0.05768140350230273]\n",
      "[-0.028470214447778253, 0.05829680087465404, 0.030105303569966154, -0.030105303569966154, -0.0019258141931203143, -0.05431020763703179]\n",
      "pi:\n",
      "[0.21466148 0.39721537 0.38812315]\n",
      "epoch: 2\n",
      "[-0.3215119673067353, 0.25172697752974016, 0.024858299664726698, -0.024858299664726732, -0.19799064675991468, -0.16777378033166584]\n",
      "[-0.2994280393371142, 0.2658188879366198, 0.05588220487312496, -0.05588220487312496, -0.1629673739209004, -0.19202943284130813]\n",
      "pooled train clustering acc (vec_d correlation):  0.5\n",
      "[[ 16  75  16]\n",
      " [ 32 173  85]\n",
      " [ 12 116 147]]\n",
      "clustering validation acc:  0.5\n",
      "[[ 16  68  18]\n",
      " [ 31 174  84]\n",
      " [ 13 122 146]]\n",
      "pooled train clustering acc (vec_y correlation):  0.41964285714285715\n",
      "[[ 27  33  42]\n",
      " [ 63  87 139]\n",
      " [ 78  48 155]]\n",
      "Correlation with HER2 scores training 0.25172697752974016\n",
      "Correlation with HER2 scores validation 0.2658188879366198\n",
      "now:  2024-04-17 09:31:44.726746 epoch time:  0:00:45.114147 used:  0:01:30.421163\n",
      "Epoch 3. Pretraining.\n",
      "[-0.3262077358201354, 0.27455353123244675, 0.041357216184551585, -0.041357216184551585, -0.18864389536581327, -0.18994772925629025]\n",
      "[-0.28411285757140925, 0.20307711197401948, -0.007952421437846385, 0.007952421437846397, -0.19675385768852005, -0.12298317433107525]\n",
      "pi:\n",
      "[0.3629132  0.29051515 0.3465717 ]\n",
      "epoch: 3\n",
      "[-0.3723294972004028, 0.18524746849733817, -0.23541340812416164, 0.23541340812416164, -0.34553953494491335, 0.03424252545410981]\n",
      "[-0.364522357215074, 0.18537020666873508, -0.21371119638458652, 0.21371119638458652, -0.32781237893814574, 0.023392822685186162]\n",
      "pooled train clustering acc (vec_d correlation):  0.47619047619047616\n",
      "[[179  38  57]\n",
      " [ 97  13  63]\n",
      " [ 88   9 128]]\n",
      "clustering validation acc:  0.5119047619047619\n",
      "[[201  46  52]\n",
      " [ 73  10  63]\n",
      " [ 90   4 133]]\n",
      "pooled train clustering acc (vec_y correlation):  0.41369047619047616\n",
      "[[103 123  73]\n",
      " [ 24  94  28]\n",
      " [ 41 119  67]]\n",
      "Correlation with HER2 scores training 0.23541340812416164\n",
      "Correlation with HER2 scores validation 0.21371119638458652\n",
      "now:  2024-04-17 09:32:26.447793 epoch time:  0:00:41.721047 used:  0:02:12.142210\n",
      "Epoch 4. Pretraining.\n",
      "[-0.37926279861921436, 0.22119310582640264, -0.19822789929104018, 0.19822789929104018, -0.3285566113442865, -0.007856488146330018]\n",
      "[-0.39609876191525706, 0.23709125201155742, -0.21402334432099004, 0.21402334432099004, -0.34680499658659064, -0.007675608247849948]\n",
      "pi:\n",
      "[0.02380955 0.5591584  0.4170321 ]\n",
      "epoch: 4\n"
     ]
    },
    {
     "name": "stderr",
     "output_type": "stream",
     "text": [
      "/storage2T/cache/pypoetry/virtualenvs/domid-99PrLA_U-py3.10/lib/python3.10/site-packages/numpy/lib/function_base.py:2854: RuntimeWarning: invalid value encountered in divide\n",
      "  c /= stddev[:, None]\n",
      "/storage2T/cache/pypoetry/virtualenvs/domid-99PrLA_U-py3.10/lib/python3.10/site-packages/numpy/lib/function_base.py:2855: RuntimeWarning: invalid value encountered in divide\n",
      "  c /= stddev[None, :]\n"
     ]
    },
    {
     "name": "stdout",
     "output_type": "stream",
     "text": [
      "[-0.32432872803523854, 0.32432872803523843, 0.32432872803523843, -0.32432872803523854, nan, -0.32432872803523854]\n"
     ]
    },
    {
     "name": "stderr",
     "output_type": "stream",
     "text": [
      "/storage2T/cache/pypoetry/virtualenvs/domid-99PrLA_U-py3.10/lib/python3.10/site-packages/numpy/lib/function_base.py:2854: RuntimeWarning: invalid value encountered in divide\n",
      "  c /= stddev[:, None]\n",
      "/storage2T/cache/pypoetry/virtualenvs/domid-99PrLA_U-py3.10/lib/python3.10/site-packages/numpy/lib/function_base.py:2855: RuntimeWarning: invalid value encountered in divide\n",
      "  c /= stddev[None, :]\n"
     ]
    },
    {
     "name": "stdout",
     "output_type": "stream",
     "text": [
      "[-0.3722756430580572, 0.37227564305805716, 0.37227564305805716, -0.3722756430580572, nan, -0.3722756430580572]\n",
      "pooled train clustering acc (vec_d correlation):  0.6086309523809523\n",
      "[[  0   0   0]\n",
      " [ 50 246  85]\n",
      " [ 10 118 163]]\n",
      "clustering validation acc:  0.6086309523809523\n",
      "[[  0   0   0]\n",
      " [ 44 250  89]\n",
      " [ 16 114 159]]\n",
      "pooled train clustering acc (vec_y correlation):  0.4211309523809524\n",
      "[[  0   0   0]\n",
      " [119 185  79]\n",
      " [ 49 151  89]]\n",
      "Correlation with HER2 scores training 0.32432872803523843\n",
      "Correlation with HER2 scores validation 0.37227564305805716\n",
      "now:  2024-04-17 09:33:11.681523 epoch time:  0:00:45.233730 used:  0:02:57.375940\n",
      "Epoch 5. Pretraining.\n"
     ]
    },
    {
     "name": "stderr",
     "output_type": "stream",
     "text": [
      "/storage2T/cache/pypoetry/virtualenvs/domid-99PrLA_U-py3.10/lib/python3.10/site-packages/numpy/lib/function_base.py:2854: RuntimeWarning: invalid value encountered in divide\n",
      "  c /= stddev[:, None]\n",
      "/storage2T/cache/pypoetry/virtualenvs/domid-99PrLA_U-py3.10/lib/python3.10/site-packages/numpy/lib/function_base.py:2855: RuntimeWarning: invalid value encountered in divide\n",
      "  c /= stddev[None, :]\n"
     ]
    },
    {
     "name": "stdout",
     "output_type": "stream",
     "text": [
      "[-0.35885623329816135, 0.35885623329816124, 0.35885623329816124, -0.35885623329816124, nan, -0.35885623329816135]\n"
     ]
    },
    {
     "name": "stderr",
     "output_type": "stream",
     "text": [
      "/storage2T/cache/pypoetry/virtualenvs/domid-99PrLA_U-py3.10/lib/python3.10/site-packages/numpy/lib/function_base.py:2854: RuntimeWarning: invalid value encountered in divide\n",
      "  c /= stddev[:, None]\n",
      "/storage2T/cache/pypoetry/virtualenvs/domid-99PrLA_U-py3.10/lib/python3.10/site-packages/numpy/lib/function_base.py:2855: RuntimeWarning: invalid value encountered in divide\n",
      "  c /= stddev[None, :]\n"
     ]
    },
    {
     "name": "stdout",
     "output_type": "stream",
     "text": [
      "[-0.39179498176091293, 0.39179498176091293, 0.39179498176091293, -0.39179498176091293, nan, -0.39179498176091293]\n",
      "pi:\n",
      "[0.50062233 0.08936232 0.41001537]\n",
      "epoch: 5\n",
      "[-0.4120306597501407, 0.4004228114528859, -0.4074284988212407, 0.4074284988212406, -0.41228848739683543, 0.02017429089529118]\n",
      "[-0.41605069835552455, 0.3990248707056763, -0.4113690297244968, 0.4113690297244967, -0.41689498038122014, 0.03060605158650029]\n",
      "pooled train clustering acc (vec_d correlation):  0.6101190476190477\n",
      "[[239  44  76]\n",
      " [  4   1   2]\n",
      " [121  15 170]]\n",
      "clustering validation acc:  0.6041666666666666\n",
      "[[235  46  71]\n",
      " [  6   1   7]\n",
      " [123  13 170]]\n",
      "pooled train clustering acc (vec_y correlation):  0.41220238095238093\n",
      "[[119  77 156]\n",
      " [  5   2   7]\n",
      " [ 44  89 173]]\n",
      "Correlation with HER2 scores training 0.4074284988212406\n",
      "Correlation with HER2 scores validation 0.4113690297244967\n",
      "now:  2024-04-17 09:33:53.111849 epoch time:  0:00:41.430326 used:  0:03:38.806266\n",
      "Epoch 6. Pretraining.\n",
      "[-0.3944659434662801, 0.3691884999363564, -0.3896807883661864, 0.3896807883661864, -0.3962264890202876, 0.039777321627873514]\n",
      "[-0.40599792332331, 0.36695655290675355, -0.404526146737833, 0.404526146737833, -0.4101131279764427, 0.06281126644954867]\n",
      "pi:\n",
      "[0.17360045 0.45761403 0.3687855 ]\n",
      "epoch: 6\n",
      "[0.15469307613573666, -0.40274009165934993, -0.42773053870711214, 0.42773053870711214, -0.19818372814626728, 0.44359725934887034]\n",
      "[0.11616297422796719, -0.39048729923196207, -0.42043452559790084, 0.42043452559790084, -0.2106631700732069, 0.4375144825567322]\n",
      "pooled train clustering acc (vec_d correlation):  0.5625\n",
      "[[ 11  11  59]\n",
      " [ 15 167 105]\n",
      " [ 34  70 200]]\n",
      "clustering validation acc:  0.5505952380952381\n",
      "[[ 14   7  48]\n",
      " [  7 174 134]\n",
      " [ 39  67 182]]\n",
      "pooled train clustering acc (vec_y correlation):  0.40922619047619047\n",
      "[[ 30  26  13]\n",
      " [ 53 176  86]\n",
      " [ 85 134  69]]\n",
      "Correlation with HER2 scores training 0.44359725934887034\n",
      "Correlation with HER2 scores validation 0.4375144825567322\n",
      "now:  2024-04-17 09:34:38.180973 epoch time:  0:00:45.069124 used:  0:04:23.875390\n",
      "Epoch 7. Pretraining.\n",
      "[0.14789388439906537, -0.34546611818207074, -0.3561001442259644, 0.3561001442259644, -0.15082588154513424, 0.3754288881614101]\n",
      "[0.12850957969591886, -0.35632016695524305, -0.38424727540901854, 0.38424727540901854, -0.18262012213999643, 0.39593651081985654]\n",
      "pi:\n",
      "[0.2984099  0.39224786 0.3093423 ]\n",
      "epoch: 7\n",
      "[-0.4224632071946689, 0.18567043670924924, -0.20744778627579624, 0.20744778627579624, -0.3619525425648857, 0.013456079404069177]\n",
      "[-0.35312539760162004, 0.1405766785394607, -0.1848228575333935, 0.18482285753339348, -0.310456831326447, 0.025048924436651927]\n",
      "pooled train clustering acc (vec_d correlation):  0.46279761904761907\n",
      "[[ 28 138  29]\n",
      " [ 22 159  95]\n",
      " [ 10  67 124]]\n",
      "clustering validation acc:  0.4538690476190476\n",
      "[[ 33 147  29]\n",
      " [ 20 149  96]\n",
      " [  7  68 123]]\n",
      "pooled train clustering acc (vec_y correlation):  0.4270833333333333\n",
      "[[ 81  82  46]\n",
      " [ 61 147  57]\n",
      " [ 26 107  65]]\n",
      "Correlation with HER2 scores training 0.20744778627579624\n",
      "Correlation with HER2 scores validation 0.18482285753339348\n",
      "now:  2024-04-17 09:35:19.744778 epoch time:  0:00:41.563805 used:  0:05:05.439195\n",
      "Epoch 8. Pretraining.\n",
      "[-0.43687357606684823, 0.1925595305535095, -0.2105972595430098, 0.2105972595430098, -0.3729197138327937, 0.010466913992501341]\n",
      "[-0.40676725567965394, 0.18120116146681164, -0.199612208501593, 0.199612208501593, -0.34915874054639146, 0.010970168810547664]\n",
      "pi:\n",
      "[0.33991408 0.25500098 0.40508488]\n",
      "epoch: 8\n",
      "[0.266690179489519, -0.4148013384563747, -0.1014512746085808, 0.10145127460858079, 0.10483093082874825, 0.31157610727504315]\n",
      "[0.23949400247017488, -0.3827466587552766, -0.09764786870821834, 0.09764786870821834, 0.0910681872145725, 0.2907903345214453]\n",
      "pooled train clustering acc (vec_d correlation):  0.4494047619047619\n",
      "[[122  17 125]\n",
      " [ 88   5  64]\n",
      " [ 38  38 175]]\n",
      "clustering validation acc:  0.43005952380952384\n",
      "[[ 17 111 141]\n",
      " [  5 101  52]\n",
      " [ 38  36 171]]\n",
      "pooled train clustering acc (vec_y correlation):  0.43005952380952384\n",
      "[[157  52  60]\n",
      " [ 81  59  18]\n",
      " [ 98  57  90]]\n",
      "Correlation with HER2 scores training 0.31157610727504315\n",
      "Correlation with HER2 scores validation 0.2907903345214453\n",
      "now:  2024-04-17 09:36:04.831948 epoch time:  0:00:45.087170 used:  0:05:50.526365\n",
      "Epoch 9. Pretraining.\n",
      "[0.2543711845842601, -0.40813702014568815, -0.1237034720227561, 0.1237034720227561, 0.08632187634374992, 0.32133083160269144]\n",
      "[0.31013260791346, -0.4402091267867217, -0.08222373103708806, 0.08222373103708806, 0.1451101598345809, 0.32158697916224066]\n",
      "pi:\n",
      "[0.35193524 0.32865974 0.319405  ]\n",
      "epoch: 9\n",
      "[-0.13731251976761882, 0.38105769414854096, 0.2245521427828259, -0.2245521427828259, 0.048912407837466795, -0.35098642654903367]\n",
      "[-0.1723722722593435, 0.37771134148902735, 0.1951005096808941, -0.1951005096808941, 0.00989600115153454, -0.3342090511331378]\n",
      "pooled train clustering acc (vec_d correlation):  0.4494047619047619\n",
      "[[142  17  93]\n",
      " [143  34  29]\n",
      " [ 79   9 126]]\n",
      "clustering validation acc:  0.4479166666666667\n",
      "[[139  18  93]\n",
      " [149  35  28]\n",
      " [ 76   7 127]]\n",
      "pooled train clustering acc (vec_y correlation):  0.4419642857142857\n",
      "[[131  56  63]\n",
      " [ 87  82  43]\n",
      " [118  30  62]]\n",
      "Correlation with HER2 scores training 0.38105769414854096\n",
      "Correlation with HER2 scores validation 0.37771134148902735\n",
      "now:  2024-04-17 09:36:46.297430 epoch time:  0:00:41.465482 used:  0:06:31.991847\n",
      "Epoch 10. Pretraining.\n",
      "[-0.1996259797673177, 0.41534505745310096, 0.1921693268074958, -0.19216932680749577, -0.0038078051998578417, -0.34976583127163874]\n",
      "[-0.19826258680827083, 0.3915078504083871, 0.1669994746855527, -0.1669994746855527, -0.01900707572524613, -0.32314686419035754]\n",
      "pi:\n",
      "[0.38367128 0.34719577 0.26913294]\n",
      "epoch: 10\n",
      "[-0.40903776691638716, 0.103936860688764, -0.27099066807947947, 0.27099066807947947, -0.38406151140202804, 0.10290100522974513]\n",
      "[-0.4027864419064209, 0.11864079503442201, -0.2537539027711336, 0.2537539027711335, -0.3690566369339868, 0.08612919487058011]\n",
      "pooled train clustering acc (vec_d correlation):  0.43154761904761907\n",
      "[[171  37  40]\n",
      " [130  17 106]\n",
      " [ 63   6 102]]\n",
      "clustering validation acc:  0.4538690476190476\n",
      "[[170  31  34]\n",
      " [137  21 100]\n",
      " [ 57   8 114]]\n",
      "pooled train clustering acc (vec_y correlation):  0.4375\n",
      "[[ 87  94  54]\n",
      " [ 56 147  55]\n",
      " [ 25  95  59]]\n",
      "Correlation with HER2 scores training 0.27099066807947947\n",
      "Correlation with HER2 scores validation 0.2537539027711335\n",
      "now:  2024-04-17 09:37:31.088930 epoch time:  0:00:44.791500 used:  0:07:16.783347\n",
      "Epoch 11. Pretraining.\n",
      "[-0.3665939783449948, 0.08123804734889449, -0.24623237292265254, 0.24623237292265254, -0.34410923972102136, 0.10198113866623884]\n",
      "[-0.39926196009847453, 0.12475152746160191, -0.23721920190414694, 0.23721920190414694, -0.35437873298724454, 0.0750966173138833]\n",
      "pi:\n",
      "[0.19367775 0.37719625 0.42912602]\n",
      "epoch: 11\n",
      "[0.00623997832865209, 0.2929988451845391, 0.3619416404636246, -0.3619416404636246, 0.22617507571867354, -0.36413810158712395]\n",
      "[0.06898247016169043, 0.25214382021797216, 0.3908589635560981, -0.3908589635560981, 0.29052439136619257, -0.34898166784684875]\n",
      "pooled train clustering acc (vec_d correlation):  0.5163690476190477\n",
      "[[  4  38  63]\n",
      " [ 34 189  31]\n",
      " [ 22 137 154]]\n",
      "clustering validation acc:  0.4955357142857143\n",
      "[[  5  46  62]\n",
      " [ 35 182  40]\n",
      " [ 20 136 146]]\n",
      "pooled train clustering acc (vec_y correlation):  0.44047619047619047\n",
      "[[ 43  15  55]\n",
      " [ 64  88 105]\n",
      " [ 61  65 176]]\n",
      "Correlation with HER2 scores training 0.3619416404636246\n",
      "Correlation with HER2 scores validation 0.3908589635560981\n",
      "now:  2024-04-17 09:38:12.213510 epoch time:  0:00:41.124580 used:  0:07:57.907927\n",
      "Epoch 12. Pretraining.\n",
      "[0.005001689074597431, 0.271246649673274, 0.35464812693727726, -0.35464812693727726, 0.22956844615406424, -0.3410734878949594]\n",
      "[0.01290424036803084, 0.2883939168117357, 0.38219129419152076, -0.38219129419152076, 0.2519609648410934, -0.36549245300663397]\n",
      "pi:\n",
      "[0.3712995  0.40063795 0.22806256]\n",
      "epoch: 12\n",
      "[0.4216265694194556, -0.10925088052612794, 0.256535120980235, -0.256535120980235, 0.3789688013018227, -0.09247488655728882]\n",
      "[0.4252217328461701, -0.1314408889408924, 0.24503542467376518, -0.24503542467376518, 0.37426813409509524, -0.0740603957833628]\n",
      "pooled train clustering acc (vec_d correlation):  0.5148809523809523\n",
      "[[137  76  11]\n",
      " [ 99 185  25]\n",
      " [ 12 103  24]]\n",
      "clustering validation acc:  0.5178571428571429\n",
      "[[136  84  10]\n",
      " [100 185  23]\n",
      " [ 12  95  27]]\n",
      "pooled train clustering acc (vec_y correlation):  0.42857142857142855\n",
      "[[ 70 123  37]\n",
      " [ 77 167  64]\n",
      " [ 21  46  67]]\n",
      "Correlation with HER2 scores training 0.4216265694194556\n",
      "Correlation with HER2 scores validation 0.4252217328461701\n",
      "now:  2024-04-17 09:38:57.104550 epoch time:  0:00:44.891040 used:  0:08:42.798967\n",
      "Epoch 13. Pretraining.\n",
      "[0.38998328781562097, -0.1534263221566956, 0.19683185621203916, -0.19683185621203916, 0.32788378069169044, -0.032714265270306075]\n",
      "[0.42007661572331423, -0.0875537411217514, 0.2752302185776707, -0.27523021857767066, 0.3885023650959531, -0.1159778372855466]\n",
      "pi:\n",
      "[0.21718326 0.4120491  0.3707676 ]\n",
      "epoch: 13\n",
      "[0.04297576773881056, 0.2709883545858396, 0.36228392876884746, -0.36228392876884763, 0.25107315680199127, -0.35054844429238957]\n",
      "[0.045925142897673826, 0.2788007599435882, 0.38085082733465025, -0.38085082733465025, 0.2648200497813452, -0.3642173019831544]\n",
      "pooled train clustering acc (vec_d correlation):  0.46577380952380953\n",
      "[[  4  50  80]\n",
      " [ 40 185  44]\n",
      " [ 16 129 124]]\n",
      "clustering validation acc:  0.4479166666666667\n",
      "[[  7  51  81]\n",
      " [ 37 176  49]\n",
      " [ 16 137 118]]\n",
      "pooled train clustering acc (vec_y correlation):  0.45089285714285715\n",
      "[[ 52  14  73]\n",
      " [ 57  97 108]\n",
      " [ 59  57 155]]\n",
      "Correlation with HER2 scores training 0.36228392876884746\n",
      "Correlation with HER2 scores validation 0.38085082733465025\n",
      "now:  2024-04-17 09:39:38.437140 epoch time:  0:00:41.332590 used:  0:09:24.131557\n",
      "Epoch 14. Pretraining.\n",
      "[0.08474846601927719, 0.2750694846041779, 0.4196910685769192, -0.4196910685769192, 0.31774811578804435, -0.37905471040397803]\n",
      "[0.07448649278689529, 0.268678236684126, 0.39793533685851507, -0.39793533685851507, 0.29685147903358133, -0.3648046967799493]\n",
      "pi:\n",
      "[0.32367247 0.24875142 0.42757607]\n",
      "epoch: 14\n",
      "[0.22457112193483972, 0.17869316478106206, 0.4518696118320525, -0.4518696118320525, 0.38252488917795724, -0.36944986368118754]\n",
      "[0.21640970185726718, 0.12626588963322838, 0.38768200506213246, -0.38768200506213246, 0.3401870859860279, -0.303203286403285]\n",
      "pooled train clustering acc (vec_d correlation):  0.49404761904761907\n",
      "[[126  10  74]\n",
      " [ 21  32 116]\n",
      " [101  18 174]]\n",
      "clustering validation acc:  0.47172619047619047\n",
      "[[121   6  80]\n",
      " [ 21  26 114]\n",
      " [106  28 170]]\n",
      "pooled train clustering acc (vec_y correlation):  0.44345238095238093\n",
      "[[ 68  24 115]\n",
      " [ 33  74  54]\n",
      " [ 67  70 167]]\n",
      "Correlation with HER2 scores training 0.4518696118320525\n",
      "Correlation with HER2 scores validation 0.38768200506213246\n",
      "now:  2024-04-17 09:40:23.356167 epoch time:  0:00:44.919027 used:  0:10:09.050584\n",
      "Epoch 15. Pretraining.\n",
      "[0.2188648293614822, 0.18178802634611857, 0.4417701956387302, -0.44177019563873005, 0.3730180997273349, -0.36682196483216684]\n",
      "[0.1992314627651893, 0.17423793275451863, 0.4197833404981117, -0.4197833404981117, 0.34754077810142503, -0.3506303844155295]\n",
      "pi:\n",
      "[0.22658736 0.34351048 0.42990214]\n",
      "epoch: 15\n",
      "[-0.10818452657491316, -0.2704550696104649, -0.4409438872417681, 0.4409438872417681, -0.33026378455940375, 0.3957075449467673]\n",
      "[-0.0925688263818115, -0.2187116616284829, -0.3711485488892451, 0.371148548889245, -0.2812187889883093, 0.3252516970903919]\n",
      "pooled train clustering acc (vec_d correlation):  0.5119047619047619\n",
      "[[ 26  15 107]\n",
      " [  8 137  76]\n",
      " [ 26  96 181]]\n",
      "clustering validation acc:  0.49702380952380953\n",
      "[[ 27  12  99]\n",
      " [ 10 131  89]\n",
      " [ 23 105 176]]\n",
      "pooled train clustering acc (vec_y correlation):  0.4642857142857143\n",
      "[[ 65  24  49]\n",
      " [ 28  71 131]\n",
      " [ 75  73 156]]\n",
      "Correlation with HER2 scores training 0.4409438872417681\n",
      "Correlation with HER2 scores validation 0.371148548889245\n",
      "now:  2024-04-17 09:41:04.607448 epoch time:  0:00:41.251281 used:  0:10:50.301865\n",
      "Epoch 16. Pretraining.\n",
      "[-0.09196581818065819, -0.26329858747902635, -0.4188685462013583, 0.4188685462013583, -0.3042860609864603, 0.38126321697989457]\n",
      "[-0.07767256041522942, -0.24832957501632139, -0.38866818939564896, 0.38866818939564896, -0.2842109463425895, 0.3516740254754775]\n",
      "pi:\n",
      "[0.24992013 0.38597015 0.3641097 ]\n",
      "epoch: 16\n",
      "[0.37136841943384846, -0.21347313387573494, 0.11639461022638191, -0.11639461022638191, 0.29188443674404424, 0.06350535281741972]\n",
      "[0.39268865906960554, -0.2652451373113131, 0.08339046568962444, -0.08339046568962448, 0.285500268723308, 0.11252009195289042]\n",
      "pooled train clustering acc (vec_d correlation):  0.4181547619047619\n",
      "[[  3  86  64]\n",
      " [ 27 125 147]\n",
      " [ 30  37 153]]\n",
      "clustering validation acc:  0.44047619047619047\n",
      "[[  4  90  59]\n",
      " [ 25 124 137]\n",
      " [ 31  34 168]]\n",
      "pooled train clustering acc (vec_y correlation):  0.4538690476190476\n",
      "[[ 50  79  24]\n",
      " [ 66 161  59]\n",
      " [ 52  96  85]]\n",
      "Correlation with HER2 scores training 0.37136841943384846\n",
      "Correlation with HER2 scores validation 0.39268865906960554\n",
      "now:  2024-04-17 09:41:49.462965 epoch time:  0:00:44.855517 used:  0:11:35.157382\n",
      "Epoch 17. Pretraining.\n",
      "[0.3594198530392751, -0.2617550071447549, 0.06026923566572393, -0.06026923566572395, 0.2489788062781933, 0.12124820107288548]\n",
      "[0.39012045133656215, -0.23720033433672, 0.11150420797783993, -0.11150420797783991, 0.302752294185543, 0.08189364997113799]\n",
      "############################################################\n",
      "Epoch 17: Finished pretraining and starting to use the full model loss.\n",
      "############################################################\n",
      "pi:\n",
      "[0.24984759 0.38603583 0.3641166 ]\n",
      "epoch: 17\n",
      "[0.35869814356741875, -0.3040961353905556, -0.011935470226568396, 0.01193547022656839, 0.21409892110230055, 0.18965284286390258]\n",
      "[0.41755298416419123, -0.27299287110098563, 0.0895336384935461, -0.0895336384935461, 0.3150524095132674, 0.11982115204806798]\n",
      "pooled train clustering acc (vec_d correlation):  0.4851190476190476\n",
      "[[  6  74  39]\n",
      " [ 19 130 135]\n",
      " [ 35  44 190]]\n",
      "clustering validation acc:  0.4806547619047619\n",
      "[[  7  64  54]\n",
      " [ 19 131 125]\n",
      " [ 34  53 185]]\n",
      "pooled train clustering acc (vec_y correlation):  0.4583333333333333\n",
      "[[ 41  70  14]\n",
      " [ 67 153  55]\n",
      " [ 60 113  99]]\n",
      "Correlation with HER2 scores training 0.35869814356741875\n",
      "Correlation with HER2 scores validation 0.41755298416419123\n",
      "now:  2024-04-17 09:42:28.631760 epoch time:  0:00:39.168795 used:  0:12:14.326177\n",
      "Epoch 18.\n",
      "[0.3899126062891209, -0.2868454891888442, 0.04275570792289415, -0.042755707922894126, 0.2686341271747185, 0.15193883934565444]\n",
      "[0.37703953610192065, -0.3271309453308102, -0.02510940147924865, 0.025109401479248672, 0.2219483384070095, 0.2124791865667391]\n",
      "pi:\n",
      "[0.2497684  0.38604373 0.36418787]\n",
      "epoch: 18\n",
      "[0.3944639824492273, -0.353048878459006, -0.060842148409255836, 0.060842148409255836, 0.2181019913262535, 0.24809362994341377]\n",
      "[0.36143498958473036, -0.295361246988182, -0.01169003292398019, 0.011690032923980131, 0.22919806527848308, 0.18951834493321326]\n",
      "pooled train clustering acc (vec_d correlation):  0.5193452380952381\n",
      "[[  6  57  42]\n",
      " [ 17 145 124]\n",
      " [ 37  46 198]]\n",
      "clustering validation acc:  0.49255952380952384\n",
      "[[  6  69  45]\n",
      " [ 21 128 122]\n",
      " [ 33  51 197]]\n",
      "pooled train clustering acc (vec_y correlation):  0.44345238095238093\n",
      "[[ 44  66  10]\n",
      " [ 66 144  61]\n",
      " [ 58 126  97]]\n",
      "Correlation with HER2 scores training 0.3944639824492273\n",
      "Correlation with HER2 scores validation 0.36143498958473036\n",
      "now:  2024-04-17 09:43:11.169461 epoch time:  0:00:42.537701 used:  0:12:56.863878\n",
      "Epoch 19.\n",
      "[0.4089310324038059, -0.33690167925879666, -0.013011417723692747, 0.013011417723692718, 0.2581706077385959, 0.21574665327410267]\n",
      "[0.40111806834436103, -0.3013128782589328, 0.01670927486500838, -0.016709274865008342, 0.27331911142027976, 0.1790982656888119]\n",
      "pi:\n",
      "[0.2496861  0.38603514 0.36427876]\n",
      "epoch: 19\n",
      "[0.39469937499783975, -0.3838997069011399, -0.09639511996646799, 0.09639511996646792, 0.2015654484955551, 0.2872953323901864]\n",
      "[0.32845185338756516, -0.2721023859423874, -0.027560042094912314, 0.027560042094912314, 0.1986741255496896, 0.18228080187797624]\n",
      "pooled train clustering acc (vec_d correlation):  0.5357142857142857\n",
      "[[  8  53  39]\n",
      " [ 19 141 114]\n",
      " [ 33  54 211]]\n",
      "clustering validation acc:  0.5208333333333334\n",
      "[[  2  57  40]\n",
      " [ 12 133 109]\n",
      " [ 46  58 215]]\n",
      "pooled train clustering acc (vec_y correlation):  0.4255952380952381\n",
      "[[ 31  58  10]\n",
      " [ 69 140  45]\n",
      " [ 68 138 113]]\n",
      "Correlation with HER2 scores training 0.39469937499783975\n",
      "Correlation with HER2 scores validation 0.32845185338756516\n",
      "now:  2024-04-17 09:43:50.009928 epoch time:  0:00:38.840467 used:  0:13:35.704345\n",
      "Epoch 20.\n",
      "[0.35081003182704046, -0.31590906152579284, -0.0421981699136399, 0.042198169913639914, 0.20636997874118632, 0.2193034661174814]\n",
      "[0.3795503754524634, -0.3380141614554132, -0.04883380933711152, 0.04883380933711152, 0.22022395854298354, 0.23526130142189863]\n",
      "pi:\n",
      "[0.2495836  0.38605747 0.3643589 ]\n",
      "epoch: 20\n",
      "[0.34356407618287327, -0.29264852893857524, -0.02132816232503683, 0.02132816232503683, 0.21219115752156603, 0.19329944783975506]\n",
      "[0.3594546001090923, -0.32900287720346993, -0.0759900484672344, 0.0759900484672344, 0.19629042207426675, 0.24352995442167752]\n",
      "pooled train clustering acc (vec_d correlation):  0.5074404761904762\n",
      "[[  4  56  46]\n",
      " [ 15 134 115]\n",
      " [ 41  58 203]]\n",
      "clustering validation acc:  0.5133928571428571\n",
      "[[  6  61  44]\n",
      " [ 17 129 110]\n",
      " [ 37  58 210]]\n",
      "pooled train clustering acc (vec_y correlation):  0.4494047619047619\n",
      "[[ 46  47  18]\n",
      " [ 56 157  43]\n",
      " [ 66 132 107]]\n",
      "Correlation with HER2 scores training 0.34356407618287327\n",
      "Correlation with HER2 scores validation 0.3594546001090923\n",
      "now:  2024-04-17 09:44:32.752299 epoch time:  0:00:42.742371 used:  0:14:18.446716\n",
      "Epoch 21.\n",
      "[0.284662045092171, -0.2478536230348536, -0.019163627658682056, 0.019163627658682056, 0.1725843266012859, 0.16361854399782513]\n",
      "[0.3747782508021728, -0.3681899362077996, -0.11755402818602644, 0.11755402818602644, 0.1777720374671469, 0.2867198240229962]\n",
      "pi:\n",
      "[0.24949047 0.38605356 0.364456  ]\n",
      "epoch: 21\n",
      "[0.3874719242745462, -0.34275082354330516, -0.0641799864869237, 0.0641799864869237, 0.22146997030017798, 0.2462521142633837]\n",
      "[0.38353795904018084, -0.3292240173737679, -0.03204716138794594, 0.032047161387945916, 0.2391476647285568, 0.2241164986384253]\n",
      "pooled train clustering acc (vec_d correlation):  0.5029761904761905\n",
      "[[  3  58  38]\n",
      " [ 16 132 123]\n",
      " [ 41  58 203]]\n",
      "clustering validation acc:  0.5193452380952381\n",
      "[[  4  49  49]\n",
      " [ 14 135 105]\n",
      " [ 42  64 210]]\n",
      "pooled train clustering acc (vec_y correlation):  0.40327380952380953\n",
      "[[ 35  52  15]\n",
      " [ 62 143  49]\n",
      " [ 71 141 104]]\n",
      "Correlation with HER2 scores training 0.3874719242745462\n",
      "Correlation with HER2 scores validation 0.38353795904018084\n",
      "now:  2024-04-17 09:45:11.717817 epoch time:  0:00:38.965518 used:  0:14:57.412234\n",
      "Epoch 22.\n",
      "[0.3227202926457815, -0.31063047181707093, -0.09408377585644387, 0.09408377585644387, 0.1563576181280082, 0.2389048677603541]\n",
      "[0.3399125921499107, -0.320381242970787, -0.07889852767623168, 0.07889852767623168, 0.17701578575830154, 0.2384989039065602]\n",
      "pi:\n",
      "[0.24938135 0.38607267 0.364546  ]\n",
      "epoch: 22\n",
      "[0.3517797736408737, -0.2944294603015373, -0.025222788240976242, 0.025222788240976242, 0.21752772455342392, 0.19645948680124892]\n",
      "[0.3658527205333331, -0.31561837903706325, -0.028693502357299765, 0.028693502357299765, 0.22638060961488712, 0.21301853794979278]\n",
      "pooled train clustering acc (vec_d correlation):  0.5163690476190477\n",
      "[[  3  52  34]\n",
      " [ 21 130 116]\n",
      " [ 36  66 214]]\n",
      "clustering validation acc:  0.5044642857142857\n",
      "[[  4  51  37]\n",
      " [ 17 129 121]\n",
      " [ 39  68 206]]\n",
      "pooled train clustering acc (vec_y correlation):  0.44047619047619047\n",
      "[[ 26  53  13]\n",
      " [ 77 149  41]\n",
      " [ 65 134 114]]\n",
      "Correlation with HER2 scores training 0.3517797736408737\n",
      "Correlation with HER2 scores validation 0.3658527205333331\n",
      "now:  2024-04-17 09:45:54.482976 epoch time:  0:00:42.765159 used:  0:15:40.177393\n",
      "Epoch 23.\n",
      "[0.3164214722150138, -0.3365999116112735, -0.10078667147219733, 0.10078667147219741, 0.1445795580600908, 0.2600692217550936]\n",
      "[0.32670909947090426, -0.29141292819463543, -0.049078179545074666, 0.049078179545074666, 0.1883427339336776, 0.20692046012876694]\n",
      "pi:\n",
      "[0.24930085 0.3860356  0.36466357]\n",
      "epoch: 23\n",
      "[0.36596960569700715, -0.3143970309865653, -0.05004766059691102, 0.05004766059691102, 0.2199100629533, 0.2228703305375254]\n",
      "[0.35270040912610495, -0.3344257236154393, -0.062072066529178176, 0.062072066529178196, 0.19343978480705293, 0.23999716597038026]\n",
      "pooled train clustering acc (vec_d correlation):  0.5476190476190477\n",
      "[[  4  45  33]\n",
      " [ 15 142 109]\n",
      " [ 41  61 222]]\n",
      "clustering validation acc:  0.5178571428571429\n",
      "[[  2  50  44]\n",
      " [  8 138 112]\n",
      " [ 50  60 208]]\n",
      "pooled train clustering acc (vec_y correlation):  0.44047619047619047\n",
      "[[ 28  52  16]\n",
      " [ 68 146  44]\n",
      " [ 72 138 108]]\n",
      "Correlation with HER2 scores training 0.36596960569700715\n",
      "Correlation with HER2 scores validation 0.35270040912610495\n",
      "now:  2024-04-17 09:46:33.631689 epoch time:  0:00:39.148713 used:  0:16:19.326106\n",
      "Epoch 24.\n",
      "[0.3507344444624432, -0.2952874558935415, -0.035856564384822036, 0.035856564384822036, 0.21277299820161408, 0.2024133554092745]\n",
      "[0.3531375188723406, -0.3310072685482839, -0.07442808825660682, 0.07442808825660682, 0.18972776285541235, 0.2438611554589704]\n",
      "pi:\n",
      "[0.2492091 0.3860086 0.3647823]\n",
      "epoch: 24\n",
      "[0.3324675846948457, -0.3090231043724152, -0.08173391075234447, 0.08173391075234447, 0.17835519807878986, 0.2345043255297193]\n",
      "[0.35134528704484447, -0.3441315466726524, -0.07514446485608692, 0.07514446485608693, 0.18673335954490822, 0.25363406042340686]\n",
      "pooled train clustering acc (vec_d correlation):  0.5089285714285714\n",
      "[[  3  56  42]\n",
      " [ 10 123 106]\n",
      " [ 47  69 216]]\n",
      "clustering validation acc:  0.5148809523809523\n",
      "[[  5  54  32]\n",
      " [ 18 126 117]\n",
      " [ 37  68 215]]\n",
      "pooled train clustering acc (vec_y correlation):  0.4494047619047619\n",
      "[[ 34  48   9]\n",
      " [ 63 146  52]\n",
      " [ 71 142 107]]\n",
      "Correlation with HER2 scores training 0.3324675846948457\n",
      "Correlation with HER2 scores validation 0.35134528704484447\n",
      "now:  2024-04-17 09:47:16.413944 epoch time:  0:00:42.782255 used:  0:17:02.108361\n",
      "Epoch 25.\n",
      "[0.32337605526139734, -0.2898179428143511, -0.062207570496245944, 0.062207570496245944, 0.18163656478113674, 0.21245086420745313]\n",
      "[0.32107525219792793, -0.2943666124621096, -0.07461267819675278, 0.07461267819675278, 0.17314055570123726, 0.22113083295263491]\n",
      "pi:\n",
      "[0.24908835 0.38602084 0.36489078]\n",
      "epoch: 25\n",
      "[0.3440637989305299, -0.3287072215850388, -0.08227942638491448, 0.08227942638491448, 0.18110898635944694, 0.24697021066895786]\n",
      "[0.36686353424444035, -0.3361723663113939, -0.05938442155572986, 0.05938442155572992, 0.20837861510562106, 0.2405789646887778]\n",
      "pooled train clustering acc (vec_d correlation):  0.5104166666666666\n",
      "[[  6  62  38]\n",
      " [ 13 121 110]\n",
      " [ 41  65 216]]\n",
      "clustering validation acc:  0.4955357142857143\n",
      "[[  2  71  30]\n",
      " [ 18 117 120]\n",
      " [ 40  60 214]]\n",
      "pooled train clustering acc (vec_y correlation):  0.4375\n",
      "[[ 33  46  24]\n",
      " [ 61 150  44]\n",
      " [ 74 140 100]]\n",
      "Correlation with HER2 scores training 0.3440637989305299\n",
      "Correlation with HER2 scores validation 0.36686353424444035\n",
      "now:  2024-04-17 09:47:55.801599 epoch time:  0:00:39.387655 used:  0:17:41.496016\n",
      "Epoch 26.\n",
      "[0.3579772331158302, -0.28703662851671263, -0.004585866612653968, 0.004585866612653968, 0.23786703770459794, 0.1835626902858232]\n",
      "[0.3185245967638367, -0.3267232430474387, -0.09412288610127255, 0.09412288610127255, 0.1507360468367417, 0.2501839589668018]\n",
      "pi:\n",
      "[0.24899036 0.38601422 0.36499542]\n",
      "epoch: 26\n",
      "[0.29819073025880893, -0.2992954862437412, -0.08098793571131789, 0.08098793571131788, 0.14567116657404314, 0.22654520452293758]\n",
      "[0.3218017243652014, -0.3266368844630024, -0.08525927970008068, 0.08525927970008068, 0.15579037951033328, 0.2450593528668161]\n",
      "pooled train clustering acc (vec_d correlation):  0.5163690476190477\n",
      "[[  3  61  39]\n",
      " [ 16 134 115]\n",
      " [ 41  53 210]]\n",
      "clustering validation acc:  0.5044642857142857\n",
      "[[  2  65  41]\n",
      " [ 18 123 109]\n",
      " [ 40  60 214]]\n",
      "pooled train clustering acc (vec_y correlation):  0.43452380952380953\n",
      "[[ 35  56  17]\n",
      " [ 64 144  42]\n",
      " [ 69 136 109]]\n",
      "Correlation with HER2 scores training 0.29819073025880893\n",
      "Correlation with HER2 scores validation 0.3218017243652014\n",
      "now:  2024-04-17 09:48:38.591443 epoch time:  0:00:42.789844 used:  0:18:24.285860\n",
      "Epoch 27.\n",
      "[0.34194972893904974, -0.3053093592147131, -0.037356150596989046, 0.037356150596989046, 0.2028439009687061, 0.2100110698084969]\n",
      "[0.3443670032129401, -0.3204823646098127, -0.07697603842362848, 0.07697603842362848, 0.17921075584621002, 0.23669385517995517]\n",
      "pi:\n",
      "[0.24889217 0.3860378  0.36507004]\n",
      "epoch: 27\n",
      "[0.33610957620624177, -0.25593993706030244, 0.012758191584740263, -0.012758191584740263, 0.22981147856728282, 0.1537436766891506]\n",
      "[0.36650238902185606, -0.298237792578148, -0.020464187562436755, 0.020464187562436755, 0.23296977374520328, 0.1971045363411461]\n",
      "pooled train clustering acc (vec_d correlation):  0.49851190476190477\n",
      "[[  4  61  47]\n",
      " [ 19 130 116]\n",
      " [ 37  57 201]]\n",
      "clustering validation acc:  0.5059523809523809\n",
      "[[  6  63  30]\n",
      " [ 13 121 121]\n",
      " [ 41  64 213]]\n",
      "pooled train clustering acc (vec_y correlation):  0.44642857142857145\n",
      "[[ 26  63  10]\n",
      " [ 65 137  53]\n",
      " [ 77 136 105]]\n",
      "Correlation with HER2 scores training 0.33610957620624177\n",
      "Correlation with HER2 scores validation 0.36650238902185606\n",
      "now:  2024-04-17 09:49:17.631001 epoch time:  0:00:39.039558 used:  0:19:03.325418\n",
      "Epoch 28.\n",
      "[0.3461368461078957, -0.3513867453485533, -0.10478999693535303, 0.10478999693535303, 0.16168008407872214, 0.2699521932791614]\n",
      "[0.3174900733041478, -0.26783397037529905, -0.02737455004758697, 0.02737455004758697, 0.19222167714460747, 0.180232587870246]\n",
      "pi:\n",
      "[0.24879886 0.38601863 0.3651825 ]\n",
      "epoch: 28\n",
      "[0.3218414685488167, -0.3108043245256185, -0.07758023969416489, 0.07758023969416489, 0.1659519254786362, 0.23257822571455683]\n",
      "[0.31467395332909115, -0.2546984543417296, -0.0147683526206205, 0.0147683526206205, 0.19950814910259437, 0.16623948538556854]\n",
      "pooled train clustering acc (vec_d correlation):  0.5119047619047619\n",
      "[[  6  62  39]\n",
      " [ 17 124 111]\n",
      " [ 37  62 214]]\n",
      "clustering validation acc:  0.5089285714285714\n",
      "[[  4  52  36]\n",
      " [ 15 119 109]\n",
      " [ 41  77 219]]\n",
      "pooled train clustering acc (vec_y correlation):  0.43005952380952384\n",
      "[[ 28  52  12]\n",
      " [ 61 143  39]\n",
      " [ 79 141 117]]\n",
      "Correlation with HER2 scores training 0.3218414685488167\n",
      "Correlation with HER2 scores validation 0.31467395332909115\n",
      "now:  2024-04-17 09:50:00.529740 epoch time:  0:00:42.898739 used:  0:19:46.224157\n",
      "Epoch 29.\n",
      "[0.3374983384454335, -0.304689440531335, -0.05263851221292648, 0.05263851221292648, 0.19283615142297705, 0.2170548020382873]\n",
      "[0.4089758723648773, -0.3465106383875327, -0.03481260779732373, 0.03481260779732376, 0.2583101356032186, 0.23719583500154123]\n",
      "pi:\n",
      "[0.24868876 0.3860412  0.36527005]\n",
      "epoch: 29\n",
      "[0.31152497789381783, -0.2921002846197956, -0.061859556663639736, 0.061859556663639736, 0.16710912236541567, 0.2126475266492176]\n",
      "[0.3365309780868916, -0.3101186618501067, -0.05410696228911208, 0.05410696228911208, 0.18480817225289833, 0.21902125472417655]\n",
      "pooled train clustering acc (vec_d correlation):  0.5148809523809523\n",
      "[[  6  61  37]\n",
      " [ 19 137 124]\n",
      " [ 35  50 203]]\n",
      "clustering validation acc:  0.5148809523809523\n",
      "[[  3  58  37]\n",
      " [ 14 130 114]\n",
      " [ 43  60 213]]\n",
      "pooled train clustering acc (vec_y correlation):  0.4255952380952381\n",
      "[[ 31  53  14]\n",
      " [ 65 149  44]\n",
      " [ 72 134 110]]\n",
      "Correlation with HER2 scores training 0.31152497789381783\n",
      "Correlation with HER2 scores validation 0.3365309780868916\n",
      "now:  2024-04-17 09:50:39.854633 epoch time:  0:00:39.324893 used:  0:20:25.549050\n",
      "Epoch 30.\n",
      "[0.3935159443738232, -0.30644482325613964, -0.007275314061100258, 0.007275314061100268, 0.2602690159648646, 0.1959145094708447]\n",
      "[0.33352067441753325, -0.2965647180132672, -0.05226686728691855, 0.05226686728691853, 0.18490221928501677, 0.2091133405354383]\n",
      "pi:\n",
      "[0.24858557 0.38605073 0.36536372]\n",
      "epoch: 30\n",
      "[0.3831836811504017, -0.27515193779358577, 0.04511136497287868, -0.04511136497287864, 0.2828440686411297, 0.15149375943823737]\n",
      "[0.3201165966964123, -0.3078647569132259, -0.07652820108990412, 0.07652820108990412, 0.16799654047042165, 0.2311247355148185]\n",
      "pooled train clustering acc (vec_d correlation):  0.5089285714285714\n",
      "[[  5  57  41]\n",
      " [ 11 131 117]\n",
      " [ 44  60 206]]\n",
      "clustering validation acc:  0.5267857142857143\n",
      "[[  3  57  35]\n",
      " [ 15 126 104]\n",
      " [ 42  65 225]]\n",
      "pooled train clustering acc (vec_y correlation):  0.44642857142857145\n",
      "[[ 34  45  16]\n",
      " [ 60 145  40]\n",
      " [ 74 146 112]]\n",
      "Correlation with HER2 scores training 0.3831836811504017\n",
      "Correlation with HER2 scores validation 0.3201165966964123\n",
      "now:  2024-04-17 09:51:22.919859 epoch time:  0:00:43.065226 used:  0:21:08.614276\n",
      "Epoch 31.\n",
      "[0.3417747648295303, -0.30395601207795037, -0.04235968441882456, 0.042359684418824615, 0.20181618855534864, 0.21194935811596796]\n",
      "[0.3680338075229437, -0.3076999507613287, -0.032853395951813184, 0.032853395951813184, 0.22630284136860865, 0.2089287358114151]\n",
      "pi:\n",
      "[0.24851276 0.3860397  0.36544755]\n",
      "epoch: 31\n",
      "[0.3463684509294673, -0.31245666467472205, -0.05419339614418794, 0.05419339614418801, 0.19533626759492317, 0.22166166381627234]\n",
      "[0.3372325259432445, -0.2851292884060474, -0.02782236281196409, 0.02782236281196409, 0.20310077274925137, 0.1906444529140032]\n",
      "pooled train clustering acc (vec_d correlation):  0.5238095238095238\n",
      "[[  5  57  38]\n",
      " [ 17 134 113]\n",
      " [ 38  57 213]]\n",
      "clustering validation acc:  0.5252976190476191\n",
      "[[  5  55  41]\n",
      " [ 17 129 104]\n",
      " [ 38  64 219]]\n",
      "pooled train clustering acc (vec_y correlation):  0.4107142857142857\n",
      "[[ 36  57   8]\n",
      " [ 55 149  46]\n",
      " [ 77 130 114]]\n",
      "Correlation with HER2 scores training 0.3463684509294673\n",
      "Correlation with HER2 scores validation 0.3372325259432445\n",
      "now:  2024-04-17 09:52:02.186396 epoch time:  0:00:39.266537 used:  0:21:47.880813\n",
      "Epoch 32.\n",
      "[0.3218919608406004, -0.2982410021082099, -0.06302442685605146, 0.06302442685605146, 0.1715875154112646, 0.2160811989664262]\n",
      "[0.383664666228831, -0.35893712425674296, -0.07952395822582672, 0.07952395822582672, 0.2059646609021081, 0.26351504747773696]\n",
      "pi:\n",
      "[0.2484079  0.38606972 0.36552238]\n",
      "epoch: 32\n",
      "[0.3351854505863445, -0.31016821606154626, -0.039876046269288416, 0.039876046269288395, 0.19049231371772188, 0.2121008987520451]\n",
      "[0.34272015160316, -0.26182588633306114, 0.0013702594395041449, -0.0013702594395041449, 0.2291021564875908, 0.1629268148778227]\n",
      "pooled train clustering acc (vec_d correlation):  0.49107142857142855\n",
      "[[  5  62  53]\n",
      " [ 21 127 113]\n",
      " [ 34  59 198]]\n",
      "clustering validation acc:  0.4880952380952381\n",
      "[[  4  60  63]\n",
      " [ 20 130 107]\n",
      " [ 36  58 194]]\n",
      "pooled train clustering acc (vec_y correlation):  0.4494047619047619\n",
      "[[ 45  61  21]\n",
      " [ 65 151  41]\n",
      " [ 58 124 106]]\n",
      "Correlation with HER2 scores training 0.3351854505863445\n",
      "Correlation with HER2 scores validation 0.34272015160316\n",
      "now:  2024-04-17 09:52:45.233481 epoch time:  0:00:43.047085 used:  0:22:30.927898\n",
      "Epoch 33.\n",
      "[0.3591380486619598, -0.3211641422476886, -0.04496574103201732, 0.044965741032017344, 0.20558147142223251, 0.2215399017563778]\n",
      "[0.3431865903336987, -0.28096048117730893, -0.0017397419734727717, 0.0017397419734727982, 0.21757034081083204, 0.173662096910375]\n",
      "pi:\n",
      "[0.24831142 0.38609013 0.3655984 ]\n",
      "epoch: 33\n",
      "[0.3848000086217303, -0.30174661256840346, 0.0058449780748188246, -0.0058449780748188246, 0.25766425957652217, 0.1859828662136368]\n",
      "[0.3231667626006434, -0.3031051715888704, -0.05231555777412857, 0.05231555777412857, 0.17355477416836865, 0.2125702567767301]\n",
      "pooled train clustering acc (vec_d correlation):  0.49255952380952384\n",
      "[[  6  65  48]\n",
      " [ 19 127 118]\n",
      " [ 35  56 198]]\n",
      "clustering validation acc:  0.5119047619047619\n",
      "[[  8  60  49]\n",
      " [ 19 137 116]\n",
      " [ 33  51 199]]\n",
      "pooled train clustering acc (vec_y correlation):  0.43601190476190477\n",
      "[[ 35  66  16]\n",
      " [ 69 151  52]\n",
      " [ 64 119 100]]\n",
      "Correlation with HER2 scores training 0.3848000086217303\n",
      "Correlation with HER2 scores validation 0.3231667626006434\n",
      "now:  2024-04-17 09:53:24.665573 epoch time:  0:00:39.432092 used:  0:23:10.359990\n",
      "Epoch 34.\n",
      "[0.3503305805565133, -0.2700872369718429, 0.019967130224916137, -0.019967130224916137, 0.23717856952429917, 0.15690265283459814]\n",
      "[0.3382565826295794, -0.2779055408744954, 0.0019304822967162482, -0.0019304822967162482, 0.21623212248059834, 0.17002739909114767]\n",
      "pi:\n",
      "[0.24821594 0.3861123  0.3656717 ]\n",
      "epoch: 34\n",
      "[0.35093268351541024, -0.31789765421949406, -0.06589286978419588, 0.06589286978419588, 0.19313329465394083, 0.23073549064699636]\n"
     ]
    }
   ],
   "source": [
    "exp.execute()"
   ]
  },
  {
   "cell_type": "code",
   "execution_count": null,
   "id": "96fc0114-5f45-48fe-8a25-9df2c601a28c",
   "metadata": {},
   "outputs": [],
   "source": [
    "vade_path = get_last_created_directory('./notebooks/')\n",
    "print(vade_path)"
   ]
  },
  {
   "cell_type": "code",
   "execution_count": 30,
   "id": "7449a041-e283-409e-a54e-68ac141c3bc8",
   "metadata": {},
   "outputs": [],
   "source": [
    "domain, vec_d, vec_y, img_locs, model_name, command_line = load_files('./notebooks/'+vade_path)"
   ]
  },
  {
   "cell_type": "code",
   "execution_count": 31,
   "id": "faed4bac-a0fb-4e43-aa6a-155c16b15612",
   "metadata": {},
   "outputs": [
    {
     "name": "stdout",
     "output_type": "stream",
     "text": [
      "unique predicted domain [1 2 3]\n",
      "unique true label [0 1 2]\n",
      "unique labels [0 1 2]\n",
      "[1 2 3]\n"
     ]
    },
    {
     "data": {
      "image/png": "[encoded data removed]",
      "text/plain": [
       "<Figure size 500x500 with 1 Axes>"
      ]
     },
     "metadata": {},
     "output_type": "display_data"
    }
   ],
   "source": [
    "vec_d_counters = something_per_domain(domain, vec_d)\n",
    "plot_something_per_domain_proportion(domain, vec_d, vec_d_counters, 10, legend = ['class1', 'class2', 'class3'], thres = None, title = None, digit_plot = True)"
   ]
  },
  {
   "cell_type": "code",
   "execution_count": 32,
   "id": "ed628daf-bcca-4734-8ba6-71b895d92ec3",
   "metadata": {},
   "outputs": [
    {
     "name": "stdout",
     "output_type": "stream",
     "text": [
      "unique predicted domain [1 2 3]\n",
      "unique true label [0 1 2]\n",
      "unique labels [0 1 2]\n",
      "[1 2 3]\n"
     ]
    },
    {
     "data": {
      "image/png": "[encoded data removed]",
      "text/plain": [
       "<Figure size 500x500 with 1 Axes>"
      ]
     },
     "metadata": {},
     "output_type": "display_data"
    }
   ],
   "source": [
    "vec_y_counters = something_per_domain(domain, vec_y)\n",
    "plot_something_per_domain_proportion(domain, vec_y, vec_y_counters, 10, legend = ['scanner1', 'scanner2', 'scanner3'], thres = None, title = None, digit_plot = True)"
   ]
  },
  {
   "cell_type": "markdown",
   "id": "4dd011d2-7baf-45f2-983f-bd7e5692123b",
   "metadata": {},
   "source": [
    "## DEC Experiments with HER2 data"
   ]
  },
  {
   "cell_type": "code",
   "execution_count": null,
   "id": "bd1463e1-6578-485e-9ea7-2e0ba9464950",
   "metadata": {
    "scrolled": true
   },
   "outputs": [],
   "source": [
    "exp = mk_exp(task='her2',model='dec',trainer='cluster', train_domain =\"0 1 2\", test_domain=\"0\", batchsize=\"4\",\n",
    "             dpath= HER2_PATH, zd_dim='500', model_method ='cnn',\n",
    "             prior='Gaus', pre_tr=17, epos=50, d_dim='3',lr='0.000005', nocu=False, L=5)"
   ]
  },
  {
   "cell_type": "code",
   "execution_count": null,
   "id": "89a94a35-5f60-401c-b10c-f4ba0457e03f",
   "metadata": {
    "scrolled": true
   },
   "outputs": [],
   "source": [
    "exp.execute()"
   ]
  },
  {
   "cell_type": "code",
   "execution_count": null,
   "id": "415b1e3e-d55c-4d92-87b7-3284dd65b001",
   "metadata": {},
   "outputs": [],
   "source": [
    "dec_path = get_last_created_directory('./notebooks/')\n",
    "print(dec_path)"
   ]
  },
  {
   "cell_type": "code",
   "execution_count": 33,
   "id": "ee5e67dd-3bcd-4c96-a612-8c02caf71759",
   "metadata": {},
   "outputs": [],
   "source": [
    "domain, vec_d, vec_y, img_locs, model_name, command_line = load_files('./notebooks/'+dec_path)"
   ]
  },
  {
   "cell_type": "code",
   "execution_count": 34,
   "id": "ff98bf57-3c0a-440b-a97f-b07888a2f3ce",
   "metadata": {},
   "outputs": [
    {
     "name": "stdout",
     "output_type": "stream",
     "text": [
      "unique predicted domain [1 2 3]\n",
      "unique true label [0 1 2]\n",
      "unique labels [0 1 2]\n",
      "[1 2 3]\n"
     ]
    },
    {
     "data": {
      "image/png": "[encoded data removed]",
      "text/plain": [
       "<Figure size 500x500 with 1 Axes>"
      ]
     },
     "metadata": {},
     "output_type": "display_data"
    }
   ],
   "source": [
    "vec_d_counters = something_per_domain(domain, vec_d)\n",
    "plot_something_per_domain_proportion(domain, vec_d, vec_d_counters, 10, legend = ['class1', 'class2', 'class3'], thres = None, title = None, digit_plot = True)"
   ]
  },
  {
   "cell_type": "code",
   "execution_count": 35,
   "id": "0403b213-f720-474d-9c7e-ea8a65b12854",
   "metadata": {},
   "outputs": [
    {
     "name": "stdout",
     "output_type": "stream",
     "text": [
      "unique predicted domain [1 2 3]\n",
      "unique true label [0 1 2]\n",
      "unique labels [0 1 2]\n",
      "[1 2 3]\n"
     ]
    },
    {
     "data": {
      "image/png": "[encoded data removed]",
      "text/plain": [
       "<Figure size 500x500 with 1 Axes>"
      ]
     },
     "metadata": {},
     "output_type": "display_data"
    }
   ],
   "source": [
    "vec_y_counters = something_per_domain(domain, vec_y)\n",
    "plot_something_per_domain_proportion(domain, vec_y, vec_y_counters, 10, legend = ['scanner1', 'scanner2', 'scanner3'], thres = None, title = None, digit_plot = True)"
   ]
  },
  {
   "cell_type": "markdown",
   "id": "8b425c1e-1c4b-4b1a-aabe-dd63b88f62ab",
   "metadata": {},
   "source": [
    "## CDVaDE Experiments with HER2 data"
   ]
  },
  {
   "cell_type": "code",
   "execution_count": null,
   "id": "759df900-f056-4d31-8e7d-827cfe56e4a3",
   "metadata": {
    "scrolled": true
   },
   "outputs": [],
   "source": [
    "exp = mk_exp(task='her2',model='vade',trainer='cluster', train_domain =\"0 1 2\", test_domain=\"0\", batchsize=\"4\",\n",
    "             dpath=HER2_PATH, zd_dim='500', model_method ='cnn',\n",
    "             prior='Gaus', pre_tr=17, epos=50, d_dim='3',lr='0.000005', dim_inject_y=3,\n",
    "             meta_data_csv=os.path.join(HER2_PATH, 'dataframe.csv'),  inject_var='class', nocu=False, L=5)"
   ]
  },
  {
   "cell_type": "code",
   "execution_count": null,
   "id": "bbc0f374-fa8f-40dc-9dd0-6d6a2b98e4a0",
   "metadata": {
    "scrolled": true
   },
   "outputs": [],
   "source": [
    "exp.execute()"
   ]
  },
  {
   "cell_type": "code",
   "execution_count": null,
   "id": "89a7fea7-46ac-46da-a093-1816ad79b477",
   "metadata": {},
   "outputs": [],
   "source": [
    "cdvade_path = get_last_created_directory('./notebooks/')"
   ]
  },
  {
   "cell_type": "code",
   "execution_count": 36,
   "id": "860f14cc-5076-4419-b9c6-7f3db0b2474a",
   "metadata": {},
   "outputs": [
    {
     "data": {
      "text/plain": [
       "'2024-04-17_10:39:22.988349_her2_vade'"
      ]
     },
     "execution_count": 36,
     "metadata": {},
     "output_type": "execute_result"
    }
   ],
   "source": [
    "cdvade_path"
   ]
  },
  {
   "cell_type": "code",
   "execution_count": 37,
   "id": "66571b7a-1ce2-422a-8669-ac13ca8c8aba",
   "metadata": {},
   "outputs": [],
   "source": [
    "domain, vec_d, vec_y, img_locs, model_name, command_line = load_files('./notebooks/'+cdvade_path)"
   ]
  },
  {
   "cell_type": "code",
   "execution_count": 38,
   "id": "2d1d3eed-54ae-4d99-ace1-b053a425ff31",
   "metadata": {},
   "outputs": [
    {
     "name": "stdout",
     "output_type": "stream",
     "text": [
      "unique predicted domain [1 2 3]\n",
      "unique true label [0 1 2]\n",
      "unique labels [0 1 2]\n",
      "[1 2 3]\n"
     ]
    },
    {
     "data": {
      "image/png": "[encoded data removed]",
      "text/plain": [
       "<Figure size 500x500 with 1 Axes>"
      ]
     },
     "metadata": {},
     "output_type": "display_data"
    }
   ],
   "source": [
    "vec_d_counters = something_per_domain(domain, vec_d)\n",
    "plot_something_per_domain_proportion(domain, vec_d, vec_d_counters, 10, legend = ['class1', 'class2', 'class3'], thres = None, title = None, digit_plot = True)"
   ]
  },
  {
   "cell_type": "code",
   "execution_count": 39,
   "id": "3b87f52c-f1b9-4744-8b00-e9b9730ea375",
   "metadata": {},
   "outputs": [
    {
     "name": "stdout",
     "output_type": "stream",
     "text": [
      "unique predicted domain [1 2 3]\n",
      "unique true label [0 1 2]\n",
      "unique labels [0 1 2]\n",
      "[1 2 3]\n"
     ]
    },
    {
     "data": {
      "image/png": "[encoded data removed]",
      "text/plain": [
       "<Figure size 500x500 with 1 Axes>"
      ]
     },
     "metadata": {},
     "output_type": "display_data"
    }
   ],
   "source": [
    "vec_y_counters = something_per_domain(domain, vec_y)\n",
    "plot_something_per_domain_proportion(domain, vec_y, vec_y_counters, 10, legend = ['scanner1', 'scanner2', 'scanner3'], thres = None, title = None, digit_plot = True)"
   ]
  },
  {
   "cell_type": "markdown",
   "id": "41934f1b-16cc-4ed6-8a4b-a92b5941b3e8",
   "metadata": {},
   "source": [
    "**To Perform further analysys, please follow to the notebook 'HER2_boxplot_visualizations.ipynb'!**"
   ]
  },
  {
   "cell_type": "markdown",
   "id": "c32f0489-769c-4df4-95af-603bc583cca7",
   "metadata": {},
   "source": [
    "You will need the directories for the results of the experiments.\n",
    "\n",
    "Example: \n",
    "\n",
    "ex_dec = './notebooks/2024-04-15_11:42:21.990399_her2_dec/'\n",
    "\n",
    "ex_vade = './notebooks/2024-04-12_13:23:14.404120_her2_vade/'\n",
    "\n",
    "Note that if you ran this entire notebook, then you have already assigned `vade_path`,`cdvade_path` and `dec_path`:"
   ]
  },
  {
   "cell_type": "code",
   "execution_count": 41,
   "id": "202b60fd-1567-4569-a1e7-eb7731ced3f0",
   "metadata": {},
   "outputs": [
    {
     "name": "stdout",
     "output_type": "stream",
     "text": [
      "2024-04-17_09:30:14.239867_her2_vade\n",
      "2024-04-17_10:39:22.988349_her2_vade\n",
      "2024-04-17_10:05:16.944029_her2_dec\n"
     ]
    }
   ],
   "source": [
    "print(vade_path)\n",
    "print(cdvade_path)\n",
    "print(dec_path)"
   ]
  },
  {
   "cell_type": "code",
   "execution_count": null,
   "id": "76d4c66b-f8c6-4643-a026-f3a2d773c769",
   "metadata": {},
   "outputs": [],
   "source": []
  }
 ],
 "metadata": {
  "kernelspec": {
   "display_name": "Python 3 (ipykernel)",
   "language": "python",
   "name": "python3"
  },
  "language_info": {
   "codemirror_mode": {
    "name": "ipython",
    "version": 3
   },
   "file_extension": ".py",
   "mimetype": "text/x-python",
   "name": "python",
   "nbconvert_exporter": "python",
   "pygments_lexer": "ipython3",
   "version": "3.10.7"
  }
 },
 "nbformat": 4,
 "nbformat_minor": 5
}
